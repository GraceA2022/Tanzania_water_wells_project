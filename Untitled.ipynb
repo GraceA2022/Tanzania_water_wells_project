{
 "cells": [
  {
   "cell_type": "markdown",
   "metadata": {},
   "source": [
    "# BUSINESS UNDERSTANDING\n",
    "\n",
    "### OVERVIEW\n",
    "\n",
    "The phrase \"water is life\" has been repeated many times. Water bodies aren't just beautiful additions to our planet's scenery; they also play a crucial role in our survival. Consequently, water is truly life. Water is important for domestic purposes, economic activities (such as production of electricity in the energy sector) and in health and hygiene. Recent data from the World Bank show that Tanzania has a population of about 60 million. According to Nsemwa (2022) many Tanzanians continue to struggle with insufficient or limited access to clean and safe water. Only 30.6% of Tanzanian households use recommended water treatment methods, and only 22.8% have adequate hand-washing facilities (Ministry of Health report, 2019). Poor sanitation is estimated to cause 432,000 diarrhoea-related deaths per year and is a major contributor to several Neglected Tropical Diseases (NTDs) such as intestinal worms, schistosomiasis, and trachoma. Malnutrition is also made worse by poor sanitation (WHO, 2019).\n",
    "\n",
    "### Problem Statement\n",
    "Water shortage is a very serious problem in Tanzania and almost half the population lacks access to clean water.\n",
    "Since the initialization of Tanzania's Water Sector Development Program, which is a $6.5billion project,  in 2006 and expected to end in 2025, the Tanzanian govt has put its  focus on prioritizing water resources management and service delivery in the water and sanitation sector. To help them achieve their objective we will be looking at data from Tanzanian Ministry of Water\n",
    "which shows us the condition of different water well around the country.\n",
    "\n",
    "### Objective\n",
    "\n",
    "To build a model that classifies the functional status of water wells in Tanzania.  With this predictive model, the ministry can understand which water points are functional and nonfunctional or give useful information  for future wells.\n",
    "\n",
    "This model can help Tanzanian Ministry of water and sanitation  to identify patterns in non-functional wells in order to influence the design of new wells and also identify areas that might have a risk of water shortage.\n",
    "\n",
    "To aid in improving maintenance operations by focusing inspections to the water points that have a high likelihood of being in need of repair or having failed altogether.\n",
    "\n",
    "To determine the quality of water \n",
    "\n",
    "To determine if functionality varies by quantity.\n",
    "\n",
    "To Functionality status with respect to payment type\n",
    "\n",
    "\n",
    "#### Business Questions\n",
    "Does the amount tsh  affect functionality?\n",
    "\n",
    "\n",
    "#### Expected Benefits to the Organization\n",
    "\n",
    "It helps the investment of the Governnment on wells\n",
    "\n",
    "This model can help the Tanzanian Government to find likely maintainance for needy wells.\n",
    "\n",
    "We can use the Tanzanian Authorities how to use water sources in a productive way.\n",
    "\n",
    "### Business Success Criteria\n",
    "\n",
    "Above 75% accuracy in classification by the model.\n",
    "\n",
    "### Assessing the situation\n",
    "\n",
    "The study managed to find data from [Taarifa](https://taarifa.org/) and [Tanzanian Ministry of Water](https://www.maji.go.tz/) that deals on waterpoints throughout the country, to aid in the investigation.\n",
    "\n",
    "The resources to be used for this study include: \n",
    "* computers\n",
    "* Internet connectivity\n",
    "* Computer programming software\n",
    "* Jupyter notebook\n",
    "* Github\n",
    "* Jira\n",
    "\n",
    "\n",
    "\n",
    "\n",
    "\n",
    "\n"
   ]
  },
  {
   "cell_type": "code",
   "execution_count": null,
   "metadata": {},
   "outputs": [],
   "source": []
  }
 ],
 "metadata": {
  "kernelspec": {
   "display_name": "Python (learn-env)",
   "language": "python",
   "name": "learn-env"
  },
  "language_info": {
   "codemirror_mode": {
    "name": "ipython",
    "version": 3
   },
   "file_extension": ".py",
   "mimetype": "text/x-python",
   "name": "python",
   "nbconvert_exporter": "python",
   "pygments_lexer": "ipython3",
   "version": "3.8.5"
  }
 },
 "nbformat": 4,
 "nbformat_minor": 4
}
