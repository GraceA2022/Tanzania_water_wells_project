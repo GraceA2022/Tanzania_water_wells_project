{
 "cells": [
  {
   "cell_type": "markdown",
   "metadata": {},
   "source": [
    "# Data Understanding\n",
    "## Overview\n",
    "Using the data we have, we will attempt to gain more insight on how to construct the best model that predicts how waterpoints in the focus region that is the country: Tanzania are designed.\n",
    "In this phase of the investigation, the study inspected the data in an attempt to seek a deeper understanding about the data.\n",
    "\n",
    "## Data Description\n",
    "The target variable is ``status_group`` with the labels:\n",
    "* functional - the waterpoint is operational and there are no repairs needed\n",
    "* functional needs repair - the waterpoint is operational, but needs repairs\n",
    "* non functional - the waterpoint is not operational\n",
    "\n",
    "The predictor variables in this data include:\n",
    "* amount_tsh - Total static head (amount water available to waterpoint)\n",
    "* date_recorded - The date the row was entered\n",
    "* funder - Who funded the well\n",
    "* gps_height - Altitude of the well\n",
    "* installer - Organization that installed the well\n",
    "* longitude - GPS coordinate\n",
    "* latitude - GPS coordinate\n",
    "* wpt_name - Name of the waterpoint if there is one\n",
    "* num_private -\n",
    "* basin - Geographic water basin\n",
    "* subvillage - Geographic location\n",
    "* region - Geographic location\n",
    "* region_code - Geographic location (coded)\n",
    "* district_code - Geographic location (coded)\n",
    "* lga - Geographic location\n",
    "* ward - Geographic location\n",
    "* population - Population around the well\n",
    "* public_meeting - True/False\n",
    "* recorded_by - Group entering this row of data\n",
    "* scheme_management - Who operates the waterpoint\n",
    "* scheme_name - Who operates the waterpoint\n",
    "* permit - If the waterpoint is permitted\n",
    "* construction_year - Year the waterpoint was constructed\n",
    "* extraction_type - The kind of extraction the waterpoint uses\n",
    "* extraction_type_group - The kind of extraction the waterpoint uses\n",
    "* extraction_type_class - The kind of extraction the waterpoint uses\n",
    "* management - How the waterpoint is managed\n",
    "* management_group - How the waterpoint is managed\n",
    "* payment - What the water costs\n",
    "* payment_type - What the water costs\n",
    "* water_quality - The quality of the water\n",
    "* quality_group - The quality of the water\n",
    "* quantity - The quantity of water\n",
    "* quantity_group - The quantity of water\n",
    "* source - The source of the water\n",
    "* source_type - The source of the water\n",
    "* source_class - The source of the water\n",
    "* waterpoint_type - The kind of waterpoint\n",
    "* waterpoint_type_group - The kind of waterpoint"
   ]
  },
  {
   "cell_type": "code",
<<<<<<< HEAD
   "execution_count": 1,
=======
   "execution_count": 198,
>>>>>>> a67f86bf978a8e30b3f3d93419a2b246712377e6
   "metadata": {},
   "outputs": [],
   "source": [
    "# Importing the necessary libraries\n",
    "import pandas as pd\n",
    "import numpy as np\n",
    "import scipy.stats\n",
    "\n",
    "# Import visualization libraries\n",
    "import matplotlib.pyplot as plt\n",
    "%matplotlib inline\n",
    "import seaborn as sns\n",
    "\n",
    "plt.style.use('ggplot')\n",
    "\n",
    "import warnings\n",
    "warnings.filterwarnings(\"ignore\")"
   ]
  },
  {
   "cell_type": "code",
<<<<<<< HEAD
   "execution_count": 2,
=======
   "execution_count": 199,
>>>>>>> a67f86bf978a8e30b3f3d93419a2b246712377e6
   "metadata": {},
   "outputs": [
    {
     "data": {
      "text/html": [
       "<div>\n",
       "<style scoped>\n",
       "    .dataframe tbody tr th:only-of-type {\n",
       "        vertical-align: middle;\n",
       "    }\n",
       "\n",
       "    .dataframe tbody tr th {\n",
       "        vertical-align: top;\n",
       "    }\n",
       "\n",
       "    .dataframe thead th {\n",
       "        text-align: right;\n",
       "    }\n",
       "</style>\n",
       "<table border=\"1\" class=\"dataframe\">\n",
       "  <thead>\n",
       "    <tr style=\"text-align: right;\">\n",
       "      <th></th>\n",
       "      <th>id</th>\n",
       "      <th>amount_tsh</th>\n",
       "      <th>date_recorded</th>\n",
       "      <th>funder</th>\n",
       "      <th>gps_height</th>\n",
       "      <th>installer</th>\n",
       "      <th>longitude</th>\n",
       "      <th>latitude</th>\n",
       "      <th>wpt_name</th>\n",
       "      <th>num_private</th>\n",
       "      <th>...</th>\n",
       "      <th>water_quality</th>\n",
       "      <th>quality_group</th>\n",
       "      <th>quantity</th>\n",
       "      <th>quantity_group</th>\n",
       "      <th>source</th>\n",
       "      <th>source_type</th>\n",
       "      <th>source_class</th>\n",
       "      <th>waterpoint_type</th>\n",
       "      <th>waterpoint_type_group</th>\n",
       "      <th>status_group</th>\n",
       "    </tr>\n",
       "  </thead>\n",
       "  <tbody>\n",
       "    <tr>\n",
       "      <th>0</th>\n",
       "      <td>69572</td>\n",
       "      <td>6000.0</td>\n",
       "      <td>3/14/2011</td>\n",
       "      <td>Roman</td>\n",
       "      <td>1390</td>\n",
       "      <td>Roman</td>\n",
       "      <td>34.938093</td>\n",
       "      <td>-9.856322</td>\n",
       "      <td>none</td>\n",
       "      <td>0</td>\n",
       "      <td>...</td>\n",
       "      <td>soft</td>\n",
       "      <td>good</td>\n",
       "      <td>enough</td>\n",
       "      <td>enough</td>\n",
       "      <td>spring</td>\n",
       "      <td>spring</td>\n",
       "      <td>groundwater</td>\n",
       "      <td>communal standpipe</td>\n",
       "      <td>communal standpipe</td>\n",
       "      <td>functional</td>\n",
       "    </tr>\n",
       "    <tr>\n",
       "      <th>1</th>\n",
       "      <td>8776</td>\n",
       "      <td>0.0</td>\n",
       "      <td>3/6/2013</td>\n",
       "      <td>Grumeti</td>\n",
       "      <td>1399</td>\n",
       "      <td>GRUMETI</td>\n",
       "      <td>34.698766</td>\n",
       "      <td>-2.147466</td>\n",
       "      <td>Zahanati</td>\n",
       "      <td>0</td>\n",
       "      <td>...</td>\n",
       "      <td>soft</td>\n",
       "      <td>good</td>\n",
       "      <td>insufficient</td>\n",
       "      <td>insufficient</td>\n",
       "      <td>rainwater harvesting</td>\n",
       "      <td>rainwater harvesting</td>\n",
       "      <td>surface</td>\n",
       "      <td>communal standpipe</td>\n",
       "      <td>communal standpipe</td>\n",
       "      <td>functional</td>\n",
       "    </tr>\n",
       "    <tr>\n",
       "      <th>2</th>\n",
       "      <td>34310</td>\n",
       "      <td>25.0</td>\n",
       "      <td>2/25/2013</td>\n",
       "      <td>Lottery Club</td>\n",
       "      <td>686</td>\n",
       "      <td>World vision</td>\n",
       "      <td>37.460664</td>\n",
       "      <td>-3.821329</td>\n",
       "      <td>Kwa Mahundi</td>\n",
       "      <td>0</td>\n",
       "      <td>...</td>\n",
       "      <td>soft</td>\n",
       "      <td>good</td>\n",
       "      <td>enough</td>\n",
       "      <td>enough</td>\n",
       "      <td>dam</td>\n",
       "      <td>dam</td>\n",
       "      <td>surface</td>\n",
       "      <td>communal standpipe multiple</td>\n",
       "      <td>communal standpipe</td>\n",
       "      <td>functional</td>\n",
       "    </tr>\n",
       "    <tr>\n",
       "      <th>3</th>\n",
       "      <td>67743</td>\n",
       "      <td>0.0</td>\n",
       "      <td>1/28/2013</td>\n",
       "      <td>Unicef</td>\n",
       "      <td>263</td>\n",
       "      <td>UNICEF</td>\n",
       "      <td>38.486161</td>\n",
       "      <td>-11.155298</td>\n",
       "      <td>Zahanati Ya Nanyumbu</td>\n",
       "      <td>0</td>\n",
       "      <td>...</td>\n",
       "      <td>soft</td>\n",
       "      <td>good</td>\n",
       "      <td>dry</td>\n",
       "      <td>dry</td>\n",
       "      <td>machine dbh</td>\n",
       "      <td>borehole</td>\n",
       "      <td>groundwater</td>\n",
       "      <td>communal standpipe multiple</td>\n",
       "      <td>communal standpipe</td>\n",
       "      <td>non functional</td>\n",
       "    </tr>\n",
       "    <tr>\n",
       "      <th>4</th>\n",
       "      <td>19728</td>\n",
       "      <td>0.0</td>\n",
       "      <td>7/13/2011</td>\n",
       "      <td>Action In A</td>\n",
       "      <td>0</td>\n",
       "      <td>Artisan</td>\n",
       "      <td>31.130847</td>\n",
       "      <td>-1.825359</td>\n",
       "      <td>Shuleni</td>\n",
       "      <td>0</td>\n",
       "      <td>...</td>\n",
       "      <td>soft</td>\n",
       "      <td>good</td>\n",
       "      <td>seasonal</td>\n",
       "      <td>seasonal</td>\n",
       "      <td>rainwater harvesting</td>\n",
       "      <td>rainwater harvesting</td>\n",
       "      <td>surface</td>\n",
       "      <td>communal standpipe</td>\n",
       "      <td>communal standpipe</td>\n",
       "      <td>functional</td>\n",
       "    </tr>\n",
       "  </tbody>\n",
       "</table>\n",
       "<p>5 rows × 41 columns</p>\n",
       "</div>"
      ],
      "text/plain": [
       "      id  amount_tsh date_recorded        funder  gps_height     installer  \\\n",
       "0  69572      6000.0     3/14/2011         Roman        1390         Roman   \n",
       "1   8776         0.0      3/6/2013       Grumeti        1399       GRUMETI   \n",
       "2  34310        25.0     2/25/2013  Lottery Club         686  World vision   \n",
       "3  67743         0.0     1/28/2013        Unicef         263        UNICEF   \n",
       "4  19728         0.0     7/13/2011   Action In A           0       Artisan   \n",
       "\n",
       "   longitude   latitude              wpt_name  num_private  ... water_quality  \\\n",
       "0  34.938093  -9.856322                  none            0  ...          soft   \n",
       "1  34.698766  -2.147466              Zahanati            0  ...          soft   \n",
       "2  37.460664  -3.821329           Kwa Mahundi            0  ...          soft   \n",
       "3  38.486161 -11.155298  Zahanati Ya Nanyumbu            0  ...          soft   \n",
       "4  31.130847  -1.825359               Shuleni            0  ...          soft   \n",
       "\n",
       "  quality_group      quantity  quantity_group                source  \\\n",
       "0          good        enough          enough                spring   \n",
       "1          good  insufficient    insufficient  rainwater harvesting   \n",
       "2          good        enough          enough                   dam   \n",
       "3          good           dry             dry           machine dbh   \n",
       "4          good      seasonal        seasonal  rainwater harvesting   \n",
       "\n",
       "            source_type source_class              waterpoint_type  \\\n",
       "0                spring  groundwater           communal standpipe   \n",
       "1  rainwater harvesting      surface           communal standpipe   \n",
       "2                   dam      surface  communal standpipe multiple   \n",
       "3              borehole  groundwater  communal standpipe multiple   \n",
       "4  rainwater harvesting      surface           communal standpipe   \n",
       "\n",
       "  waterpoint_type_group    status_group  \n",
       "0    communal standpipe      functional  \n",
       "1    communal standpipe      functional  \n",
       "2    communal standpipe      functional  \n",
       "3    communal standpipe  non functional  \n",
       "4    communal standpipe      functional  \n",
       "\n",
       "[5 rows x 41 columns]"
      ]
     },
<<<<<<< HEAD
     "execution_count": 2,
=======
     "execution_count": 199,
>>>>>>> a67f86bf978a8e30b3f3d93419a2b246712377e6
     "metadata": {},
     "output_type": "execute_result"
    }
   ],
   "source": [
    "# Loading the training_set_values\n",
    "training_data = pd.read_csv('data/training_set_values.csv')\n",
    "\n",
    "# Loading the test set values\n",
    "testing_data = pd.read_csv('data/test_set_values.csv')\n",
    "\n",
    "# Loading the target column\n",
    "training_labels = pd.read_csv('data/training_set_labels.csv')\n",
    "\n",
    "# concatenating train and test data\n",
    "#training_labels_df = pd.concat([training_data, training_labels],axis=1)\n",
    "\n",
    "# merging the data sets\n",
    "training_labels_df = training_data.merge(training_labels, how = \"inner\")\n",
    "\n",
    "# previewing the data set\n",
    "training_labels_df.head()"
   ]
  },
  {
   "cell_type": "code",
<<<<<<< HEAD
   "execution_count": 3,
=======
   "execution_count": 200,
>>>>>>> a67f86bf978a8e30b3f3d93419a2b246712377e6
   "metadata": {},
   "outputs": [
    {
     "data": {
      "text/html": [
       "<div>\n",
       "<style scoped>\n",
       "    .dataframe tbody tr th:only-of-type {\n",
       "        vertical-align: middle;\n",
       "    }\n",
       "\n",
       "    .dataframe tbody tr th {\n",
       "        vertical-align: top;\n",
       "    }\n",
       "\n",
       "    .dataframe thead th {\n",
       "        text-align: right;\n",
       "    }\n",
       "</style>\n",
       "<table border=\"1\" class=\"dataframe\">\n",
       "  <thead>\n",
       "    <tr style=\"text-align: right;\">\n",
       "      <th></th>\n",
       "      <th>id</th>\n",
       "      <th>amount_tsh</th>\n",
       "      <th>date_recorded</th>\n",
       "      <th>funder</th>\n",
       "      <th>gps_height</th>\n",
       "      <th>installer</th>\n",
       "      <th>longitude</th>\n",
       "      <th>latitude</th>\n",
       "      <th>wpt_name</th>\n",
       "      <th>num_private</th>\n",
       "      <th>...</th>\n",
       "      <th>water_quality</th>\n",
       "      <th>quality_group</th>\n",
       "      <th>quantity</th>\n",
       "      <th>quantity_group</th>\n",
       "      <th>source</th>\n",
       "      <th>source_type</th>\n",
       "      <th>source_class</th>\n",
       "      <th>waterpoint_type</th>\n",
       "      <th>waterpoint_type_group</th>\n",
       "      <th>status_group</th>\n",
       "    </tr>\n",
       "  </thead>\n",
       "  <tbody>\n",
       "    <tr>\n",
       "      <th>59395</th>\n",
       "      <td>60739</td>\n",
       "      <td>10.0</td>\n",
       "      <td>5/3/2013</td>\n",
       "      <td>Germany Republi</td>\n",
       "      <td>1210</td>\n",
       "      <td>CES</td>\n",
       "      <td>37.169807</td>\n",
       "      <td>-3.253847</td>\n",
       "      <td>Area Three Namba 27</td>\n",
       "      <td>0</td>\n",
       "      <td>...</td>\n",
       "      <td>soft</td>\n",
       "      <td>good</td>\n",
       "      <td>enough</td>\n",
       "      <td>enough</td>\n",
       "      <td>spring</td>\n",
       "      <td>spring</td>\n",
       "      <td>groundwater</td>\n",
       "      <td>communal standpipe</td>\n",
       "      <td>communal standpipe</td>\n",
       "      <td>functional</td>\n",
       "    </tr>\n",
       "    <tr>\n",
       "      <th>59396</th>\n",
       "      <td>27263</td>\n",
       "      <td>4700.0</td>\n",
       "      <td>5/7/2011</td>\n",
       "      <td>Cefa-njombe</td>\n",
       "      <td>1212</td>\n",
       "      <td>Cefa</td>\n",
       "      <td>35.249991</td>\n",
       "      <td>-9.070629</td>\n",
       "      <td>Kwa Yahona Kuvala</td>\n",
       "      <td>0</td>\n",
       "      <td>...</td>\n",
       "      <td>soft</td>\n",
       "      <td>good</td>\n",
       "      <td>enough</td>\n",
       "      <td>enough</td>\n",
       "      <td>river</td>\n",
       "      <td>river/lake</td>\n",
       "      <td>surface</td>\n",
       "      <td>communal standpipe</td>\n",
       "      <td>communal standpipe</td>\n",
       "      <td>functional</td>\n",
       "    </tr>\n",
       "    <tr>\n",
       "      <th>59397</th>\n",
       "      <td>37057</td>\n",
       "      <td>0.0</td>\n",
       "      <td>4/11/2011</td>\n",
       "      <td>NaN</td>\n",
       "      <td>0</td>\n",
       "      <td>NaN</td>\n",
       "      <td>34.017087</td>\n",
       "      <td>-8.750434</td>\n",
       "      <td>Mashine</td>\n",
       "      <td>0</td>\n",
       "      <td>...</td>\n",
       "      <td>fluoride</td>\n",
       "      <td>fluoride</td>\n",
       "      <td>enough</td>\n",
       "      <td>enough</td>\n",
       "      <td>machine dbh</td>\n",
       "      <td>borehole</td>\n",
       "      <td>groundwater</td>\n",
       "      <td>hand pump</td>\n",
       "      <td>hand pump</td>\n",
       "      <td>functional</td>\n",
       "    </tr>\n",
       "    <tr>\n",
       "      <th>59398</th>\n",
       "      <td>31282</td>\n",
       "      <td>0.0</td>\n",
       "      <td>3/8/2011</td>\n",
       "      <td>Malec</td>\n",
       "      <td>0</td>\n",
       "      <td>Musa</td>\n",
       "      <td>35.861315</td>\n",
       "      <td>-6.378573</td>\n",
       "      <td>Mshoro</td>\n",
       "      <td>0</td>\n",
       "      <td>...</td>\n",
       "      <td>soft</td>\n",
       "      <td>good</td>\n",
       "      <td>insufficient</td>\n",
       "      <td>insufficient</td>\n",
       "      <td>shallow well</td>\n",
       "      <td>shallow well</td>\n",
       "      <td>groundwater</td>\n",
       "      <td>hand pump</td>\n",
       "      <td>hand pump</td>\n",
       "      <td>functional</td>\n",
       "    </tr>\n",
       "    <tr>\n",
       "      <th>59399</th>\n",
       "      <td>26348</td>\n",
       "      <td>0.0</td>\n",
       "      <td>3/23/2011</td>\n",
       "      <td>World Bank</td>\n",
       "      <td>191</td>\n",
       "      <td>World</td>\n",
       "      <td>38.104048</td>\n",
       "      <td>-6.747464</td>\n",
       "      <td>Kwa Mzee Lugawa</td>\n",
       "      <td>0</td>\n",
       "      <td>...</td>\n",
       "      <td>salty</td>\n",
       "      <td>salty</td>\n",
       "      <td>enough</td>\n",
       "      <td>enough</td>\n",
       "      <td>shallow well</td>\n",
       "      <td>shallow well</td>\n",
       "      <td>groundwater</td>\n",
       "      <td>hand pump</td>\n",
       "      <td>hand pump</td>\n",
       "      <td>functional</td>\n",
       "    </tr>\n",
       "  </tbody>\n",
       "</table>\n",
       "<p>5 rows × 41 columns</p>\n",
       "</div>"
      ],
      "text/plain": [
       "          id  amount_tsh date_recorded           funder  gps_height installer  \\\n",
       "59395  60739        10.0      5/3/2013  Germany Republi        1210       CES   \n",
       "59396  27263      4700.0      5/7/2011      Cefa-njombe        1212      Cefa   \n",
       "59397  37057         0.0     4/11/2011              NaN           0       NaN   \n",
       "59398  31282         0.0      3/8/2011            Malec           0      Musa   \n",
       "59399  26348         0.0     3/23/2011       World Bank         191     World   \n",
       "\n",
       "       longitude  latitude             wpt_name  num_private  ...  \\\n",
       "59395  37.169807 -3.253847  Area Three Namba 27            0  ...   \n",
       "59396  35.249991 -9.070629    Kwa Yahona Kuvala            0  ...   \n",
       "59397  34.017087 -8.750434              Mashine            0  ...   \n",
       "59398  35.861315 -6.378573               Mshoro            0  ...   \n",
       "59399  38.104048 -6.747464      Kwa Mzee Lugawa            0  ...   \n",
       "\n",
       "      water_quality quality_group      quantity  quantity_group        source  \\\n",
       "59395          soft          good        enough          enough        spring   \n",
       "59396          soft          good        enough          enough         river   \n",
       "59397      fluoride      fluoride        enough          enough   machine dbh   \n",
       "59398          soft          good  insufficient    insufficient  shallow well   \n",
       "59399         salty         salty        enough          enough  shallow well   \n",
       "\n",
       "        source_type source_class     waterpoint_type waterpoint_type_group  \\\n",
       "59395        spring  groundwater  communal standpipe    communal standpipe   \n",
       "59396    river/lake      surface  communal standpipe    communal standpipe   \n",
       "59397      borehole  groundwater           hand pump             hand pump   \n",
       "59398  shallow well  groundwater           hand pump             hand pump   \n",
       "59399  shallow well  groundwater           hand pump             hand pump   \n",
       "\n",
       "      status_group  \n",
       "59395   functional  \n",
       "59396   functional  \n",
       "59397   functional  \n",
       "59398   functional  \n",
       "59399   functional  \n",
       "\n",
       "[5 rows x 41 columns]"
      ]
     },
<<<<<<< HEAD
     "execution_count": 3,
=======
     "execution_count": 200,
>>>>>>> a67f86bf978a8e30b3f3d93419a2b246712377e6
     "metadata": {},
     "output_type": "execute_result"
    }
   ],
   "source": [
    "# previewing the last five rows of the data\n",
    "training_labels_df.tail()"
   ]
  },
  {
   "cell_type": "code",
<<<<<<< HEAD
   "execution_count": 4,
=======
   "execution_count": 201,
>>>>>>> a67f86bf978a8e30b3f3d93419a2b246712377e6
   "metadata": {},
   "outputs": [
    {
     "name": "stdout",
     "output_type": "stream",
     "text": [
      " This data has 59400 rows and 41 columns\n"
     ]
    }
   ],
   "source": [
    "# getting the shape of the data\n",
    "print(f\" This data has {training_labels_df.shape[0]} rows and {training_labels_df.shape[1]} columns\")"
   ]
  },
  {
   "cell_type": "markdown",
   "metadata": {},
   "source": [
    "### Preliminary Data Inspection"
   ]
  },
  {
   "cell_type": "code",
<<<<<<< HEAD
   "execution_count": 5,
=======
   "execution_count": 202,
>>>>>>> a67f86bf978a8e30b3f3d93419a2b246712377e6
   "metadata": {},
   "outputs": [
    {
     "name": "stdout",
     "output_type": "stream",
     "text": [
      "<class 'pandas.core.frame.DataFrame'>\n",
      "Int64Index: 59400 entries, 0 to 59399\n",
      "Data columns (total 41 columns):\n",
      " #   Column                 Non-Null Count  Dtype  \n",
      "---  ------                 --------------  -----  \n",
      " 0   id                     59400 non-null  int64  \n",
      " 1   amount_tsh             59400 non-null  float64\n",
      " 2   date_recorded          59400 non-null  object \n",
      " 3   funder                 55765 non-null  object \n",
      " 4   gps_height             59400 non-null  int64  \n",
      " 5   installer              55745 non-null  object \n",
      " 6   longitude              59400 non-null  float64\n",
      " 7   latitude               59400 non-null  float64\n",
      " 8   wpt_name               59400 non-null  object \n",
      " 9   num_private            59400 non-null  int64  \n",
      " 10  basin                  59400 non-null  object \n",
      " 11  subvillage             59029 non-null  object \n",
      " 12  region                 59400 non-null  object \n",
      " 13  region_code            59400 non-null  int64  \n",
      " 14  district_code          59400 non-null  int64  \n",
      " 15  lga                    59400 non-null  object \n",
      " 16  ward                   59400 non-null  object \n",
      " 17  population             59400 non-null  int64  \n",
      " 18  public_meeting         56066 non-null  object \n",
      " 19  recorded_by            59400 non-null  object \n",
      " 20  scheme_management      55523 non-null  object \n",
      " 21  scheme_name            31234 non-null  object \n",
      " 22  permit                 56344 non-null  object \n",
      " 23  construction_year      59400 non-null  int64  \n",
      " 24  extraction_type        59400 non-null  object \n",
      " 25  extraction_type_group  59400 non-null  object \n",
      " 26  extraction_type_class  59400 non-null  object \n",
      " 27  management             59400 non-null  object \n",
      " 28  management_group       59400 non-null  object \n",
      " 29  payment                59400 non-null  object \n",
      " 30  payment_type           59400 non-null  object \n",
      " 31  water_quality          59400 non-null  object \n",
      " 32  quality_group          59400 non-null  object \n",
      " 33  quantity               59400 non-null  object \n",
      " 34  quantity_group         59400 non-null  object \n",
      " 35  source                 59400 non-null  object \n",
      " 36  source_type            59400 non-null  object \n",
      " 37  source_class           59400 non-null  object \n",
      " 38  waterpoint_type        59400 non-null  object \n",
      " 39  waterpoint_type_group  59400 non-null  object \n",
      " 40  status_group           59400 non-null  object \n",
      "dtypes: float64(3), int64(7), object(31)\n",
      "memory usage: 19.0+ MB\n"
     ]
    }
   ],
   "source": [
    " # Getting the 'data' about the data\n",
    "training_labels_df.info()"
   ]
  },
  {
   "cell_type": "code",
<<<<<<< HEAD
   "execution_count": 6,
=======
   "execution_count": 203,
>>>>>>> a67f86bf978a8e30b3f3d93419a2b246712377e6
   "metadata": {},
   "outputs": [
    {
     "data": {
      "text/html": [
       "<div>\n",
       "<style scoped>\n",
       "    .dataframe tbody tr th:only-of-type {\n",
       "        vertical-align: middle;\n",
       "    }\n",
       "\n",
       "    .dataframe tbody tr th {\n",
       "        vertical-align: top;\n",
       "    }\n",
       "\n",
       "    .dataframe thead th {\n",
       "        text-align: right;\n",
       "    }\n",
       "</style>\n",
       "<table border=\"1\" class=\"dataframe\">\n",
       "  <thead>\n",
       "    <tr style=\"text-align: right;\">\n",
       "      <th></th>\n",
       "      <th>count</th>\n",
       "      <th>mean</th>\n",
       "      <th>std</th>\n",
       "      <th>min</th>\n",
       "      <th>25%</th>\n",
       "      <th>50%</th>\n",
       "      <th>75%</th>\n",
       "      <th>max</th>\n",
       "    </tr>\n",
       "  </thead>\n",
       "  <tbody>\n",
       "    <tr>\n",
       "      <th>id</th>\n",
       "      <td>59400.0</td>\n",
       "      <td>37115.131768</td>\n",
       "      <td>21453.128371</td>\n",
       "      <td>0.00000</td>\n",
       "      <td>18519.750000</td>\n",
       "      <td>37061.500000</td>\n",
       "      <td>55656.500000</td>\n",
       "      <td>7.424700e+04</td>\n",
       "    </tr>\n",
       "    <tr>\n",
       "      <th>amount_tsh</th>\n",
       "      <td>59400.0</td>\n",
       "      <td>317.650385</td>\n",
       "      <td>2997.574558</td>\n",
       "      <td>0.00000</td>\n",
       "      <td>0.000000</td>\n",
       "      <td>0.000000</td>\n",
       "      <td>20.000000</td>\n",
       "      <td>3.500000e+05</td>\n",
       "    </tr>\n",
       "    <tr>\n",
       "      <th>gps_height</th>\n",
       "      <td>59400.0</td>\n",
       "      <td>668.297239</td>\n",
       "      <td>693.116350</td>\n",
       "      <td>-90.00000</td>\n",
       "      <td>0.000000</td>\n",
       "      <td>369.000000</td>\n",
       "      <td>1319.250000</td>\n",
       "      <td>2.770000e+03</td>\n",
       "    </tr>\n",
       "    <tr>\n",
       "      <th>longitude</th>\n",
       "      <td>59400.0</td>\n",
       "      <td>34.077427</td>\n",
       "      <td>6.567432</td>\n",
       "      <td>0.00000</td>\n",
       "      <td>33.090347</td>\n",
       "      <td>34.908743</td>\n",
       "      <td>37.178387</td>\n",
       "      <td>4.034519e+01</td>\n",
       "    </tr>\n",
       "    <tr>\n",
       "      <th>latitude</th>\n",
       "      <td>59400.0</td>\n",
       "      <td>-5.706033</td>\n",
       "      <td>2.946019</td>\n",
       "      <td>-11.64944</td>\n",
       "      <td>-8.540621</td>\n",
       "      <td>-5.021597</td>\n",
       "      <td>-3.326156</td>\n",
       "      <td>-2.000000e-08</td>\n",
       "    </tr>\n",
       "    <tr>\n",
       "      <th>num_private</th>\n",
       "      <td>59400.0</td>\n",
       "      <td>0.474141</td>\n",
       "      <td>12.236230</td>\n",
       "      <td>0.00000</td>\n",
       "      <td>0.000000</td>\n",
       "      <td>0.000000</td>\n",
       "      <td>0.000000</td>\n",
       "      <td>1.776000e+03</td>\n",
       "    </tr>\n",
       "    <tr>\n",
       "      <th>region_code</th>\n",
       "      <td>59400.0</td>\n",
       "      <td>15.297003</td>\n",
       "      <td>17.587406</td>\n",
       "      <td>1.00000</td>\n",
       "      <td>5.000000</td>\n",
       "      <td>12.000000</td>\n",
       "      <td>17.000000</td>\n",
       "      <td>9.900000e+01</td>\n",
       "    </tr>\n",
       "    <tr>\n",
       "      <th>district_code</th>\n",
       "      <td>59400.0</td>\n",
       "      <td>5.629747</td>\n",
       "      <td>9.633649</td>\n",
       "      <td>0.00000</td>\n",
       "      <td>2.000000</td>\n",
       "      <td>3.000000</td>\n",
       "      <td>5.000000</td>\n",
       "      <td>8.000000e+01</td>\n",
       "    </tr>\n",
       "    <tr>\n",
       "      <th>population</th>\n",
       "      <td>59400.0</td>\n",
       "      <td>179.909983</td>\n",
       "      <td>471.482176</td>\n",
       "      <td>0.00000</td>\n",
       "      <td>0.000000</td>\n",
       "      <td>25.000000</td>\n",
       "      <td>215.000000</td>\n",
       "      <td>3.050000e+04</td>\n",
       "    </tr>\n",
       "    <tr>\n",
       "      <th>construction_year</th>\n",
       "      <td>59400.0</td>\n",
       "      <td>1300.652475</td>\n",
       "      <td>951.620547</td>\n",
       "      <td>0.00000</td>\n",
       "      <td>0.000000</td>\n",
       "      <td>1986.000000</td>\n",
       "      <td>2004.000000</td>\n",
       "      <td>2.013000e+03</td>\n",
       "    </tr>\n",
       "  </tbody>\n",
       "</table>\n",
       "</div>"
      ],
      "text/plain": [
       "                     count          mean           std       min  \\\n",
       "id                 59400.0  37115.131768  21453.128371   0.00000   \n",
       "amount_tsh         59400.0    317.650385   2997.574558   0.00000   \n",
       "gps_height         59400.0    668.297239    693.116350 -90.00000   \n",
       "longitude          59400.0     34.077427      6.567432   0.00000   \n",
       "latitude           59400.0     -5.706033      2.946019 -11.64944   \n",
       "num_private        59400.0      0.474141     12.236230   0.00000   \n",
       "region_code        59400.0     15.297003     17.587406   1.00000   \n",
       "district_code      59400.0      5.629747      9.633649   0.00000   \n",
       "population         59400.0    179.909983    471.482176   0.00000   \n",
       "construction_year  59400.0   1300.652475    951.620547   0.00000   \n",
       "\n",
       "                            25%           50%           75%           max  \n",
       "id                 18519.750000  37061.500000  55656.500000  7.424700e+04  \n",
       "amount_tsh             0.000000      0.000000     20.000000  3.500000e+05  \n",
       "gps_height             0.000000    369.000000   1319.250000  2.770000e+03  \n",
       "longitude             33.090347     34.908743     37.178387  4.034519e+01  \n",
       "latitude              -8.540621     -5.021597     -3.326156 -2.000000e-08  \n",
       "num_private            0.000000      0.000000      0.000000  1.776000e+03  \n",
       "region_code            5.000000     12.000000     17.000000  9.900000e+01  \n",
       "district_code          2.000000      3.000000      5.000000  8.000000e+01  \n",
       "population             0.000000     25.000000    215.000000  3.050000e+04  \n",
       "construction_year      0.000000   1986.000000   2004.000000  2.013000e+03  "
      ]
     },
<<<<<<< HEAD
     "execution_count": 6,
=======
     "execution_count": 203,
>>>>>>> a67f86bf978a8e30b3f3d93419a2b246712377e6
     "metadata": {},
     "output_type": "execute_result"
    }
   ],
   "source": [
    "# Obtaining the summary descriptive statistics of the data\n",
    "training_labels_df.describe().T"
   ]
  },
  {
   "cell_type": "markdown",
   "metadata": {},
   "source": [
    "#### Observations\n",
    "``region_code`` and ``district_code`` seem like they should be categorical features.\n",
    "\n",
    "``construction_year`` should be casted as a datetime object.\n",
    "\n",
    "``id`` should be casted to object.\n",
    "\n",
    "``longitude`` and ``latitude`` look fine.\n",
    "\n",
    "``gps_height``, ``amount_tsh`` and ``population`` also look fine."
   ]
  },
  {
   "cell_type": "code",
<<<<<<< HEAD
   "execution_count": 7,
=======
   "execution_count": 204,
>>>>>>> a67f86bf978a8e30b3f3d93419a2b246712377e6
   "metadata": {},
   "outputs": [
    {
     "data": {
      "text/plain": [
       "object     31\n",
       "int64       7\n",
       "float64     3\n",
       "dtype: int64"
      ]
     },
<<<<<<< HEAD
     "execution_count": 7,
=======
     "execution_count": 204,
>>>>>>> a67f86bf978a8e30b3f3d93419a2b246712377e6
     "metadata": {},
     "output_type": "execute_result"
    }
   ],
   "source": [
    "# Getting the data types of the data\n",
    "training_labels_df.dtypes.value_counts()"
   ]
  },
  {
   "cell_type": "markdown",
   "metadata": {},
   "source": [
    "There are 10 numeric features in the data and 31 string features in the data. "
   ]
  },
  {
   "cell_type": "code",
<<<<<<< HEAD
   "execution_count": 8,
=======
   "execution_count": 205,
>>>>>>> a67f86bf978a8e30b3f3d93419a2b246712377e6
   "metadata": {},
   "outputs": [
    {
     "data": {
      "text/plain": [
       "0      58643\n",
       "6         81\n",
       "1         73\n",
       "5         46\n",
       "8         46\n",
       "       ...  \n",
       "180        1\n",
       "213        1\n",
       "23         1\n",
       "55         1\n",
       "94         1\n",
       "Name: num_private, Length: 65, dtype: int64"
      ]
     },
<<<<<<< HEAD
     "execution_count": 8,
=======
     "execution_count": 205,
>>>>>>> a67f86bf978a8e30b3f3d93419a2b246712377e6
     "metadata": {},
     "output_type": "execute_result"
    }
   ],
   "source": [
    "# getting the value counts of num_private\n",
    "training_labels_df.num_private.value_counts()"
   ]
  },
  {
   "cell_type": "code",
<<<<<<< HEAD
   "execution_count": 9,
=======
   "execution_count": 206,
>>>>>>> a67f86bf978a8e30b3f3d93419a2b246712377e6
   "metadata": {},
   "outputs": [
    {
     "data": {
      "text/plain": [
       "vwc                 40507\n",
       "wug                  6515\n",
       "water board          2933\n",
       "wua                  2535\n",
       "private operator     1971\n",
       "parastatal           1768\n",
       "water authority       904\n",
       "other                 844\n",
       "company               685\n",
       "unknown               561\n",
       "other - school         99\n",
       "trust                  78\n",
       "Name: management, dtype: int64"
      ]
     },
<<<<<<< HEAD
     "execution_count": 9,
=======
     "execution_count": 206,
>>>>>>> a67f86bf978a8e30b3f3d93419a2b246712377e6
     "metadata": {},
     "output_type": "execute_result"
    }
   ],
   "source": [
    "# getting the value counts of manegement\n",
    "training_labels_df.management.value_counts()"
   ]
  },
  {
   "cell_type": "code",
<<<<<<< HEAD
   "execution_count": 10,
=======
   "execution_count": 207,
>>>>>>> a67f86bf978a8e30b3f3d93419a2b246712377e6
   "metadata": {},
   "outputs": [
    {
     "data": {
      "text/plain": [
       "user-group    52490\n",
       "commercial     3638\n",
       "parastatal     1768\n",
       "other           943\n",
       "unknown         561\n",
       "Name: management_group, dtype: int64"
      ]
     },
<<<<<<< HEAD
     "execution_count": 10,
=======
     "execution_count": 207,
>>>>>>> a67f86bf978a8e30b3f3d93419a2b246712377e6
     "metadata": {},
     "output_type": "execute_result"
    }
   ],
   "source": [
    "# getting the value counts of management_group\n",
    "training_labels_df.management_group.value_counts()"
   ]
  },
  {
   "cell_type": "code",
<<<<<<< HEAD
   "execution_count": 11,
=======
   "execution_count": 208,
>>>>>>> a67f86bf978a8e30b3f3d93419a2b246712377e6
   "metadata": {},
   "outputs": [
    {
     "data": {
      "text/plain": [
       "VWC                 36793\n",
       "WUG                  5206\n",
       "Water authority      3153\n",
       "WUA                  2883\n",
       "Water Board          2748\n",
       "Parastatal           1680\n",
       "Private operator     1063\n",
       "Company              1061\n",
       "Other                 766\n",
       "SWC                    97\n",
       "Trust                  72\n",
       "None                    1\n",
       "Name: scheme_management, dtype: int64"
      ]
     },
<<<<<<< HEAD
     "execution_count": 11,
=======
     "execution_count": 208,
>>>>>>> a67f86bf978a8e30b3f3d93419a2b246712377e6
     "metadata": {},
     "output_type": "execute_result"
    }
   ],
   "source": [
    "# getting the value counts of scheme_management\n",
    "training_labels_df.scheme_management.value_counts()"
   ]
  },
  {
   "cell_type": "code",
<<<<<<< HEAD
   "execution_count": 12,
=======
   "execution_count": 209,
>>>>>>> a67f86bf978a8e30b3f3d93419a2b246712377e6
   "metadata": {},
   "outputs": [
    {
     "data": {
      "text/plain": [
<<<<<<< HEAD
       "K                             682\n",
       "None                          644\n",
       "Borehole                      546\n",
       "Chalinze wate                 405\n",
       "M                             400\n",
       "                             ... \n",
       "Kalambwe RC Mission &           1\n",
       "Pwani water supply (Ruvu)       1\n",
       "LENCH TARAMAI                   1\n",
       "Sobodo Borehole Scheme          1\n",
       "Mwamapuli Irrigatio Scheme      1\n",
       "Name: scheme_name, Length: 2696, dtype: int64"
      ]
     },
     "execution_count": 12,
=======
       "K                       682\n",
       "None                    644\n",
       "Borehole                546\n",
       "Chalinze wate           405\n",
       "M                       400\n",
       "                       ... \n",
       "Mafuriko  Water Supp      1\n",
       "Chusuro water sup         1\n",
       "BL Sia Eki                1\n",
       "Kaembe project            1\n",
       "Magula Mwanyumba          1\n",
       "Name: scheme_name, Length: 2696, dtype: int64"
      ]
     },
     "execution_count": 209,
>>>>>>> a67f86bf978a8e30b3f3d93419a2b246712377e6
     "metadata": {},
     "output_type": "execute_result"
    }
   ],
   "source": [
    "# Getting the value counts of scheme_name\n",
    "training_labels_df.scheme_name.value_counts()"
   ]
  },
  {
   "cell_type": "code",
<<<<<<< HEAD
   "execution_count": 13,
=======
   "execution_count": 210,
>>>>>>> a67f86bf978a8e30b3f3d93419a2b246712377e6
   "metadata": {},
   "outputs": [
    {
     "data": {
      "text/plain": [
       "never pay     25348\n",
       "per bucket     8985\n",
       "monthly        8300\n",
       "unknown        8157\n",
       "on failure     3914\n",
       "annually       3642\n",
       "other          1054\n",
       "Name: payment_type, dtype: int64"
      ]
     },
<<<<<<< HEAD
     "execution_count": 13,
=======
     "execution_count": 210,
>>>>>>> a67f86bf978a8e30b3f3d93419a2b246712377e6
     "metadata": {},
     "output_type": "execute_result"
    }
   ],
   "source": [
    "# # getting the value counts of payment_type\n",
    "training_labels_df.payment_type.value_counts()"
   ]
  },
  {
   "cell_type": "code",
<<<<<<< HEAD
   "execution_count": 14,
=======
   "execution_count": 211,
>>>>>>> a67f86bf978a8e30b3f3d93419a2b246712377e6
   "metadata": {},
   "outputs": [
    {
     "data": {
      "text/plain": [
       "never pay                25348\n",
       "pay per bucket            8985\n",
       "pay monthly               8300\n",
       "unknown                   8157\n",
       "pay when scheme fails     3914\n",
       "pay annually              3642\n",
       "other                     1054\n",
       "Name: payment, dtype: int64"
      ]
     },
<<<<<<< HEAD
     "execution_count": 14,
=======
     "execution_count": 211,
>>>>>>> a67f86bf978a8e30b3f3d93419a2b246712377e6
     "metadata": {},
     "output_type": "execute_result"
    }
   ],
   "source": [
    "# getting the value counts of payment\n",
    "training_labels_df.payment.value_counts()"
   ]
  },
  {
   "cell_type": "code",
<<<<<<< HEAD
   "execution_count": 15,
=======
   "execution_count": 212,
>>>>>>> a67f86bf978a8e30b3f3d93419a2b246712377e6
   "metadata": {},
   "outputs": [
    {
     "data": {
      "text/plain": [
       "spring                  17021\n",
       "shallow well            16824\n",
       "machine dbh             11075\n",
       "river                    9612\n",
       "rainwater harvesting     2295\n",
       "hand dtw                  874\n",
       "lake                      765\n",
       "dam                       656\n",
       "other                     212\n",
       "unknown                    66\n",
       "Name: source, dtype: int64"
      ]
     },
<<<<<<< HEAD
     "execution_count": 15,
=======
     "execution_count": 212,
>>>>>>> a67f86bf978a8e30b3f3d93419a2b246712377e6
     "metadata": {},
     "output_type": "execute_result"
    }
   ],
   "source": [
    "# Getting the value counts of source\n",
    "training_labels_df.source.value_counts()"
   ]
  },
  {
   "cell_type": "code",
<<<<<<< HEAD
   "execution_count": 16,
=======
   "execution_count": 213,
>>>>>>> a67f86bf978a8e30b3f3d93419a2b246712377e6
   "metadata": {},
   "outputs": [
    {
     "data": {
      "text/plain": [
       "groundwater    45794\n",
       "surface        13328\n",
       "unknown          278\n",
       "Name: source_class, dtype: int64"
      ]
     },
<<<<<<< HEAD
     "execution_count": 16,
=======
     "execution_count": 213,
>>>>>>> a67f86bf978a8e30b3f3d93419a2b246712377e6
     "metadata": {},
     "output_type": "execute_result"
    }
   ],
   "source": [
    "# # getting the value counts of source_class\n",
    "training_labels_df.source_class.value_counts()"
   ]
  },
  {
   "cell_type": "code",
<<<<<<< HEAD
   "execution_count": 17,
=======
   "execution_count": 214,
>>>>>>> a67f86bf978a8e30b3f3d93419a2b246712377e6
   "metadata": {},
   "outputs": [],
   "source": [
    "irrelevant_columns = ['date_recorded', 'num_private', 'wpt_name',\n",
    "                     'subvillage', 'region_code', 'district_code', 'lga',\n",
    "                     'ward', 'public_meeting', 'recorded_by', 'scheme_management',\n",
    "                     'scheme_name', 'extraction_type', 'extraction_type_group', \n",
    "                      'water_quality', 'source','source_type', 'waterpoint_type_group',\n",
    "                     'payment_type', 'management', 'quantity_group']"
   ]
  },
  {
   "cell_type": "code",
<<<<<<< HEAD
   "execution_count": 18,
=======
   "execution_count": 215,
>>>>>>> a67f86bf978a8e30b3f3d93419a2b246712377e6
   "metadata": {},
   "outputs": [
    {
     "name": "stdout",
     "output_type": "stream",
     "text": [
      " There are 21 irrelevant columns in the data\n"
     ]
    }
   ],
   "source": [
    "print(f\" There are {irrelevant_columns.__len__()} irrelevant columns in the data\")"
   ]
  },
  {
   "cell_type": "markdown",
   "metadata": {},
   "source": [
    "After going through the variable description of the data and performing the preliminary data inspection,\n",
    "the study has proposed that the columns categorized as **irrelevant_columns** be dropped on the basis that some provide similar information and some do not provide any relevant information, such as ``public_meeting`` and ``num_private``."
   ]
  },
  {
   "cell_type": "markdown",
   "metadata": {},
   "source": [
    "# Data Preparation\n",
    "## Overview\n",
    "It is vital for data to be prepared before being staged for modelling to enhance the model's efficiency and prevent the generation of misleading knowledge.\n",
    "In this phase of the investigation, the study will look at missing values, duplicated entries, inconsistencies and invalid data."
   ]
  },
  {
   "cell_type": "code",
<<<<<<< HEAD
   "execution_count": 19,
=======
   "execution_count": 216,
>>>>>>> a67f86bf978a8e30b3f3d93419a2b246712377e6
   "metadata": {},
   "outputs": [
    {
     "data": {
      "text/html": [
       "<div>\n",
       "<style scoped>\n",
       "    .dataframe tbody tr th:only-of-type {\n",
       "        vertical-align: middle;\n",
       "    }\n",
       "\n",
       "    .dataframe tbody tr th {\n",
       "        vertical-align: top;\n",
       "    }\n",
       "\n",
       "    .dataframe thead th {\n",
       "        text-align: right;\n",
       "    }\n",
       "</style>\n",
       "<table border=\"1\" class=\"dataframe\">\n",
       "  <thead>\n",
       "    <tr style=\"text-align: right;\">\n",
       "      <th></th>\n",
       "      <th>id</th>\n",
       "      <th>amount_tsh</th>\n",
       "      <th>funder</th>\n",
       "      <th>gps_height</th>\n",
       "      <th>installer</th>\n",
       "      <th>longitude</th>\n",
       "      <th>latitude</th>\n",
       "      <th>basin</th>\n",
       "      <th>region</th>\n",
       "      <th>population</th>\n",
       "      <th>permit</th>\n",
       "      <th>construction_year</th>\n",
       "      <th>extraction_type_class</th>\n",
       "      <th>management_group</th>\n",
       "      <th>payment</th>\n",
       "      <th>quality_group</th>\n",
       "      <th>quantity</th>\n",
       "      <th>source_class</th>\n",
       "      <th>waterpoint_type</th>\n",
       "      <th>status_group</th>\n",
       "    </tr>\n",
       "  </thead>\n",
       "  <tbody>\n",
       "    <tr>\n",
       "      <th>0</th>\n",
       "      <td>69572</td>\n",
       "      <td>6000.0</td>\n",
       "      <td>Roman</td>\n",
       "      <td>1390</td>\n",
       "      <td>Roman</td>\n",
       "      <td>34.938093</td>\n",
       "      <td>-9.856322</td>\n",
       "      <td>Lake Nyasa</td>\n",
       "      <td>Iringa</td>\n",
       "      <td>109</td>\n",
       "      <td>False</td>\n",
       "      <td>1999</td>\n",
       "      <td>gravity</td>\n",
       "      <td>user-group</td>\n",
       "      <td>pay annually</td>\n",
       "      <td>good</td>\n",
       "      <td>enough</td>\n",
       "      <td>groundwater</td>\n",
       "      <td>communal standpipe</td>\n",
       "      <td>functional</td>\n",
       "    </tr>\n",
       "    <tr>\n",
       "      <th>1</th>\n",
       "      <td>8776</td>\n",
       "      <td>0.0</td>\n",
       "      <td>Grumeti</td>\n",
       "      <td>1399</td>\n",
       "      <td>GRUMETI</td>\n",
       "      <td>34.698766</td>\n",
       "      <td>-2.147466</td>\n",
       "      <td>Lake Victoria</td>\n",
       "      <td>Mara</td>\n",
       "      <td>280</td>\n",
       "      <td>True</td>\n",
       "      <td>2010</td>\n",
       "      <td>gravity</td>\n",
       "      <td>user-group</td>\n",
       "      <td>never pay</td>\n",
       "      <td>good</td>\n",
       "      <td>insufficient</td>\n",
       "      <td>surface</td>\n",
       "      <td>communal standpipe</td>\n",
       "      <td>functional</td>\n",
       "    </tr>\n",
       "    <tr>\n",
       "      <th>2</th>\n",
       "      <td>34310</td>\n",
       "      <td>25.0</td>\n",
       "      <td>Lottery Club</td>\n",
       "      <td>686</td>\n",
       "      <td>World vision</td>\n",
       "      <td>37.460664</td>\n",
       "      <td>-3.821329</td>\n",
       "      <td>Pangani</td>\n",
       "      <td>Manyara</td>\n",
       "      <td>250</td>\n",
       "      <td>True</td>\n",
       "      <td>2009</td>\n",
       "      <td>gravity</td>\n",
       "      <td>user-group</td>\n",
       "      <td>pay per bucket</td>\n",
       "      <td>good</td>\n",
       "      <td>enough</td>\n",
       "      <td>surface</td>\n",
       "      <td>communal standpipe multiple</td>\n",
       "      <td>functional</td>\n",
       "    </tr>\n",
       "    <tr>\n",
       "      <th>3</th>\n",
       "      <td>67743</td>\n",
       "      <td>0.0</td>\n",
       "      <td>Unicef</td>\n",
       "      <td>263</td>\n",
       "      <td>UNICEF</td>\n",
       "      <td>38.486161</td>\n",
       "      <td>-11.155298</td>\n",
       "      <td>Ruvuma / Southern Coast</td>\n",
       "      <td>Mtwara</td>\n",
       "      <td>58</td>\n",
       "      <td>True</td>\n",
       "      <td>1986</td>\n",
       "      <td>submersible</td>\n",
       "      <td>user-group</td>\n",
       "      <td>never pay</td>\n",
       "      <td>good</td>\n",
       "      <td>dry</td>\n",
       "      <td>groundwater</td>\n",
       "      <td>communal standpipe multiple</td>\n",
       "      <td>non functional</td>\n",
       "    </tr>\n",
       "    <tr>\n",
       "      <th>4</th>\n",
       "      <td>19728</td>\n",
       "      <td>0.0</td>\n",
       "      <td>Action In A</td>\n",
       "      <td>0</td>\n",
       "      <td>Artisan</td>\n",
       "      <td>31.130847</td>\n",
       "      <td>-1.825359</td>\n",
       "      <td>Lake Victoria</td>\n",
       "      <td>Kagera</td>\n",
       "      <td>0</td>\n",
       "      <td>True</td>\n",
       "      <td>0</td>\n",
       "      <td>gravity</td>\n",
       "      <td>other</td>\n",
       "      <td>never pay</td>\n",
       "      <td>good</td>\n",
       "      <td>seasonal</td>\n",
       "      <td>surface</td>\n",
       "      <td>communal standpipe</td>\n",
       "      <td>functional</td>\n",
       "    </tr>\n",
       "  </tbody>\n",
       "</table>\n",
       "</div>"
      ],
      "text/plain": [
       "      id  amount_tsh        funder  gps_height     installer  longitude  \\\n",
       "0  69572      6000.0         Roman        1390         Roman  34.938093   \n",
       "1   8776         0.0       Grumeti        1399       GRUMETI  34.698766   \n",
       "2  34310        25.0  Lottery Club         686  World vision  37.460664   \n",
       "3  67743         0.0        Unicef         263        UNICEF  38.486161   \n",
       "4  19728         0.0   Action In A           0       Artisan  31.130847   \n",
       "\n",
       "    latitude                    basin   region  population permit  \\\n",
       "0  -9.856322               Lake Nyasa   Iringa         109  False   \n",
       "1  -2.147466            Lake Victoria     Mara         280   True   \n",
       "2  -3.821329                  Pangani  Manyara         250   True   \n",
       "3 -11.155298  Ruvuma / Southern Coast   Mtwara          58   True   \n",
       "4  -1.825359            Lake Victoria   Kagera           0   True   \n",
       "\n",
       "   construction_year extraction_type_class management_group         payment  \\\n",
       "0               1999               gravity       user-group    pay annually   \n",
       "1               2010               gravity       user-group       never pay   \n",
       "2               2009               gravity       user-group  pay per bucket   \n",
       "3               1986           submersible       user-group       never pay   \n",
       "4                  0               gravity            other       never pay   \n",
       "\n",
       "  quality_group      quantity source_class              waterpoint_type  \\\n",
       "0          good        enough  groundwater           communal standpipe   \n",
       "1          good  insufficient      surface           communal standpipe   \n",
       "2          good        enough      surface  communal standpipe multiple   \n",
       "3          good           dry  groundwater  communal standpipe multiple   \n",
       "4          good      seasonal      surface           communal standpipe   \n",
       "\n",
       "     status_group  \n",
       "0      functional  \n",
       "1      functional  \n",
       "2      functional  \n",
       "3  non functional  \n",
       "4      functional  "
      ]
     },
<<<<<<< HEAD
     "execution_count": 19,
=======
     "execution_count": 216,
>>>>>>> a67f86bf978a8e30b3f3d93419a2b246712377e6
     "metadata": {},
     "output_type": "execute_result"
    }
   ],
   "source": [
    "# dropping irrelevant columns\n",
    "data = training_labels_df.drop(irrelevant_columns, axis=1)\n",
    "\n",
    "# previewing the new data\n",
    "data.head()"
   ]
  },
  {
   "cell_type": "code",
<<<<<<< HEAD
   "execution_count": 20,
=======
   "execution_count": 217,
>>>>>>> a67f86bf978a8e30b3f3d93419a2b246712377e6
   "metadata": {},
   "outputs": [
    {
     "name": "stdout",
     "output_type": "stream",
     "text": [
      "The new data has 59400 rows and 20 columns\n"
     ]
    }
   ],
   "source": [
    "# getting the shape of the new data\n",
    "print(f\"The new data has {data.shape[0]} rows and {data.shape[1]} columns\")"
   ]
  },
  {
   "cell_type": "markdown",
   "metadata": {},
   "source": [
    "The **irrelevant_columns** were successfully dropped."
   ]
  },
  {
   "cell_type": "markdown",
   "metadata": {},
   "source": [
    "## Data Cleaning"
   ]
  },
  {
   "cell_type": "markdown",
   "metadata": {},
   "source": [
    "### Checking for and handling duplicates"
   ]
  },
  {
   "cell_type": "code",
<<<<<<< HEAD
   "execution_count": 21,
=======
   "execution_count": 218,
>>>>>>> a67f86bf978a8e30b3f3d93419a2b246712377e6
   "metadata": {},
   "outputs": [
    {
     "data": {
      "text/plain": [
       "0"
      ]
     },
<<<<<<< HEAD
     "execution_count": 21,
=======
     "execution_count": 218,
>>>>>>> a67f86bf978a8e30b3f3d93419a2b246712377e6
     "metadata": {},
     "output_type": "execute_result"
    }
   ],
   "source": [
    "# Checking for duplicated entries\n",
    "data.id.duplicated().sum()"
   ]
  },
  {
   "cell_type": "markdown",
   "metadata": {},
   "source": [
    "This data does not have duplicated entries on the unique identifier ``id``."
   ]
  },
  {
   "cell_type": "markdown",
   "metadata": {},
   "source": [
    "### Checking for and handling Missing values"
   ]
  },
  {
   "cell_type": "code",
<<<<<<< HEAD
   "execution_count": 22,
=======
   "execution_count": 219,
>>>>>>> a67f86bf978a8e30b3f3d93419a2b246712377e6
   "metadata": {},
   "outputs": [
    {
     "data": {
      "text/plain": [
       "id                          0\n",
       "amount_tsh                  0\n",
       "funder                   3635\n",
       "gps_height                  0\n",
       "installer                3655\n",
       "longitude                   0\n",
       "latitude                    0\n",
       "basin                       0\n",
       "region                      0\n",
       "population                  0\n",
       "permit                   3056\n",
       "construction_year           0\n",
       "extraction_type_class       0\n",
       "management_group            0\n",
       "payment                     0\n",
       "quality_group               0\n",
       "quantity                    0\n",
       "source_class                0\n",
       "waterpoint_type             0\n",
       "status_group                0\n",
       "dtype: int64"
      ]
     },
<<<<<<< HEAD
     "execution_count": 22,
=======
     "execution_count": 219,
>>>>>>> a67f86bf978a8e30b3f3d93419a2b246712377e6
     "metadata": {},
     "output_type": "execute_result"
    }
   ],
   "source": [
    "# checking for missing values\n",
    "data.isna().sum()"
   ]
  },
  {
   "cell_type": "code",
<<<<<<< HEAD
   "execution_count": 23,
=======
   "execution_count": 220,
>>>>>>> a67f86bf978a8e30b3f3d93419a2b246712377e6
   "metadata": {},
   "outputs": [
    {
     "data": {
      "text/plain": [
       "installer                6.153199\n",
       "funder                   6.119529\n",
       "permit                   5.144781\n",
       "status_group             0.000000\n",
       "region                   0.000000\n",
       "amount_tsh               0.000000\n",
       "gps_height               0.000000\n",
       "longitude                0.000000\n",
       "latitude                 0.000000\n",
       "basin                    0.000000\n",
       "population               0.000000\n",
       "waterpoint_type          0.000000\n",
       "construction_year        0.000000\n",
       "extraction_type_class    0.000000\n",
       "management_group         0.000000\n",
       "payment                  0.000000\n",
       "quality_group            0.000000\n",
       "quantity                 0.000000\n",
       "source_class             0.000000\n",
       "id                       0.000000\n",
       "dtype: float64"
      ]
     },
<<<<<<< HEAD
     "execution_count": 23,
=======
     "execution_count": 220,
>>>>>>> a67f86bf978a8e30b3f3d93419a2b246712377e6
     "metadata": {},
     "output_type": "execute_result"
    }
   ],
   "source": [
    "#checking for the percentage of missing values of data points in each column\n",
    "percentages = (data.isna().sum() / len(data)) * 100\n",
    "percentages.sort_values(ascending=False)"
   ]
  },
  {
   "cell_type": "markdown",
   "metadata": {},
   "source": [
    "The columns ``funder``, ``installer`` and ``permit`` are the only features with missing values. In addition, the percentage of entries classified as missing values in ``funder`` and ``installer`` are small enough for us to drop those entries without sacrificing a big chunk of our data."
   ]
  },
  {
   "cell_type": "code",
<<<<<<< HEAD
   "execution_count": 24,
=======
   "execution_count": 221,
>>>>>>> a67f86bf978a8e30b3f3d93419a2b246712377e6
   "metadata": {},
   "outputs": [
    {
     "name": "stdout",
     "output_type": "stream",
     "text": [
      "For column funder:\n",
      "There are 1897 unique values in this column\n",
      "------------------\n",
      "For column installer:\n",
      "There are 2145 unique values in this column\n",
      "------------------\n",
      "For column permit:\n",
      "There are 2 unique values in this column\n",
      "------------------\n"
     ]
    }
   ],
   "source": [
    "# Having a glimpe of the feature funder\n",
    "for col in ['funder', 'installer', 'permit']:\n",
    "    print(f\"For column {col}:\")\n",
    "    print(f\"There are {data[col].nunique()} unique values in this column\")\n",
    "    print(\"------------------\")"
   ]
  },
  {
   "cell_type": "code",
<<<<<<< HEAD
   "execution_count": 25,
=======
   "execution_count": 222,
>>>>>>> a67f86bf978a8e30b3f3d93419a2b246712377e6
   "metadata": {},
   "outputs": [
    {
     "data": {
      "text/plain": [
       "[0.6895499077097828, 0.31045009229021725]"
      ]
     },
<<<<<<< HEAD
     "execution_count": 25,
=======
     "execution_count": 222,
>>>>>>> a67f86bf978a8e30b3f3d93419a2b246712377e6
     "metadata": {},
     "output_type": "execute_result"
    }
   ],
   "source": [
    "# creating an array of densities to impute missing values for permit\n",
    "densities = list(data.permit.value_counts(normalize=True))\n",
    "\n",
    "# previewing densities\n",
    "densities"
   ]
  },
  {
   "cell_type": "code",
<<<<<<< HEAD
   "execution_count": 26,
=======
   "execution_count": 223,
>>>>>>> a67f86bf978a8e30b3f3d93419a2b246712377e6
   "metadata": {},
   "outputs": [
    {
     "name": "stdout",
     "output_type": "stream",
     "text": [
      "For funder :\n",
      "The densities are: Government Of Tanzania    0.162898\n",
      "Danida                    0.055841\n",
      "Hesawa                    0.039487\n",
      "Rwssp                     0.024639\n",
      "World Bank                0.024191\n",
      "Name: funder, dtype: float64\n",
      "Number of missing values are : 3635\n",
      "-----------------------------\n",
      "For installer :\n",
      "The densities are: DWE           0.312171\n",
      "Government    0.032738\n",
      "RWE           0.021634\n",
      "Commu         0.019015\n",
      "DANIDA        0.018836\n",
      "Name: installer, dtype: float64\n",
      "Number of missing values are : 3655\n",
      "-----------------------------\n",
      "For permit :\n",
      "The densities are: True     0.670657\n",
      "False    0.329343\n",
      "Name: permit, dtype: float64\n",
      "Number of missing values are : 0\n",
      "-----------------------------\n"
     ]
    }
   ],
   "source": [
    "#setting seed for reproducibility\n",
    "np.random.seed(0)\n",
    "\n",
<<<<<<< HEAD
    "# Defining a function to fill missing values for permit\n",
    "def impute_missing(value):\n",
    "    '''A function that fills missing values for permit'''\n",
=======
    "# Defining a function to fill missing values for waterfront\n",
    "def impute_missing(value):\n",
    "    '''A function that fills missing values for waterfront'''\n",
>>>>>>> a67f86bf978a8e30b3f3d93419a2b246712377e6
    "    if value not in [0,1]:\n",
    "        return np.random.choice([0,1], p=densities)\n",
    "    else:\n",
    "        return value\n",
    "    \n",
    "# Applying the function to the column permit    \n",
    "data['permit'] = data['permit'].map(lambda x: impute_missing(x))\n",
    "\n",
    "# #previewing the columns to check for missing values\n",
    "for col in ['funder', 'installer', 'permit']:\n",
    "    print('For', col,':')\n",
    "    print('The densities are:', data[col].value_counts(normalize=True).\\\n",
    "        sort_values(ascending=False).head())\n",
    "    print(\"Number of missing values are : {}\".format(data[col].isna().sum()))\n",
    "    print(\"-----------------------------\")"
   ]
  },
  {
   "cell_type": "markdown",
   "metadata": {},
   "source": [
    "The missing values from ``permit`` have been imputed successfully using a user-defined function based on the probability densities of the feature. But the columns ``installer`` and ``funder`` still have missing values due to the fact that they are string values and the study thought it wise to remove those entries."
   ]
  },
  {
   "cell_type": "code",
<<<<<<< HEAD
   "execution_count": 27,
=======
   "execution_count": 224,
>>>>>>> a67f86bf978a8e30b3f3d93419a2b246712377e6
   "metadata": {},
   "outputs": [
    {
     "data": {
      "text/plain": [
       "id                       0\n",
       "amount_tsh               0\n",
       "funder                   0\n",
       "gps_height               0\n",
       "installer                0\n",
       "longitude                0\n",
       "latitude                 0\n",
       "basin                    0\n",
       "region                   0\n",
       "population               0\n",
       "permit                   0\n",
       "construction_year        0\n",
       "extraction_type_class    0\n",
       "management_group         0\n",
       "payment                  0\n",
       "quality_group            0\n",
       "quantity                 0\n",
       "source_class             0\n",
       "waterpoint_type          0\n",
       "status_group             0\n",
       "dtype: int64"
      ]
     },
<<<<<<< HEAD
     "execution_count": 27,
=======
     "execution_count": 224,
>>>>>>> a67f86bf978a8e30b3f3d93419a2b246712377e6
     "metadata": {},
     "output_type": "execute_result"
    }
   ],
   "source": [
    "# Dropping missing values from  installer and funder along the rows\n",
    "data.dropna(axis=0, inplace=True)\n",
    "\n",
    "# Checking once more for missing values\n",
    "data.isna().sum()"
   ]
  },
  {
   "cell_type": "markdown",
   "metadata": {},
   "source": [
    "There are no more missing values in the data."
   ]
  },
  {
   "cell_type": "markdown",
   "metadata": {},
   "source": [
    "### Type casting invalid data formats to correct formats"
   ]
  },
  {
   "cell_type": "code",
<<<<<<< HEAD
   "execution_count": 111,
   "metadata": {},
   "outputs": [
    {
     "data": {
      "text/plain": [
       "dtype('O')"
      ]
     },
     "execution_count": 111,
     "metadata": {},
     "output_type": "execute_result"
    }
   ],
   "source": [
    "# Type casting the id column to string\n",
    "data[\"id\"] = data[\"id\"].astype(str)\n",
    "\n",
    "# checking if type is object\n",
    "data.id.dtype"
   ]
  },
  {
   "cell_type": "markdown",
   "metadata": {},
   "source": [
    "The type of the feature ``id`` has been casted to object, which is pandas for string."
   ]
  },
  {
   "cell_type": "code",
   "execution_count": 28,
=======
   "execution_count": 225,
>>>>>>> a67f86bf978a8e30b3f3d93419a2b246712377e6
   "metadata": {},
   "outputs": [
    {
     "data": {
      "text/plain": [
       "dtype('<M8[ns]')"
      ]
     },
<<<<<<< HEAD
     "execution_count": 28,
=======
     "execution_count": 225,
>>>>>>> a67f86bf978a8e30b3f3d93419a2b246712377e6
     "metadata": {},
     "output_type": "execute_result"
    }
   ],
   "source": [
    "#converting the data type of construction_yr to pd.datetime and creating multiple columns out of it\n",
    "# convert construction_year column from string to datetime\n",
    "data['construction_year'] = pd.to_datetime(data['construction_year'])\n",
    "data.construction_year.dtype"
   ]
  },
  {
   "cell_type": "code",
<<<<<<< HEAD
   "execution_count": 29,
=======
   "execution_count": 226,
>>>>>>> a67f86bf978a8e30b3f3d93419a2b246712377e6
   "metadata": {},
   "outputs": [
    {
     "name": "stdout",
     "output_type": "stream",
     "text": [
      "<class 'pandas.core.frame.DataFrame'>\n",
      "Int64Index: 55692 entries, 0 to 59399\n",
      "Data columns (total 20 columns):\n",
      " #   Column                 Non-Null Count  Dtype         \n",
      "---  ------                 --------------  -----         \n",
      " 0   id                     55692 non-null  int64         \n",
      " 1   amount_tsh             55692 non-null  float64       \n",
      " 2   funder                 55692 non-null  object        \n",
      " 3   gps_height             55692 non-null  int64         \n",
      " 4   installer              55692 non-null  object        \n",
      " 5   longitude              55692 non-null  float64       \n",
      " 6   latitude               55692 non-null  float64       \n",
      " 7   basin                  55692 non-null  object        \n",
      " 8   region                 55692 non-null  object        \n",
      " 9   population             55692 non-null  int64         \n",
      " 10  permit                 55692 non-null  object        \n",
      " 11  construction_year      55692 non-null  datetime64[ns]\n",
      " 12  extraction_type_class  55692 non-null  object        \n",
      " 13  management_group       55692 non-null  object        \n",
      " 14  payment                55692 non-null  object        \n",
      " 15  quality_group          55692 non-null  object        \n",
      " 16  quantity               55692 non-null  object        \n",
      " 17  source_class           55692 non-null  object        \n",
      " 18  waterpoint_type        55692 non-null  object        \n",
      " 19  status_group           55692 non-null  object        \n",
      "dtypes: datetime64[ns](1), float64(3), int64(3), object(13)\n",
      "memory usage: 8.9+ MB\n"
     ]
    }
   ],
   "source": [
    "# checking the data types of the columns\n",
    "data.info()"
   ]
  },
  {
   "cell_type": "markdown",
   "metadata": {},
   "source": [
    "The feature ``construction_year`` has been successfully casted to datetime object."
   ]
  },
  {
<<<<<<< HEAD
=======
   "cell_type": "code",
   "execution_count": 227,
   "metadata": {},
   "outputs": [
    {
     "data": {
      "text/plain": [
       "good        47900\n",
       "salty        5130\n",
       "unknown      1293\n",
       "milky         785\n",
       "colored       391\n",
       "fluoride      193\n",
       "Name: quality_group, dtype: int64"
      ]
     },
     "execution_count": 227,
     "metadata": {},
     "output_type": "execute_result"
    }
   ],
   "source": [
    "data.quality_group.value_counts()"
   ]
  },
  {
   "cell_type": "code",
   "execution_count": 228,
   "metadata": {},
   "outputs": [
    {
     "data": {
      "text/plain": [
       "0.0         38293\n",
       "500.0        3092\n",
       "50.0         2342\n",
       "1000.0       1451\n",
       "20.0         1433\n",
       "            ...  \n",
       "8500.0          1\n",
       "6300.0          1\n",
       "220.0           1\n",
       "138000.0        1\n",
       "12.0            1\n",
       "Name: amount_tsh, Length: 97, dtype: int64"
      ]
     },
     "execution_count": 228,
     "metadata": {},
     "output_type": "execute_result"
    }
   ],
   "source": [
    "data.amount_tsh.value_counts()"
   ]
  },
  {
   "cell_type": "code",
   "execution_count": 229,
   "metadata": {},
   "outputs": [
    {
     "data": {
      "text/plain": [
       "enough          31931\n",
       "insufficient    13933\n",
       "dry              5778\n",
       "seasonal         3409\n",
       "unknown           641\n",
       "Name: quantity, dtype: int64"
      ]
     },
     "execution_count": 229,
     "metadata": {},
     "output_type": "execute_result"
    }
   ],
   "source": [
    "data.quantity.value_counts()"
   ]
  },
  {
   "cell_type": "code",
   "execution_count": 230,
   "metadata": {},
   "outputs": [
    {
     "data": {
      "text/plain": [
       "good        47900\n",
       "salty        5130\n",
       "unknown      1293\n",
       "milky         785\n",
       "colored       391\n",
       "fluoride      193\n",
       "Name: quality_group, dtype: int64"
      ]
     },
     "execution_count": 230,
     "metadata": {},
     "output_type": "execute_result"
    }
   ],
   "source": [
    "data.quality_group.value_counts()"
   ]
  },
  {
   "cell_type": "code",
   "execution_count": 231,
   "metadata": {},
   "outputs": [
    {
     "data": {
      "text/plain": [
       "Lake Victoria              10047\n",
       "Pangani                     8812\n",
       "Rufiji                      7196\n",
       "Internal                    6588\n",
       "Lake Tanganyika             6400\n",
       "Wami / Ruvu                 5949\n",
       "Ruvuma / Southern Coast     4482\n",
       "Lake Nyasa                  3768\n",
       "Lake Rukwa                  2450\n",
       "Name: basin, dtype: int64"
      ]
     },
     "execution_count": 231,
     "metadata": {},
     "output_type": "execute_result"
    }
   ],
   "source": [
    "data.basin.value_counts()"
   ]
  },
  {
   "cell_type": "code",
   "execution_count": 232,
   "metadata": {},
   "outputs": [
    {
     "data": {
      "text/plain": [
       "functional                 30226\n",
       "non functional             21589\n",
       "functional needs repair     3877\n",
       "Name: status_group, dtype: int64"
      ]
     },
     "execution_count": 232,
     "metadata": {},
     "output_type": "execute_result"
    }
   ],
   "source": [
    "data.status_group.value_counts()"
   ]
  },
  {
>>>>>>> a67f86bf978a8e30b3f3d93419a2b246712377e6
   "cell_type": "markdown",
   "metadata": {},
   "source": [
    "### Feature Engineering"
   ]
  },
  {
   "cell_type": "code",
<<<<<<< HEAD
   "execution_count": 30,
=======
   "execution_count": 233,
>>>>>>> a67f86bf978a8e30b3f3d93419a2b246712377e6
   "metadata": {},
   "outputs": [],
   "source": [
    "# Creating a dictionary to be used in type casting status group to a binary column\n",
    "# The new values will be 0 for non functional, and 1 for functional and \n",
    "status_dict = {'functional':1, 'non functional': 0, 'functional needs repair':1}"
   ]
  },
  {
   "cell_type": "code",
<<<<<<< HEAD
   "execution_count": 31,
=======
   "execution_count": 234,
>>>>>>> a67f86bf978a8e30b3f3d93419a2b246712377e6
   "metadata": {},
   "outputs": [
    {
     "name": "stdout",
     "output_type": "stream",
     "text": [
      "The type is int64\n",
      "\n",
      "The value counts are:\n",
      "1    34103\n",
      "0    21589\n",
      "Name: status_group, dtype: int64\n"
     ]
    }
   ],
   "source": [
    "# Applying the dictionary using the map method of pandas\n",
    "data['status_group'] = data[\"status_group\"].map(status_dict)\n",
    "\n",
    "# Checking the type and the values of the column status_group\n",
    "print('The type is', data.status_group.dtype)\n",
    "print()\n",
    "print('The value counts are:') \n",
    "print(data.status_group.value_counts())"
   ]
  },
  {
   "cell_type": "code",
<<<<<<< HEAD
   "execution_count": 32,
=======
   "execution_count": 236,
>>>>>>> a67f86bf978a8e30b3f3d93419a2b246712377e6
   "metadata": {},
   "outputs": [
    {
     "data": {
      "text/plain": [
       "1    0.61235\n",
       "0    0.38765\n",
       "Name: status_group, dtype: float64"
      ]
     },
<<<<<<< HEAD
     "execution_count": 32,
=======
     "execution_count": 236,
>>>>>>> a67f86bf978a8e30b3f3d93419a2b246712377e6
     "metadata": {},
     "output_type": "execute_result"
    }
   ],
   "source": [
    "data.status_group.value_counts(normalize=True)"
   ]
  },
  {
   "cell_type": "code",
<<<<<<< HEAD
   "execution_count": 33,
=======
   "execution_count": 80,
   "metadata": {},
   "outputs": [
    {
     "data": {
      "text/plain": [
       "[109,\n",
       " 280,\n",
       " 250,\n",
       " 58,\n",
       " 0,\n",
       " 1,\n",
       " 345,\n",
       " 200,\n",
       " 35,\n",
       " 50,\n",
       " 1000,\n",
       " 4,\n",
       " 350,\n",
       " 210,\n",
       " 156,\n",
       " 140,\n",
       " 260,\n",
       " 150,\n",
       " 180,\n",
       " 70,\n",
       " 100,\n",
       " 230,\n",
       " 30,\n",
       " 20,\n",
       " 10,\n",
       " 45,\n",
       " 456,\n",
       " 567,\n",
       " 130,\n",
       " 225,\n",
       " 54,\n",
       " 75,\n",
       " 900,\n",
       " 360,\n",
       " 544,\n",
       " 441,\n",
       " 120,\n",
       " 40,\n",
       " 221,\n",
       " 950,\n",
       " 1430,\n",
       " 110,\n",
       " 256,\n",
       " 320,\n",
       " 90,\n",
       " 804,\n",
       " 600,\n",
       " 370,\n",
       " 305,\n",
       " 1600,\n",
       " 400,\n",
       " 590,\n",
       " 450,\n",
       " 80,\n",
       " 560,\n",
       " 2500,\n",
       " 1050,\n",
       " 36,\n",
       " 540,\n",
       " 300,\n",
       " 12,\n",
       " 632,\n",
       " 245,\n",
       " 59,\n",
       " 25,\n",
       " 500,\n",
       " 570,\n",
       " 700,\n",
       " 111,\n",
       " 630,\n",
       " 270,\n",
       " 55,\n",
       " 1700,\n",
       " 800,\n",
       " 87,\n",
       " 2530,\n",
       " 86,\n",
       " 96,\n",
       " 240,\n",
       " 203,\n",
       " 215,\n",
       " 98,\n",
       " 160,\n",
       " 1200,\n",
       " 309,\n",
       " 95,\n",
       " 60,\n",
       " 85,\n",
       " 159,\n",
       " 65,\n",
       " 48,\n",
       " 2150,\n",
       " 1013,\n",
       " 220,\n",
       " 1680,\n",
       " 375,\n",
       " 2000,\n",
       " 125,\n",
       " 3226,\n",
       " 253,\n",
       " 88,\n",
       " 133,\n",
       " 650,\n",
       " 163,\n",
       " 430,\n",
       " 290,\n",
       " 2100,\n",
       " 285,\n",
       " 425,\n",
       " 155,\n",
       " 1500,\n",
       " 185,\n",
       " 368,\n",
       " 115,\n",
       " 520,\n",
       " 406,\n",
       " 970,\n",
       " 52,\n",
       " 750,\n",
       " 380,\n",
       " 123,\n",
       " 730,\n",
       " 105,\n",
       " 452,\n",
       " 1320,\n",
       " 14,\n",
       " 261,\n",
       " 82,\n",
       " 550,\n",
       " 393,\n",
       " 348,\n",
       " 89,\n",
       " 412,\n",
       " 530,\n",
       " 386,\n",
       " 278,\n",
       " 212,\n",
       " 340,\n",
       " 568,\n",
       " 418,\n",
       " 56,\n",
       " 516,\n",
       " 6922,\n",
       " 183,\n",
       " 6,\n",
       " 263,\n",
       " 480,\n",
       " 1250,\n",
       " 8,\n",
       " 321,\n",
       " 420,\n",
       " 620,\n",
       " 5153,\n",
       " 2353,\n",
       " 440,\n",
       " 1015,\n",
       " 269,\n",
       " 44,\n",
       " 174,\n",
       " 323,\n",
       " 233,\n",
       " 258,\n",
       " 152,\n",
       " 42,\n",
       " 358,\n",
       " 211,\n",
       " 855,\n",
       " 1020,\n",
       " 15,\n",
       " 69,\n",
       " 145,\n",
       " 22,\n",
       " 246,\n",
       " 99,\n",
       " 137,\n",
       " 124,\n",
       " 680,\n",
       " 740,\n",
       " 333,\n",
       " 1180,\n",
       " 53,\n",
       " 355,\n",
       " 1041,\n",
       " 390,\n",
       " 265,\n",
       " 465,\n",
       " 1632,\n",
       " 1360,\n",
       " 182,\n",
       " 2395,\n",
       " 356,\n",
       " 580,\n",
       " 453,\n",
       " 46,\n",
       " 471,\n",
       " 284,\n",
       " 9,\n",
       " 819,\n",
       " 1506,\n",
       " 68,\n",
       " 132,\n",
       " 369,\n",
       " 235,\n",
       " 144,\n",
       " 591,\n",
       " 103,\n",
       " 335,\n",
       " 812,\n",
       " 195,\n",
       " 5,\n",
       " 315,\n",
       " 685,\n",
       " 548,\n",
       " 554,\n",
       " 860,\n",
       " 83,\n",
       " 2200,\n",
       " 3200,\n",
       " 1070,\n",
       " 415,\n",
       " 455,\n",
       " 850,\n",
       " 1650,\n",
       " 222,\n",
       " 2800,\n",
       " 330,\n",
       " 780,\n",
       " 608,\n",
       " 162,\n",
       " 357,\n",
       " 1570,\n",
       " 231,\n",
       " 135,\n",
       " 114,\n",
       " 531,\n",
       " 57,\n",
       " 234,\n",
       " 101,\n",
       " 170,\n",
       " 1530,\n",
       " 134,\n",
       " 176,\n",
       " 610,\n",
       " 32,\n",
       " 154,\n",
       " 2013,\n",
       " 204,\n",
       " 213,\n",
       " 405,\n",
       " 236,\n",
       " 239,\n",
       " 532,\n",
       " 64,\n",
       " 458,\n",
       " 1140,\n",
       " 153,\n",
       " 4100,\n",
       " 126,\n",
       " 205,\n",
       " 1740,\n",
       " 2300,\n",
       " 749,\n",
       " 190,\n",
       " 1850,\n",
       " 802,\n",
       " 1400,\n",
       " 595,\n",
       " 217,\n",
       " 23,\n",
       " 365,\n",
       " 168,\n",
       " 1009,\n",
       " 139,\n",
       " 97,\n",
       " 2698,\n",
       " 143,\n",
       " 198,\n",
       " 84,\n",
       " 810,\n",
       " 640,\n",
       " 445,\n",
       " 634,\n",
       " 954,\n",
       " 17,\n",
       " 1220,\n",
       " 72,\n",
       " 5030,\n",
       " 720,\n",
       " 579,\n",
       " 295,\n",
       " 341,\n",
       " 563,\n",
       " 310,\n",
       " 76,\n",
       " 1040,\n",
       " 107,\n",
       " 338,\n",
       " 1100,\n",
       " 840,\n",
       " 189,\n",
       " 413,\n",
       " 352,\n",
       " 423,\n",
       " 325,\n",
       " 4005,\n",
       " 679,\n",
       " 1750,\n",
       " 896,\n",
       " 1800,\n",
       " 3500,\n",
       " 710,\n",
       " 61,\n",
       " 385,\n",
       " 362,\n",
       " 3020,\n",
       " 690,\n",
       " 4500,\n",
       " 460,\n",
       " 459,\n",
       " 397,\n",
       " 4000,\n",
       " 206,\n",
       " 475,\n",
       " 346,\n",
       " 268,\n",
       " 186,\n",
       " 164,\n",
       " 779,\n",
       " 3127,\n",
       " 3000,\n",
       " 354,\n",
       " 38,\n",
       " 542,\n",
       " 656,\n",
       " 181,\n",
       " 259,\n",
       " 890,\n",
       " 769,\n",
       " 63,\n",
       " 759,\n",
       " 94,\n",
       " 7500,\n",
       " 367,\n",
       " 119,\n",
       " 863,\n",
       " 512,\n",
       " 5000,\n",
       " 255,\n",
       " 243,\n",
       " 49,\n",
       " 396,\n",
       " 654,\n",
       " 6000,\n",
       " 102,\n",
       " 254,\n",
       " 374,\n",
       " 1450,\n",
       " 264,\n",
       " 6500,\n",
       " 820,\n",
       " 1520,\n",
       " 1486,\n",
       " 574,\n",
       " 266,\n",
       " 313,\n",
       " 432,\n",
       " 569,\n",
       " 241,\n",
       " 602,\n",
       " 1160,\n",
       " 209,\n",
       " 653,\n",
       " 165,\n",
       " 4900,\n",
       " 2,\n",
       " 1177,\n",
       " 628,\n",
       " 81,\n",
       " 106,\n",
       " 108,\n",
       " 487,\n",
       " 175,\n",
       " 158,\n",
       " 483,\n",
       " 267,\n",
       " 7000,\n",
       " 543,\n",
       " 3110,\n",
       " 26,\n",
       " 219,\n",
       " 603,\n",
       " 1900,\n",
       " 4210,\n",
       " 149,\n",
       " 16,\n",
       " 2445,\n",
       " 271,\n",
       " 142,\n",
       " 251,\n",
       " 1540,\n",
       " 410,\n",
       " 736,\n",
       " 1930,\n",
       " 117,\n",
       " 857,\n",
       " 39,\n",
       " 286,\n",
       " 490,\n",
       " 147,\n",
       " 299,\n",
       " 3981,\n",
       " 66,\n",
       " 302,\n",
       " 960,\n",
       " 502,\n",
       " 128,\n",
       " 956,\n",
       " 298,\n",
       " 188,\n",
       " 510,\n",
       " 29,\n",
       " 146,\n",
       " 830,\n",
       " 324,\n",
       " 1903,\n",
       " 79,\n",
       " 842,\n",
       " 192,\n",
       " 1440,\n",
       " 312,\n",
       " 495,\n",
       " 274,\n",
       " 1226,\n",
       " 616,\n",
       " 825,\n",
       " 513,\n",
       " 293,\n",
       " 488,\n",
       " 2210,\n",
       " 167,\n",
       " 1300,\n",
       " 660,\n",
       " 5500,\n",
       " 519,\n",
       " 194,\n",
       " 1614,\n",
       " 578,\n",
       " 734,\n",
       " 1280,\n",
       " 499,\n",
       " 478,\n",
       " 2130,\n",
       " 536,\n",
       " 668,\n",
       " 214,\n",
       " 318,\n",
       " 533,\n",
       " 1230,\n",
       " 238,\n",
       " 760,\n",
       " 291,\n",
       " 457,\n",
       " 525,\n",
       " 743,\n",
       " 223,\n",
       " 294,\n",
       " 3800,\n",
       " 556,\n",
       " 1237,\n",
       " 224,\n",
       " 1030,\n",
       " 963,\n",
       " 287,\n",
       " 4523,\n",
       " 2700,\n",
       " 317,\n",
       " 1034,\n",
       " 178,\n",
       " 19,\n",
       " 3600,\n",
       " 790,\n",
       " 742,\n",
       " 875,\n",
       " 18,\n",
       " 462,\n",
       " 273,\n",
       " 199,\n",
       " 232,\n",
       " 470,\n",
       " 172,\n",
       " 289,\n",
       " 586,\n",
       " 1550,\n",
       " 770,\n",
       " 249,\n",
       " 442,\n",
       " 1205,\n",
       " 193,\n",
       " 655,\n",
       " 2400,\n",
       " 78,\n",
       " 658,\n",
       " 216,\n",
       " 296,\n",
       " 662,\n",
       " 226,\n",
       " 454,\n",
       " 670,\n",
       " 13,\n",
       " 244,\n",
       " 589,\n",
       " 4550,\n",
       " 435,\n",
       " 528,\n",
       " 5600,\n",
       " 1185,\n",
       " 8000,\n",
       " 306,\n",
       " 561,\n",
       " 596,\n",
       " 703,\n",
       " 2016,\n",
       " 592,\n",
       " 127,\n",
       " 1807,\n",
       " 893,\n",
       " 157,\n",
       " 288,\n",
       " 2129,\n",
       " 558,\n",
       " 4530,\n",
       " 675,\n",
       " 935,\n",
       " 392,\n",
       " 834,\n",
       " 725,\n",
       " 587,\n",
       " 1960,\n",
       " 11,\n",
       " 594,\n",
       " 257,\n",
       " 73,\n",
       " 698,\n",
       " 467,\n",
       " 588,\n",
       " 382,\n",
       " 112,\n",
       " 722,\n",
       " 92,\n",
       " 663,\n",
       " 732,\n",
       " 136,\n",
       " 24,\n",
       " 3072,\n",
       " 1724,\n",
       " 4600,\n",
       " 297,\n",
       " 34,\n",
       " 5200,\n",
       " 74,\n",
       " 438,\n",
       " 151,\n",
       " 856,\n",
       " 853,\n",
       " 275,\n",
       " 2385,\n",
       " 1065,\n",
       " 336,\n",
       " 635,\n",
       " 1056,\n",
       " 529,\n",
       " 798,\n",
       " 411,\n",
       " 897,\n",
       " 598,\n",
       " 865,\n",
       " 351,\n",
       " 1860,\n",
       " 3450,\n",
       " 816,\n",
       " 585,\n",
       " 961,\n",
       " 2560,\n",
       " 524,\n",
       " 161,\n",
       " 642,\n",
       " 361,\n",
       " 347,\n",
       " 1234,\n",
       " 314,\n",
       " 665,\n",
       " 1150,\n",
       " 1120,\n",
       " 545,\n",
       " 9865,\n",
       " 461,\n",
       " 177,\n",
       " 748,\n",
       " 1036,\n",
       " 247,\n",
       " 113,\n",
       " 301,\n",
       " 427,\n",
       " 565,\n",
       " 5016,\n",
       " 814,\n",
       " 329,\n",
       " 51,\n",
       " 1502,\n",
       " 252,\n",
       " 501,\n",
       " 927,\n",
       " 721,\n",
       " 2350,\n",
       " 303,\n",
       " 498,\n",
       " 2620,\n",
       " 1830,\n",
       " 538,\n",
       " 476,\n",
       " 116,\n",
       " 3832,\n",
       " 322,\n",
       " 5400,\n",
       " 276,\n",
       " 6300,\n",
       " 15300,\n",
       " 712,\n",
       " 344,\n",
       " 621,\n",
       " 2813,\n",
       " 207,\n",
       " 447,\n",
       " 2020,\n",
       " 4230,\n",
       " 389,\n",
       " 328,\n",
       " 674,\n",
       " 1950,\n",
       " 874,\n",
       " 196,\n",
       " 208,\n",
       " 4200,\n",
       " 1483,\n",
       " 384,\n",
       " 43,\n",
       " 67,\n",
       " 645,\n",
       " 521,\n",
       " 28,\n",
       " 93,\n",
       " 353,\n",
       " 395,\n",
       " 880,\n",
       " 678,\n",
       " 1831,\n",
       " 304,\n",
       " 1305,\n",
       " 122,\n",
       " 1436,\n",
       " 283,\n",
       " 1510,\n",
       " 1251,\n",
       " 218,\n",
       " 625,\n",
       " 523,\n",
       " 755,\n",
       " 1968,\n",
       " 227,\n",
       " 433,\n",
       " 714,\n",
       " 71,\n",
       " 537,\n",
       " 572,\n",
       " 121,\n",
       " 1306,\n",
       " 6800,\n",
       " 807,\n",
       " 463,\n",
       " 237,\n",
       " 407,\n",
       " 1685,\n",
       " 2954,\n",
       " 33,\n",
       " 575,\n",
       " 966,\n",
       " 2780,\n",
       " 629,\n",
       " 643,\n",
       " 1890,\n",
       " 8848,\n",
       " 482,\n",
       " 334,\n",
       " 571,\n",
       " 37,\n",
       " 2684,\n",
       " 2630,\n",
       " 672,\n",
       " 964,\n",
       " 930,\n",
       " 1942,\n",
       " 3540,\n",
       " 583,\n",
       " 331,\n",
       " 646,\n",
       " 2314,\n",
       " 1885,\n",
       " 242,\n",
       " 511,\n",
       " 202,\n",
       " 518,\n",
       " 408,\n",
       " 359,\n",
       " 581,\n",
       " 5050,\n",
       " 652,\n",
       " 327,\n",
       " 786,\n",
       " 584,\n",
       " 723,\n",
       " 948,\n",
       " 517,\n",
       " 870,\n",
       " 735,\n",
       " 184,\n",
       " 606,\n",
       " 77,\n",
       " 6330,\n",
       " 566,\n",
       " 326,\n",
       " 489,\n",
       " 281,\n",
       " 2050,\n",
       " 1038,\n",
       " 843,\n",
       " 8500,\n",
       " 7,\n",
       " 701,\n",
       " 104,\n",
       " 1590,\n",
       " 486,\n",
       " 148,\n",
       " 1206,\n",
       " 376,\n",
       " 905,\n",
       " 657,\n",
       " 745,\n",
       " 821,\n",
       " 782,\n",
       " 448,\n",
       " 3050,\n",
       " 272,\n",
       " 1380,\n",
       " 171,\n",
       " 2514,\n",
       " 421,\n",
       " 141,\n",
       " 428,\n",
       " 1432,\n",
       " 1019,\n",
       " 6854,\n",
       " 527,\n",
       " 2652,\n",
       " 980,\n",
       " 823,\n",
       " 5300,\n",
       " 564,\n",
       " 1265,\n",
       " 1840,\n",
       " 815,\n",
       " 41,\n",
       " 201,\n",
       " 3236,\n",
       " 1375,\n",
       " 248,\n",
       " 3982,\n",
       " 444,\n",
       " 4310,\n",
       " 402,\n",
       " 903,\n",
       " 686,\n",
       " 469,\n",
       " 47,\n",
       " 308,\n",
       " 339,\n",
       " 638,\n",
       " 479,\n",
       " 187,\n",
       " 496,\n",
       " 129,\n",
       " 684,\n",
       " 906,\n",
       " 2450,\n",
       " 633,\n",
       " 2807,\n",
       " 503,\n",
       " 364,\n",
       " 535,\n",
       " 292,\n",
       " 793,\n",
       " 869,\n",
       " 882,\n",
       " 332,\n",
       " 1350,\n",
       " 1710,\n",
       " 229,\n",
       " 756,\n",
       " 974,\n",
       " 3014,\n",
       " 746,\n",
       " 3821,\n",
       " 4800,\n",
       " 711,\n",
       " 618,\n",
       " 1630,\n",
       " 169,\n",
       " 2600,\n",
       " 1863,\n",
       " 1745,\n",
       " 437,\n",
       " 1114,\n",
       " 789,\n",
       " 10000,\n",
       " 492,\n",
       " 424,\n",
       " 4145,\n",
       " 30500,\n",
       " 431,\n",
       " 2670,\n",
       " 118,\n",
       " 1534,\n",
       " 1839,\n",
       " 3355,\n",
       " 1274,\n",
       " 1560,\n",
       " 228,\n",
       " 9000,\n",
       " 868,\n",
       " 2511,\n",
       " 27,\n",
       " 887,\n",
       " 485,\n",
       " 805,\n",
       " 4520,\n",
       " 1018,\n",
       " 504,\n",
       " 62,\n",
       " 3,\n",
       " 3560,\n",
       " 619,\n",
       " 1010,\n",
       " 1444,\n",
       " 131,\n",
       " 1240,\n",
       " 669,\n",
       " 262,\n",
       " 497,\n",
       " 515,\n",
       " 342,\n",
       " 2198,\n",
       " 705,\n",
       " 879,\n",
       " 1619,\n",
       " 547,\n",
       " 731,\n",
       " 901,\n",
       " 514,\n",
       " 771,\n",
       " 21,\n",
       " 1060,\n",
       " 965,\n",
       " 2683,\n",
       " 1152,\n",
       " 5550,\n",
       " 179,\n",
       " 522,\n",
       " 4660,\n",
       " 910,\n",
       " 639,\n",
       " 506,\n",
       " 1025,\n",
       " 419,\n",
       " 920,\n",
       " 609,\n",
       " 1080,\n",
       " 1354,\n",
       " 940,\n",
       " 5560,\n",
       " 990,\n",
       " 7530,\n",
       " 615,\n",
       " 3344,\n",
       " 2310,\n",
       " 1420,\n",
       " 753,\n",
       " 624,\n",
       " 372,\n",
       " 2416,\n",
       " 687,\n",
       " 827,\n",
       " 694,\n",
       " 713,\n",
       " 343,\n",
       " 1054,\n",
       " 282,\n",
       " 702,\n",
       " 2345,\n",
       " 934,\n",
       " 279,\n",
       " 436,\n",
       " 1470,\n",
       " 379,\n",
       " 426,\n",
       " 2531,\n",
       " 2230,\n",
       " 836,\n",
       " 3241,\n",
       " 451,\n",
       " 31,\n",
       " 1201,\n",
       " 349,\n",
       " 637,\n",
       " 1362,\n",
       " 1625,\n",
       " 724,\n",
       " 3750,\n",
       " 403,\n",
       " 508,\n",
       " 2685,\n",
       " 363,\n",
       " 1021,\n",
       " 1580,\n",
       " 366,\n",
       " 914,\n",
       " 1555,\n",
       " 2248,\n",
       " 612,\n",
       " 1410,\n",
       " 889,\n",
       " 864,\n",
       " 3455,\n",
       " 1720,\n",
       " 166,\n",
       " 552,\n",
       " 439,\n",
       " 422,\n",
       " 1742,\n",
       " 704,\n",
       " 443,\n",
       " 733,\n",
       " 4788,\n",
       " 1523,\n",
       " 507,\n",
       " 3411,\n",
       " 1203,\n",
       " 617,\n",
       " 1893,\n",
       " 91,\n",
       " 2238,\n",
       " 378,\n",
       " 316,\n",
       " 614,\n",
       " 1032,\n",
       " 3568,\n",
       " 2992,\n",
       " 534,\n",
       " 781,\n",
       " 1439,\n",
       " 6302,\n",
       " 763,\n",
       " 2905,\n",
       " 975,\n",
       " 553,\n",
       " 1260,\n",
       " 2518,\n",
       " 688,\n",
       " 593,\n",
       " 3031,\n",
       " 311,\n",
       " 1183,\n",
       " 1144,\n",
       " 1221,\n",
       " 11463,\n",
       " 1005,\n",
       " 2250,\n",
       " 526,\n",
       " 1545,\n",
       " 644,\n",
       " 1340,\n",
       " 3620,\n",
       " 1164,\n",
       " 605,\n",
       " 3850,\n",
       " 774,\n",
       " 3589,\n",
       " 936,\n",
       " 866,\n",
       " 697,\n",
       " 2750,\n",
       " 693,\n",
       " ...]"
      ]
     },
     "execution_count": 80,
     "metadata": {},
     "output_type": "execute_result"
    }
   ],
   "source": [
    "list(data.population.unique())"
   ]
  },
  {
   "cell_type": "code",
   "execution_count": null,
>>>>>>> a67f86bf978a8e30b3f3d93419a2b246712377e6
   "metadata": {},
   "outputs": [],
   "source": [
    "# what is the relationship between population and: amount_tsh, region, functionality "
   ]
  },
  {
   "cell_type": "code",
<<<<<<< HEAD
   "execution_count": 34,
=======
   "execution_count": 242,
>>>>>>> a67f86bf978a8e30b3f3d93419a2b246712377e6
   "metadata": {},
   "outputs": [],
   "source": [
    "# Saving cleaned data set for later use\n",
    "data.to_csv('./Data/cleaned_data.csv')"
   ]
  },
  {
   "cell_type": "code",
<<<<<<< HEAD
   "execution_count": 35,
   "metadata": {},
   "outputs": [
    {
     "name": "stdout",
     "output_type": "stream",
     "text": [
      "<class 'pandas.core.frame.DataFrame'>\n",
      "Int64Index: 55692 entries, 0 to 59399\n",
      "Data columns (total 20 columns):\n",
      " #   Column                 Non-Null Count  Dtype         \n",
      "---  ------                 --------------  -----         \n",
      " 0   id                     55692 non-null  int64         \n",
      " 1   amount_tsh             55692 non-null  float64       \n",
      " 2   funder                 55692 non-null  object        \n",
      " 3   gps_height             55692 non-null  int64         \n",
      " 4   installer              55692 non-null  object        \n",
      " 5   longitude              55692 non-null  float64       \n",
      " 6   latitude               55692 non-null  float64       \n",
      " 7   basin                  55692 non-null  object        \n",
      " 8   region                 55692 non-null  object        \n",
      " 9   population             55692 non-null  int64         \n",
      " 10  permit                 55692 non-null  object        \n",
      " 11  construction_year      55692 non-null  datetime64[ns]\n",
      " 12  extraction_type_class  55692 non-null  object        \n",
      " 13  management_group       55692 non-null  object        \n",
      " 14  payment                55692 non-null  object        \n",
      " 15  quality_group          55692 non-null  object        \n",
      " 16  quantity               55692 non-null  object        \n",
      " 17  source_class           55692 non-null  object        \n",
      " 18  waterpoint_type        55692 non-null  object        \n",
      " 19  status_group           55692 non-null  int64         \n",
      "dtypes: datetime64[ns](1), float64(3), int64(4), object(12)\n",
      "memory usage: 8.9+ MB\n"
     ]
    }
   ],
   "source": [
    "data.info()"
   ]
  },
  {
   "cell_type": "markdown",
   "metadata": {},
   "source": [
    "# Exploratory Data Analysis\n",
    "In this phase, the study aims to find patterns and trends within the data in order to inform the objectives of the study by the use of graphs, charts and vizualizations.\n",
    "## Univariate Analysis"
   ]
  },
  {
   "cell_type": "markdown",
   "metadata": {},
   "source": [
    "### Feature ``amount_tsh``"
   ]
  },
  {
   "cell_type": "code",
   "execution_count": 36,
   "metadata": {},
   "outputs": [],
   "source": [
    " # Setting the style for visualizations\n",
    "plt.style.use('ggplot')"
   ]
  },
  {
   "cell_type": "code",
   "execution_count": 37,
   "metadata": {},
   "outputs": [
    {
     "data": {
      "text/plain": [
       "dtype('float64')"
      ]
     },
     "execution_count": 37,
     "metadata": {},
     "output_type": "execute_result"
    }
   ],
   "source": [
    "# Getting the data type\n",
    "data.amount_tsh.dtype"
   ]
  },
  {
   "cell_type": "code",
   "execution_count": 38,
   "metadata": {},
   "outputs": [
    {
     "data": {
      "text/plain": [
       "count     55692.000000\n",
       "mean        327.517002\n",
       "std        2708.165477\n",
       "min           0.000000\n",
       "25%           0.000000\n",
       "50%           0.000000\n",
       "75%          30.000000\n",
       "max      250000.000000\n",
       "Name: amount_tsh, dtype: float64"
      ]
     },
     "execution_count": 38,
     "metadata": {},
     "output_type": "execute_result"
    }
   ],
   "source": [
    "# Getting summary statistics\n",
    "data.amount_tsh.describe().T"
   ]
  },
  {
   "cell_type": "code",
   "execution_count": 97,
   "metadata": {},
   "outputs": [
    {
     "name": "stdout",
     "output_type": "stream",
     "text": [
      "The mean total static head is 327.517 kilogram-metre per minute\n"
     ]
    }
   ],
   "source": [
    "# mean value\n",
    "print(f\"The mean total static head is {round(data.amount_tsh.mean(),3)} kilogram-metre per minute\")"
   ]
  },
  {
   "cell_type": "code",
   "execution_count": 98,
   "metadata": {},
   "outputs": [
    {
     "name": "stdout",
     "output_type": "stream",
     "text": [
      "The maximum total static head is 250000.0 kilogram-metre per minute\n"
     ]
    }
   ],
   "source": [
    "# maximum value\n",
    "print(f\"The maximum total static head is {data.amount_tsh.max()} kilogram-metre per minute\")"
   ]
  },
  {
   "cell_type": "code",
   "execution_count": 99,
   "metadata": {},
   "outputs": [
    {
     "name": "stdout",
     "output_type": "stream",
     "text": [
      "The minimum total static head is 0.0 kilogram-metre per minute\n"
     ]
    }
   ],
   "source": [
    "# minimum value\n",
    "print(f\"The minimum total static head is {data.amount_tsh.min()} kilogram-metre per minute\")"
   ]
  },
  {
   "cell_type": "code",
   "execution_count": 42,
   "metadata": {},
   "outputs": [
    {
     "data": {
      "text/plain": [
       "Text(0.5, 0.98, 'Distribution of amount of water available to waterpoint')"
      ]
     },
     "execution_count": 42,
     "metadata": {},
     "output_type": "execute_result"
    },
    {
     "data": {
      "image/png": "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",
      "text/plain": [
       "<Figure size 1152x576 with 1 Axes>"
      ]
     },
     "metadata": {},
     "output_type": "display_data"
    }
   ],
   "source": [
    "# Plotting the distribution of amount_tsh\n",
    "plt.figure(figsize=(16,8))\n",
    "sns.distplot(data.amount_tsh)\n",
    "plt.suptitle(\"Distribution of amount of water available to waterpoint\")"
   ]
  },
  {
   "cell_type": "markdown",
   "metadata": {},
   "source": [
    "#### Obserations\n",
    "The feature ``amount_tsh`` is not normally distributed, this will be dealt with during the preprocessing phase."
   ]
  },
  {
   "cell_type": "markdown",
   "metadata": {},
   "source": [
    "### Feature ``funder``"
   ]
  },
  {
   "cell_type": "code",
   "execution_count": 44,
   "metadata": {},
   "outputs": [
    {
     "data": {
      "text/plain": [
       "dtype('O')"
      ]
     },
     "execution_count": 44,
     "metadata": {},
     "output_type": "execute_result"
    }
   ],
   "source": [
    "#finding the data type\n",
    "data.funder.dtype"
   ]
  },
  {
   "cell_type": "code",
   "execution_count": 45,
   "metadata": {},
   "outputs": [
    {
     "name": "stdout",
     "output_type": "stream",
     "text": [
      "There are 1884 unique funders of wells in this data\n"
     ]
    }
   ],
   "source": [
    "# The number of unique values in\n",
    "print(f\"There are {data.funder.nunique()} unique funders of wells in this data\")"
   ]
  },
  {
   "cell_type": "code",
   "execution_count": 46,
   "metadata": {},
   "outputs": [
    {
     "data": {
      "text/plain": [
       "'0    Government Of Tanzania\\ndtype: object'"
      ]
     },
     "execution_count": 46,
     "metadata": {},
     "output_type": "execute_result"
    }
   ],
   "source": [
    "# who funded most wells\n",
    "str(data.funder.mode())"
   ]
  },
  {
   "cell_type": "code",
   "execution_count": 47,
   "metadata": {},
   "outputs": [
    {
     "name": "stdout",
     "output_type": "stream",
     "text": [
      "The top 50 funders of water points in Tanzania include:\n",
      "\n",
      "['Government Of Tanzania', 'Danida', 'Hesawa', 'Rwssp', 'World Bank', 'Kkkt', 'World Vision', 'Unicef', 'Tasaf', 'District Council', 'Dhv', 'Private Individual', 'Dwsp', '0', 'Norad', 'Germany Republi', 'Tcrs', 'Ministry Of Water', 'Water', 'Dwe', 'Netherlands', 'Hifab', 'Adb', 'Lga', 'Amref', 'Fini Water', 'Oxfam', 'Wateraid', 'Rc Church', 'Isf', 'Rudep', 'Mission', 'Private', 'Jaica', 'Roman', 'Rural Water Supply And Sanitat', 'Adra', 'Ces(gmbh)', 'Jica', 'Shipo', 'Wsdp', 'Rc', 'Finw', 'Dh', 'Ded', 'Plan Int', 'Kiliwater', 'Dmdd', 'Go', 'Lawatefuka Water Supply']\n"
     ]
    }
   ],
   "source": [
    "# The top 50 funders of water points in Tanzania\n",
    "top_50_funders = list(data.funder.value_counts().sort_values(ascending=False)[0:50].index)\n",
    "print(\"The top 50 funders of water points in Tanzania include:\")\n",
    "print()\n",
    "print(top_50_funders)"
   ]
  },
  {
   "cell_type": "code",
   "execution_count": 78,
   "metadata": {},
   "outputs": [
    {
     "data": {
      "image/png": "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",
      "text/plain": [
       "<Figure size 1152x576 with 1 Axes>"
      ]
     },
     "metadata": {},
     "output_type": "display_data"
    }
   ],
   "source": [
    "# plotting a bar plot for funder\n",
    "plt.figure(figsize=(16,8))\n",
    "sns.barplot(x = data.funder.value_counts().sort_values(ascending=False)[0:20].index,\n",
    "             y = data.funder.value_counts().sort_values(ascending=False)[0:20].values)\n",
    "plt.suptitle(\"Top 20 funders of waterpoints\")\n",
    "plt.xticks(rotation=80)\n",
    "plt.show()"
   ]
  },
  {
   "cell_type": "markdown",
   "metadata": {},
   "source": [
    "#### Observations:\n",
    "The Government of Tanzania has funded most of the wells recorded in this data.\n",
    "\n",
    "There are 777 wells with `'0'` labelled as the funder. The study shall assume this as the number of waterpoints whose funder is unknown.\n",
    "\n",
    "The top 5 funders of waterpoints in this data are:\n",
    "* Government Of Tanzania\n",
    "* Danida\n",
    "* Hesawa\n",
    "* Rwssp\n",
    "* World Bank"
   ]
  },
  {
   "cell_type": "markdown",
   "metadata": {},
   "source": [
    "### Feature ``gps_height``"
   ]
  },
  {
   "cell_type": "code",
   "execution_count": 49,
   "metadata": {},
   "outputs": [
    {
     "data": {
      "text/plain": [
       "dtype('int64')"
      ]
     },
     "execution_count": 49,
     "metadata": {},
     "output_type": "execute_result"
    }
   ],
   "source": [
    "# The type of data in this column\n",
    "data.gps_height.dtype"
   ]
  },
  {
   "cell_type": "code",
   "execution_count": 50,
   "metadata": {},
   "outputs": [
    {
     "name": "stdout",
     "output_type": "stream",
     "text": [
      "The mean is 677.4656683186095 metres above sea level\n"
     ]
    }
   ],
   "source": [
    "# The mean of the column\n",
    "print(f\"The mean is {data.gps_height.mean()} metres above sea level\")"
   ]
  },
  {
   "cell_type": "code",
   "execution_count": 51,
   "metadata": {},
   "outputs": [
    {
     "name": "stdout",
     "output_type": "stream",
     "text": [
      "The minimum is -90 is metres above sea level\n"
     ]
    }
   ],
   "source": [
    "print(f\"The minimum is {data.gps_height.min()} is metres above sea level\")"
   ]
  },
  {
   "cell_type": "code",
   "execution_count": 52,
   "metadata": {},
   "outputs": [
    {
     "name": "stdout",
     "output_type": "stream",
     "text": [
      "The maximum is 2770 is metres above sea level\n"
     ]
    }
   ],
   "source": [
    "print(f\"The maximum is {data.gps_height.max()} is metres above sea level\")"
   ]
  },
  {
   "cell_type": "code",
   "execution_count": 53,
   "metadata": {},
   "outputs": [
    {
     "data": {
      "text/plain": [
       "count    55692.000000\n",
       "mean       677.465668\n",
       "std        691.371005\n",
       "min        -90.000000\n",
       "25%          0.000000\n",
       "50%        393.000000\n",
       "75%       1316.000000\n",
       "max       2770.000000\n",
       "Name: gps_height, dtype: float64"
      ]
     },
     "execution_count": 53,
     "metadata": {},
     "output_type": "execute_result"
    }
   ],
   "source": [
    "# The descriptive summary statistics\n",
    "data.gps_height.describe().T"
   ]
  },
  {
   "cell_type": "code",
   "execution_count": 54,
   "metadata": {},
   "outputs": [
    {
     "data": {
      "text/plain": [
       "Text(0.5, 0.98, 'Distribution of altitude of waterpoint location')"
      ]
     },
     "execution_count": 54,
     "metadata": {},
     "output_type": "execute_result"
    },
    {
     "data": {
      "image/png": "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",
      "text/plain": [
       "<Figure size 1152x576 with 1 Axes>"
      ]
     },
     "metadata": {},
     "output_type": "display_data"
    }
   ],
   "source": [
    "# Plotting the distribution gps_height\n",
    "plt.figure(figsize=(16,8))\n",
    "sns.distplot(data.gps_height)\n",
    "plt.suptitle(\"Distribution of altitude of waterpoint location\")"
   ]
  },
  {
   "cell_type": "code",
   "execution_count": 100,
   "metadata": {},
   "outputs": [
    {
     "data": {
      "image/png": "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",
      "text/plain": [
       "<Figure size 1152x576 with 1 Axes>"
      ]
     },
     "metadata": {},
     "output_type": "display_data"
    }
   ],
   "source": [
    "plt.figure(figsize=(16,8))\n",
    "sns.boxplot(data.gps_height)\n",
    "plt.suptitle(\"A box plot for altitude of the waterpoint location\")\n",
    "plt.show()"
   ]
  },
  {
   "cell_type": "markdown",
   "metadata": {},
   "source": [
    "#### Observations:\n",
    "The feature ``gps_height`` is not normally distributed. This will be dealt with during the preprocessing phase.\n",
    "\n",
    "Another thing worth noting is that there are no outliers in this feature."
   ]
  },
  {
   "cell_type": "markdown",
   "metadata": {},
   "source": [
    "### Feature ``installer``"
   ]
  },
  {
   "cell_type": "code",
   "execution_count": 56,
   "metadata": {},
   "outputs": [
    {
     "data": {
      "text/plain": [
       "dtype('O')"
      ]
     },
     "execution_count": 56,
     "metadata": {},
     "output_type": "execute_result"
    }
   ],
   "source": [
    "#finding the data type\n",
    "data.installer.dtype"
   ]
  },
  {
   "cell_type": "code",
   "execution_count": 57,
   "metadata": {},
   "outputs": [
    {
     "name": "stdout",
     "output_type": "stream",
     "text": [
      "There are 2139 unique installers of wells in this data\n"
     ]
    }
   ],
   "source": [
    "# The number of unique values in\n",
    "print(f\"There are {data.installer.nunique()} unique installers of wells in this data\")"
   ]
  },
  {
   "cell_type": "code",
   "execution_count": 58,
   "metadata": {},
   "outputs": [
    {
     "data": {
      "text/plain": [
       "'0    DWE\\ndtype: object'"
      ]
     },
     "execution_count": 58,
     "metadata": {},
     "output_type": "execute_result"
    }
   ],
   "source": [
    "# who funded most wells\n",
    "str(data.installer.mode())"
   ]
  },
  {
   "cell_type": "code",
   "execution_count": 59,
   "metadata": {},
   "outputs": [
    {
     "name": "stdout",
     "output_type": "stream",
     "text": [
      "The top 50 installers of water points in Tanzania include:\n",
      "\n",
      "['DWE', 'Government', 'RWE', 'Commu', 'DANIDA', 'KKKT', 'Hesawa', '0', 'TCRS', 'Central government', 'CES', 'Community', 'DANID', 'District Council', 'HESAWA', 'LGA', 'World vision', 'WEDECO', 'TASAF', 'District council', 'Gover', 'AMREF', 'TWESA', 'WU', 'Dmdd', 'ACRA', 'World Vision', 'SEMA', 'OXFAM', 'DW', 'Da', 'Idara ya maji', 'UNICEF', 'Gove', 'Sengerema Water Department', 'Kiliwater', 'NORAD', 'FinW', 'DH', 'Villagers', 'DWSP', 'Distri', 'Lawatefuka water sup', 'Magadini-Makiwaru wa', 'RC', 'FW', 'KKKT _ Konde and DWE', 'Centr', 'WVT', 'MWE']\n"
     ]
    }
   ],
   "source": [
    "# The top 50 installers of water points in Tanzania\n",
    "top_50_installers = list(data.installer.value_counts().sort_values(ascending=False)[0:50].index)\n",
    "print(\"The top 50 installers of water points in Tanzania include:\")\n",
    "print()\n",
    "print(top_50_installers)"
   ]
  },
  {
   "cell_type": "code",
   "execution_count": 77,
   "metadata": {},
   "outputs": [
    {
     "data": {
      "image/png": "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",
      "text/plain": [
       "<Figure size 1152x576 with 1 Axes>"
      ]
     },
     "metadata": {},
     "output_type": "display_data"
    }
   ],
   "source": [
    "# plotting a bar plot for installer\n",
    "plt.figure(figsize=(16,8))\n",
    "sns.barplot(x = data.installer.value_counts().sort_values(ascending=False)[0:20].index,\n",
    "             y = data.installer.value_counts().sort_values(ascending=False)[0:20].values)\n",
    "plt.suptitle(\"Top 20 installers of waterpoints\")\n",
    "plt.xticks(rotation=80)\n",
    "plt.show()"
   ]
  },
  {
   "cell_type": "markdown",
   "metadata": {},
   "source": [
    "#### Observations:\n",
    "DWE installed the most waterpoints in this data.\n",
    "\n",
    "There are 777 wells with `'0'` labelled as the funder. The study shall assume this as the number of waterpoints whose funder is unknown.\n",
    "\n",
    "The top 5 installers of waterpoints are:\n",
    "* DWE\n",
    "* Government\n",
    "* RWE\n",
    "* Commu\n",
    "* DANIDA\n",
    "\n",
    "We could take note that the goverment appears in the top 5 of this list."
   ]
  },
  {
   "cell_type": "markdown",
   "metadata": {},
   "source": [
    "## Bivariate Analysis\n",
    "### What is the relationship between ``amount_tsh`` and ``status_group``?"
   ]
  },
  {
   "cell_type": "code",
   "execution_count": 109,
   "metadata": {},
   "outputs": [
    {
     "data": {
      "image/png": "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",
      "text/plain": [
       "<Figure size 1152x576 with 1 Axes>"
      ]
     },
     "metadata": {},
     "output_type": "display_data"
    }
   ],
   "source": [
    "# Plotting a bar plot of amount_tsh and status_group\n",
    "plt.figure(figsize=(16,8))\n",
    "sns.barplot(data=data, x=data.status_group, y=data.amount_tsh,\n",
    "           hue='status_group')\n",
    "plt.suptitle(\"The distribution of amount_tsh by status_group\")\n",
    "plt.show()"
   ]
  },
  {
   "cell_type": "markdown",
   "metadata": {},
   "source": [
    "#### Observations:\n",
    "``status_group`` ``'1'`` which is for functional wells has higher ``amount_tsh`` than  ``status_group`` ``'0'``. IMplying that functional wells have more amount of water available than non functional wells."
   ]
  },
  {
   "cell_type": "markdown",
   "metadata": {},
   "source": [
    "### What is the relationship between ``funder`` and ``status_group``?"
   ]
  },
  {
   "cell_type": "code",
   "execution_count": 88,
   "metadata": {},
   "outputs": [
    {
     "data": {
      "text/html": [
       "<div>\n",
       "<style scoped>\n",
       "    .dataframe tbody tr th:only-of-type {\n",
       "        vertical-align: middle;\n",
       "    }\n",
       "\n",
       "    .dataframe tbody tr th {\n",
       "        vertical-align: top;\n",
       "    }\n",
       "\n",
       "    .dataframe thead th {\n",
       "        text-align: right;\n",
       "    }\n",
       "</style>\n",
       "<table border=\"1\" class=\"dataframe\">\n",
       "  <thead>\n",
       "    <tr style=\"text-align: right;\">\n",
       "      <th></th>\n",
       "      <th>id</th>\n",
       "      <th>amount_tsh</th>\n",
       "      <th>gps_height</th>\n",
       "      <th>longitude</th>\n",
       "      <th>latitude</th>\n",
       "      <th>population</th>\n",
       "    </tr>\n",
       "    <tr>\n",
       "      <th>status_group</th>\n",
       "      <th></th>\n",
       "      <th></th>\n",
       "      <th></th>\n",
       "      <th></th>\n",
       "      <th></th>\n",
       "      <th></th>\n",
       "    </tr>\n",
       "  </thead>\n",
       "  <tbody>\n",
       "    <tr>\n",
       "      <th>0</th>\n",
       "      <td>37191.060540</td>\n",
       "      <td>129.627384</td>\n",
       "      <td>566.803187</td>\n",
       "      <td>34.378533</td>\n",
       "      <td>-5.774276</td>\n",
       "      <td>177.759461</td>\n",
       "    </tr>\n",
       "    <tr>\n",
       "      <th>1</th>\n",
       "      <td>37077.973991</td>\n",
       "      <td>452.791580</td>\n",
       "      <td>747.520863</td>\n",
       "      <td>33.859854</td>\n",
       "      <td>-5.531621</td>\n",
       "      <td>192.420931</td>\n",
       "    </tr>\n",
       "  </tbody>\n",
       "</table>\n",
       "</div>"
      ],
      "text/plain": [
       "                        id  amount_tsh  gps_height  longitude  latitude  \\\n",
       "status_group                                                              \n",
       "0             37191.060540  129.627384  566.803187  34.378533 -5.774276   \n",
       "1             37077.973991  452.791580  747.520863  33.859854 -5.531621   \n",
       "\n",
       "              population  \n",
       "status_group              \n",
       "0             177.759461  \n",
       "1             192.420931  "
      ]
     },
     "execution_count": 88,
     "metadata": {},
     "output_type": "execute_result"
    }
   ],
   "source": [
    "data.groupby('status_group').agg('')"
   ]
  },
  {
   "cell_type": "code",
   "execution_count": null,
   "metadata": {},
   "outputs": [],
   "source": [
    "sns.countplot(x= , hue= 'status_group', data= data, order=data.management_group.value_counts()\n",
    "               .index).set_xticklabels(data.management_group.unique(), rotation=90);"
   ]
  },
  {
   "cell_type": "code",
   "execution_count": 106,
   "metadata": {},
   "outputs": [
    {
     "data": {
      "text/plain": [
       "{'Iringa': 5284,\n",
       " 'Shinyanga': 4933,\n",
       " 'Kilimanjaro': 4373,\n",
       " 'Morogoro': 3994,\n",
       " 'Kagera': 3206,\n",
       " 'Mwanza': 3049,\n",
       " 'Arusha': 3024,\n",
       " 'Kigoma': 2805,\n",
       " 'Mbeya': 2703,\n",
       " 'Ruvuma': 2638,\n",
       " 'Tanga': 2546,\n",
       " 'Pwani': 2497,\n",
       " 'Dodoma': 2196,\n",
       " 'Mara': 1953,\n",
       " 'Tabora': 1940,\n",
       " 'Rukwa': 1803,\n",
       " 'Mtwara': 1725,\n",
       " 'Manyara': 1580,\n",
       " 'Lindi': 1542,\n",
       " 'Singida': 1124,\n",
       " 'Dar es Salaam': 777}"
      ]
     },
     "execution_count": 106,
     "metadata": {},
     "output_type": "execute_result"
    }
   ],
   "source": [
    "region_dict = dict(zip(list(data.region.value_counts().index), list(data.region.value_counts().values)))\n",
    "region_dict"
   ]
  },
  {
   "cell_type": "markdown",
   "metadata": {},
   "source": [
    "### What is the relationship between ``status_group`` and ``gps_height``?"
   ]
  },
  {
   "cell_type": "code",
   "execution_count": 110,
   "metadata": {},
   "outputs": [
    {
     "data": {
      "image/png": "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",
      "text/plain": [
       "<Figure size 1152x576 with 1 Axes>"
      ]
     },
     "metadata": {},
     "output_type": "display_data"
    }
   ],
   "source": [
    "# Plotting a bar plot of amount_tsh and status_group\n",
    "plt.figure(figsize=(16,8))\n",
    "sns.barplot(data=data,\n",
    "            x=data.status_group, \n",
    "            y=data.gps_height,\n",
    "           hue = 'status_group')\n",
    "plt.suptitle(\"The distribution of gps height status_group\")\n",
    "plt.show()"
   ]
  },
  {
   "cell_type": "markdown",
   "metadata": {},
   "source": [
    "#### Observations:\n",
    "``status_group`` ``'1'`` has slightly higher values of height in meters above sea level that those of ``status_group`` ``'0'``.\n",
    "Implying that functional wells are located at higher altitude areas than non functional wells."
   ]
  },
  {
   "cell_type": "markdown",
   "metadata": {},
   "source": [
    "### What is the relationship between ``installer`` and ``status_group``?"
   ]
  },
  {
   "cell_type": "code",
   "execution_count": null,
   "metadata": {},
   "outputs": [],
   "source": []
  },
  {
   "cell_type": "code",
   "execution_count": null,
   "metadata": {},
   "outputs": [],
   "source": []
  },
  {
   "cell_type": "markdown",
   "metadata": {},
   "source": [
    "### What is the relationship between ``amount_tsh`` and ``gps_height``?"
   ]
  },
  {
   "cell_type": "code",
   "execution_count": 91,
   "metadata": {},
   "outputs": [
    {
     "data": {
      "image/png": "iVBORw0KGgoAAAANSUhEUgAAA7wAAAIcCAYAAADVKKJtAAAAOXRFWHRTb2Z0d2FyZQBNYXRwbG90bGliIHZlcnNpb24zLjMuMSwgaHR0cHM6Ly9tYXRwbG90bGliLm9yZy/d3fzzAAAACXBIWXMAAAsTAAALEwEAmpwYAAC4tUlEQVR4nOzdeZhT5d0+8PucJJNJcpKcLMO+ya5WQMW6tIJvpbSvoFCqAgVUyrBaQREFN0RcEAQVKotsKksBRQsI7Ssur1K1Vao/ta8LiiLKzkySyTqZJOf5/RHmDGEyOMBAZsL9ua5enTk5OXmSOXjNPc/zfL+SEEKAiIiIiIiIKM/IuR4AERERERER0enAwEtERERERER5iYGXiIiIiIiI8hIDLxEREREREeUlBl4iIiIiIiLKSwy8RERERERElJcYeInorCBJEnbu3Hlarv2Pf/wDnTp1qpNrtWnTBm+88UadXOtMvnZdfgY1ueWWW3D//ffX+LiiKPjuu+9O+Lrff/89JElCMpk8leFRPXPVVVdh6dKlOXntXP47Bk7tnv7hhx+gKApSqdRpfR0iojOFgZeIGpwZM2bgmmuuyTjWoUOHrMfWrl17yq/3U7+8XnnlldixY8cJX/enAlx9duwfEE72M6hL4XAYbdu2PaOvyV/46860adMwdOjQ456T6yB5NmjVqhXC4TAMBsMpX+vYn2kymcStt96Kli1bQlVVDB48GLFY7JRfh4joeBh4iajB6dGjB9577z19BuLAgQNIJBL4+OOPM47t3LkTPXr0yOVQ6w0GMiLKtUQiAZfLhY8++gi7d+/Grl278Oc//znXwyKiPMfAS0QNziWXXIJEIoFPPvkEALBt2zb813/9Fzp16pRxrF27dmjWrJn+vDfeeAMdOnSAy+XCrbfeCiEEAODbb7/Fr371K3g8Hni9XgwZMgSBQAAAMGzYMPzwww+49tproSgKZs2aVW08b7/9Nlq0aKF/P3PmTDRv3hx2ux2dOnXCm2++We05ixcvxurVqzFr1iwoioJrr71Wf+yTTz5Bly5d4HQ6MXDgQJSXl+uPbd68Gd26dYOqqrjiiivw2Wef1fg5SZKE+fPno0OHDujQocMJPf/DDz/E5ZdfDlVV0bRpU/zpT39CRUUFAOh/ROjatSsURcG6deuqfQZffvklrrrqKqiqivPPPx+bNm3SH7vllltw6623ok+fPrDb7bj00kvx7bffAgCEELjjjjvQqFEjOJ1OdOnSBf/3f/+nP9fv92d9XuX7rZx1vuWWWzBmzBj8+te/ht1uR8+ePbF79+4aPysAWL58OZo1a4amTZtizpw5+nFN0/D444+jXbt28Hg8uPHGG+Hz+TI+C1VVoSgK/vnPf6J169b46KOPAACrVq2CJEn44osvAABLly5F//79f/K6APCvf/0LV1xxBVRVRdeuXfH222/rj1111VV44IEH8Itf/AJ2ux29e/dGSUlJ1vfl9/vRt29fFBUVweVyoW/fvtizZ0/Gte6//35cccUV+r1YWlqKIUOGwOFw4JJLLsH333+vn//+++/jkksugdPpxCWXXIL3339ff+zYGdijZ/gqZ8NfeOEFtGrVCl6vF48++igA4H/+53/w2GOPYd26dVAUBV27dq32PrL9WywvL8fQoUPh8XigqiouueQSHDx4UH/O7t276+wzOt7nvXLlSrRu3Roej0d/TzUpLS3Ftddeq3+2999/P375y1/qj0uShHnz5qFt27bwer246667oGkaAGDnzp3o2bMnnE4nvF4vBg4ceNzXWr16dbXPGjj+vXfsqoVdu3ahR48esNvt6NWrF2699dZqM/HZXifbz9RiseCRRx7R/3137do14+dFRHRaCCKiBuiqq64STz75pBBCiFtvvVUsW7ZM3HvvvRnHhg8frp8PQPTp00f4/X6xe/du4fV6xd///nchhBDffPON2Lp1qygvLxeHDh0SV155pZgwYYL+3NatW4vXX3+9xrH87//+r2jevLkQQoivvvpKtGjRQuzdu1cIIcSuXbvEzp07sz7v5ptvFvfdd1/GsdatW4tLLrlE7N27V5SWlorOnTuLhQsXCiGE+Oijj0RRUZH417/+JZLJpHj++edF69atRXl5edbrAxC9evUSpaWlIhqN/uTzj36f//73v8U///lPkUgkxK5du0Tnzp3FU089lXHtb775JutnUFFRIdq1ayceffRREY/HxZtvvikURRFfffWV/r5dLpf44IMPRCKREH/4wx/EwIEDhRBC/M///I+46KKLhN/vF5qmiS+++ELs27fvJ5937JhuvvlmoSiKeOedd0R5ebkYP368+MUvfpH1c9q1a5cAIAYNGiTC4bD47LPPhNfr1T+Lp556Slx66aXixx9/FOXl5WLUqFFi0KBBGc9NJBL69YYNGyZmz54thBBi5MiRom3btmLBggX6Y5X36PGuu2fPHuF2u8WWLVtEKpUSW7duFW63Wxw6dEgIIUTPnj1F27ZtxY4dO0Q0GhU9e/YUkydPzvr+SkpKxPr160UkEhHBYFBcf/31ol+/fvrjPXv2FO3atRM7d+4UgUBAnHvuuaJDhw7i9ddfF4lEQgwbNkzccsstQgghSktLhaqqYsWKFSKRSIi//OUvQlVVUVJSUu0eEkKIBx98UAwZMiTjsyouLhbRaFR88sknoqCgQHzxxRfVzq3JsddftGiR6Nu3r4hEIiKZTIp///vfoqys7LR8RjVd6/PPPxc2m02/1+644w5hMBhq/G/GwIEDxcCBA0UkEhGff/65aNGiRca9CUBcddVVorS0VOzevVt06NBBLFmyRAghxKBBg8QjjzwiUqmUiMVi4h//+EfW1/ipz/pE7unLLrtM3HnnnSIej4t//OMfwm6318nP9N133xV2u138+9//zvo4EVFd4QwvETVIPXv2xLZt2wCkCyZdeeWVuPLKKzOO9ezZM+M5U6ZMgaqqaNWqFf7rv/5Lnw1u3749fv3rX8NsNqOoqAgTJ07EO++8c1LjMhgMiMfj+OKLL5BIJNCmTRu0a9fuhK4xfvx4NGvWDG63G9dee60+ziVLlmD06NG49NJLYTAYcPPNN8NsNuNf//pXjde655574Ha7YbFYTuj5F198MS677DIYjUa0adMGo0ePrvVn8q9//QvhcBhTpkxBQUEBfvWrX6Fv375Ys2aNfs6AAQPw85//HEajEUOGDNHfo8lkQigUwldffQUhBM4991w0bdr0J5+XTZ8+fdCjRw+YzWY8+uij+Oc//4kff/yxxvMffPBB2Gw2XHDBBRg+fLg+3meffRaPPvooWrRoAbPZjGnTpmH9+vU1LhPv2bOn/ln94x//wD333KN//8477+j35fGuu2rVKlxzzTW45pprIMsyfv3rX6N79+7429/+pr/O8OHD0bFjR1gsFtx44401fhYejwe///3vYbVaYbfbcd9991X7WQ4fPhzt2rWD0+nEf//3f6Ndu3bo1asXjEYjbrjhBvy///f/AABbtmxBhw4dMGzYMBiNRgwePBidO3fGq6++WuPnmu1ztlgs6Nq1K7p27YpPP/201s89lslkQmlpKXbu3AmDwYCLL74YDocj433V5WeU7Vrr169H37599Xvt4Ycfhixn//UqlUrh5ZdfxkMPPQSr1YrzzjsPN998c7XzJk+eDLfbjVatWuH222/X70WTyYTdu3dj3759KCwszJgZzqamz7q29/QPP/yA7du3Y/r06SgoKMAvf/lLXHfddbV+nZp88803uO6667B8+XJcfPHFxz2XiOhUMfASUYPUo0cPvPvuu/D7/Th8+DA6dOiAK664Au+//z78fj/+7//+r9r+3SZNmuhfW61WhMNhAMChQ4cwaNAgNG/eHA6HA0OHDq1x6eNPad++PZ5++mlMmzYNjRo1wqBBg7Bv374TukZN49y9ezfmzJkDVVX1//3444/HvX7Lli31r0/k+V9//TX69u2LJk2awOFw4N577631Z7Jv3z60bNky45f+1q1bY+/evT/5Hn/1q1/hT3/6E2699VY0btwYo0aNQjAY/Mnn/dR7VxQFbre71p9V69at9XN3796N3/3ud/pndu6558JgMNS4FLNnz574xz/+gQMHDiCVSmHgwIF477338P3336OsrAzdunX7yevu3r0bL730UsbP6t1338X+/ftP+LOIRqMYPXo0WrduDYfDgR49eiAQCGRU4W3cuLH+tcViqfZ95bX37duH1q1bZ1z/2J/tTzmRn+FPGTZsGH7zm99g0KBBaNasGe6++24kEokTfq3afEY1Xavyfq9ks9ng8Xiyvs7hw4eRTCYzzj/662zHjr4XZ82aBSEEfv7zn+P888/H8uXLs38wPzHm2t7T+/btg9vthtVqPe54T/Rn+txzz6Ffv364/vrrj3seEVFdYOAlogbp8ssvR1lZGRYvXoxf/OIXAACHw4FmzZph8eLFaNasGc4555xaXeuee+6BJEn47LPPEAwGsWrVKn1/L5DeU3ci/vCHP+Ddd9/F7t27IUkSJk+enPW8E71uy5Ytcd999yEQCOj/i0ajGDx4cI3POfo1TuT5Y8eORefOnfHNN98gGAzisccey/hMjqdZs2b48ccf9X2HQHqmqHnz5rV6/vjx4/HRRx/h888/x9dff40nnniiVs871tGzueFwGD6fL2NP9/HO/+GHH/RzW7Zsib///e8Zn1t5eTmaN2+e9WfYvn17WK1WzJs3T9/72KRJEyxevBi//OUv9T8EHO+6LVu2xLBhwzIei0QimDJlygl/DnPmzMGOHTvwwQcfIBgM6qsgavvzPFqzZs2q7YU++mdrs9kQjUb1xw4cOFDra9fm38Ox55hMJjz44IP44osv8P7772Pz5s1YsWJFrV+z0ql8Rk2bNs24d6LRKEpLS7OeW1RUBKPRmLE/ONuqg5ruxSZNmmDJkiXYt28fnn32WYwbN+6k2q0d79479r35fL6Mn+nxVkkcq6af6f79+4/7b5GIqC4x8BJRg2SxWNC9e3c8+eSTuPLKK/Xjv/zlL/Hkk0+eUHXmUCgERVGgqir27t1bLWA1bty41v1dd+zYgbfeegvxeByFhYWwWCw1tvc4kesCwMiRI7Fo0SJ88MEHEEIgEolgy5YtCIVCdf78UCgEh8MBRVHw1VdfYeHChbUe+6WXXgqbzYZZs2YhkUjg7bffxquvvopBgwb95Bi3b9+ODz74AIlEAjabDYWFhSfdHuVvf/sb3n33XVRUVOCBBx7ApZdemnV2qtLDDz+MaDSKzz//HM8995xeEGjMmDG477779KB3+PBhbNy4EUA6wMiyXO2z6NmzJ5555hl9+fJVV12V8f1PXXfo0KF49dVX8dprryGVSqG8vBxvv/12RlCqrVAoBIvFAlVV4fP58NBDD53wNSpdc801+Prrr/GXv/wFyWQS69atwxdffIG+ffsCALp164a1a9cikUjg3//+N9avX1/razdu3Bjff/99xh9Ksp1z9Gf9v//7v/jPf/6DVCoFh8MBk8l0UvfLqXxG119/PTZv3qzfa1OnTq3xPRgMBgwYMADTpk1DNBrFV199lTWgP/HEE/D7/fjxxx8xd+5c/V586aWX9HvA5XJBkqSTer/Hu/eO1rp1a3Tv3h3Tpk1DRUUF/vnPf57Q8vWafqZPP/30Sf3xhojoZDDwElGD1bNnTxw6dChjH9uVV16JQ4cOnVDgffDBB/Hxxx/D6XSiT58+GDBgQMbj99xzDx555BGoqorZs2cf91rxeBxTpkyB1+tFkyZNcOjQITz22GNZzx0xYgS++OILqKqqV+49nu7du2PJkiX405/+BJfLhfbt2+P555+v7ds8oefPnj0bf/nLX2C32zFy5Mhq1WCnTZuGm2++Gaqq4sUXX8x4rKCgAJs2bcLf//53eL1ejBs3DitWrEDnzp1/cozBYBAjR46Ey+XSq95OmjSp1u/xaH/4wx/w0EMPwe1246OPPsLq1auPe37Pnj3Rvn17XH311Zg0aRJ69+4NAJgwYQKuu+469O7dG3a7HZdddhk++OADAOnlm/fddx9+8YtfQFVVfT90z549EQqF9Pvw2O9/6rotW7bExo0b8dhjj6GoqAgtW7bEE088cdwwWJPbb78dsVgMXq8Xl112GX7729+e8DUqeTwebN68GXPmzIHH48GsWbOwefNmeL1eAOk/Gnz77bdwuVx48MEH8Yc//KHW177hhhv017jooouynnPsv8UDBw7g+uuvh8PhwLnnnouePXv+ZC/fbE7lMzr//PMxf/58/OEPf0DTpk3hcrkyKpYf65lnnkFZWRmaNGmCYcOGYfDgwTCbzRnn9OvXDxdffDG6deuGPn36YMSIEQDSfxC69NJLoSgKrrvuOsydO7fWK1mOdrx771irV6/GP//5T3g8Htx///0YOHBgtfHWpKaf6eTJk/HUU0+d8LiJiE6GJE5mTRMREVE9dsstt6BFixZ45JFHcj0UouOaPHkyDhw4gBdeeAFAehnwN998g/bt2+d4ZNkNHDgQnTt3PqWVAkREZxJneImIiIjOkK+++gqfffYZhBD48MMPsWzZMvzud7/L9bBqtH37dnz77bfQNA3/8z//g40bN9ZqRQoRUX1hzPUAiIiIiM4WoVAIgwcPxr59+9CoUSPceeed6NevX66HVaMDBw5gwIABKC0tRYsWLbBw4UJceOGFuR4WEVGtcUkzERERERER5SUuaSYiIiIiIqK8xMBLREREREREeYmBl4iIiIiIiPISAy8RERERERHlJQZeIiIiIiIiyksMvERERERERJSXGHiJiIiIiIgoLzHwEhERERERUV5i4CUiIiIiIqK8xMBLREREREREeYmBl4iIiIiIiPISAy8RERERERHlJQZeIiIiIiIiyksMvERERERERJSXGHiJiIiIiIgoLzHwEhERERERUV5i4CUiIiIiIqK8xMBLREREREREeYmBl4iIiIiIiPISAy8RERERERHlJQZeIiIiIiIiyksMvERERERERJSXGHiJiIiIiIgoLzHwEhERERERUV5i4CUiIiIiIqK8xMBLREREREREeYmBl4iIiIiIiPISAy8RERERERHlJQZeIiIiIiIiyksMvERERERERJSXGHiJiIiIiIgoLzHwEhERERERUV5i4CUiIiIiIqK8xMBLREREREREeYmBl4iIiIiIiPISAy8RERERERHlJQZeIiIiIiIiyksMvERERERERJSXGHiJiIiIiIgoLzHwEhERERERUV5i4CUiIiIiIqK8xMBLREREREREeYmBl4iIiIiIiPISAy8RERERERHlJWOuB3Cm7Nu3L9dDqJHX60VJSUmuh0HEe5HqBd6HVB/wPqT6gvci1QcN4T5s1qxZ1uOc4SUiIiIiIqK8xMBLREREREREeYmBl4iIiIiIiPISAy8RERERERHlJQZeIiIiIiIiyksMvERERERERJSXGHiJiIiIiIgoLzHwEhERERERUV5i4CUiIiIiIqK8xMBLREREREREeYmBl4iIiIiIiPISAy8RERERERHlJQZeIiIiIiIiyksMvERERERERJSXGHiJiIiIiIgoLxlzPYCzmSxJsIQDSB7eA8VqR1RRoQmR62ERERERERHlBQbeHJElCdYdnyE4bzpEPA7JbIZj/FREO3Vh6CUiIiIiIqoDXNKcI5ZwQA+7ACDicQTnTYclHMjtwIiIiIiIiPIEA2+uBHx62K0k4nGgzJ+jAREREREREeUXBt4ckVQ3JLM585jZDDhdORoRERERERFRfmHgzZGoosIxfqoeeiv38MYUNbcDIyIiIiIiyhMsWpUjmhCIduoC+8ylMEXDSFgVVmkmIiIiIiKqQ5zhzSFNCERsThjP7YqIzcmwS0REREREVIcYeImIiIiIiCgvMfASERERERFRXmLgJSIiIiIiorzEwEtERERERER5iYGXiIiIiIiI8hIDLxEREREREeUlBl4iIiIiIiLKSwy8RERERERElJcYeImIiIiIiCgvMfASERERERFRXmLgJSIiIiIiorzEwJtDBlmGs+wwEtvfhVpWAoPMHwcREREREVFdMeZ6AGcrgyzD9vm/4Z8/AyIeh2Q2Q731HkTO746UpuV6eERERERERA0eA2+O2AOHEVizFEr/IZAgAQCCa5ZCndQaAYcnx6MjIiIiIiJq+Bh4cyVUBqV3PwTXLtVneB2DioFQGcDAS0REREREdMq4aTRHZHOhHnYBQMTjCK5dCtlcmOORERERERER5QcG3hzRImE97FYS8Ti0aCRHIyIiIiIiIsovDLw5kvI2gWQ2ZxyTzGakPI1zNCIiIiIiIqL8wsCbI1G7CnXsZD30SmYz1LGTEbWruR0YERERERFRnmDRqhwpDPkRfm0jXBOmQsTLIZktCL26DpY2HRCxOXM9PCIiIiIiogaPM7w5IkVCsP66HyDJgBCALMH6636QIqFcD42IiIiIiCgvcIY3R0xWBSmRgv/paXpbInXUJBgtVsiSBE2IXA+RiIiIiIioQeMMb45I5TEEFs/OaEsUWDwbiJfDUh7O8eiIiIiIiIgaPgbeHEmV+bK2JUoF/CiIMPASERERERGdKgbeHDE43VnbEskOJ0SZP0ejIiIiIiIiyh8MvDmiWWxQR9+V0ZbIMXgkUqEAJJcnx6MjIiIiIiJq+Fi0KkdCdhWOJs2hDBgGSRMQEAhvfglaKADv9GdyPTwiIiIiIqIGj4E3R4QQ0Mr8CK1ZWu2xVKAUcDfOwaiIiIiIiIjyB5c054glHEDyh11Z9/EaVC5pJiIiIiIiOlVnZIa3pKQE8+fPRyAQgCRJ6NWrF6655hq8+OKLePPNN+FwOAAAgwcPxkUXXQQA+Otf/4q33noLsixj+PDh6NatGwDgu+++w/z581FRUYELL7wQw4cPhyRJZ+Jt1CmpzI/w65vgGFSM4NqlVb14iyeiIpnI9fCIiIiIiIgavDMSeA0GA4YNG4a2bdsiFothypQp6NKlCwCgT58+uO666zLO37NnD95//308+eST8Pv9ePjhhzF37lzIsowlS5Zg9OjR6NChA2bMmIFPPvkEF1544Zl4G3XKZLECJhM0SYZrwoMQ8RhSAT+SsQgKzIW5Hh4REREREVGDd0YCr8vlgsvlAgBYLBY0b94cPp+vxvO3b9+OK664AiaTCY0aNUKTJk2wc+dOFBUVIRaLoWPHjgCAHj16YPv27Q0y8KbiMTiuvxmBxbOrZndHTQJsCrRYBHB6cz1EIiIiIiKiBu2MF606dOgQdu3ahfbt2+Orr77Ca6+9hm3btqFt27a46aaboCgKfD4fOnTooD/H7XbD5/PBYDDA46na3+rxeGoMzm+88QbeeOMNAMDjjz8Or7d+BUjNfxglR8IuAIh4HIHFs+F54CkAAh63G5LMLdZ0ZhmNxnr3b4XOPrwPqT7gfUj1Be9Fqg8a8n14RgNveXk55syZg1tuuQVWqxW9e/fG9ddfDwBYt24dVqxYgXHjxkEIkfX5NR3PplevXujVq5f+fUlJyakNvo4psYgediuJeBwVX/8fJKMJwqEiYrHnaHR0tvJ6vfXu3wqdfXgfUn3A+5DqC96LVB80hPuwWbNmWY+fscCbTCYxZ84cXHnllbj00ksBAKqq6o9fffXVmDlzJoD0zG1paan+mM/ng9vtrna8tLQUbrf7zLyBuuZ0wdC0Baw9ekNCuuhWZNtrEPFyhNYtg7t9Z4CBl4iIiIiI6KSdkTWzQggsWrQIzZs3R9++ffXjfr9f//rDDz9Ey5YtAQDdu3fH+++/j0QigUOHDmH//v1o3749XC4XLBYLvv76awghsG3bNnTv3v1MvIU6V253wXHjcIQ3rEZw3TKENqyC4/qbUP7xvyDicYhoJNdDJCIiIiIiatDOyAzvjh07sG3bNrRq1Qp33XUXgHQLovfeew/ff/89JElCUVERRo0aBQBo2bIlLr/8ckycOBGyLGPEiBGQj+xnLS4uxoIFC1BRUYFu3bo1yIJVAKD4D8G3aNYxe3jnQOk/BMkfvgVsnN0lIiIiIiI6FZI4kY2xDdi+fftyPYQMzl1fwvfY5GrHHYOLIVlsEN1+zj28dMY1hP0ZlP94H1J9wPuQ6gvei1QfNIT7MOd7eCmTwemGZDZnFK6SzGaYu/4cFaEyxKwO4Oz4WwQREREREdFpwb43OaJFw3AMKoZkNgNIh13HoGJo5VFEz+kMjWGXiIiIiIjolHCGN0ekAjPCWzdC6T8EEiQICIS3boTrT/cy7BIREREREdUBBt5csVih/KY/gmuWQMTj6RnewSMhmQthlGUkNS3XIyQiIiIiImrQGHhzRAQDQPPW8D44F6lAKQwuDyrCIcS/+ARWlxfhcy/kTC8REREREdEpYODNEUlxQv7xO5TMvl+f4VXH3I2kXUXgmUdhn7kUEZsz18MkIiIiIiJqsFi0KkekVBKBY/vwLpqFwibNINtVoMyf2wESERERERE1cAy8OZLyHc5oSQSkQ28q4Idj2BgYbXbIkpSj0RERERERETV8XNKcIwaXV+/Da/A2hvXqPpBkGbKiwD/3aWihABwTpiLasQv38hIREREREZ0EzvDmiCi0Qh1zNwxNW0Dpcz3CG1YjuGYpSh+ZBKXP9ZDtKoJzp8MaLsv1UImIiIiIiBokBt4cSZhMQOt2cE+YClERh73/UBi8jSHicQTXLoX16j4Q8Tjk0kO5HioREREREVGDxCXNOSLJRmD3tyg5UrhKMpvhGFSM8Jb1SJUchAQJktkMyWLJ9VCJiIiIiIgaJM7w5ogp6KtWpblyZlcymyFkCY7BI5FUHDkeKRERERERUcPEGd4cSflKslZplmQZ6pjJkJwqUqkUYlYHwKJVREREREREJ4wzvDliUN2QzOaMY5LZDHPXSwDFBiGA6DmdWaGZiIiIiIjoJDHw5origDp2ih56JbMZ6tjJSJZHYbS7kWrclGGXiIiIiIjoFHBJc64kKqCVx6AMGAZJExCyBK28HAZjAVLRIExGA2C25XqUREREREREDRYDb46IaATB5+Zm7OOVzGZ4HngKWjwOOZmESZaR0LQcjpKIiIiIiKjhYuDNERGLZC1aJWIR+Gbem17iPGYy0OXnDL1EREREREQngXt4c0Sy2rIWrZKs6WXMIh5HYNFM2Ev252J4REREREREDR4Db45IBWY4hozJKFrlGDIGktGknyPicaT8JbkaIhERERERUYPGJc05ImQDZG+jjKJVsrcRUskK/RzJbIbB6crhKImIiIiIiBouzvDmiJSII7hyIVC5P1fT0t9HIunHzWaooyYBhdYcjpKIiIiIiKjh4gxvjmiRMFL79yD65hZYr+4DCRJsPX4DqbAQrtunQjJbIIwGCIl/kyAiIiIiIjoZDLw5ItvsMDRtAaV3PwTXLoWIxyGZzXA1bwVD4+bQ/CUIv7gS9kHFgM2R6+ESERERERE1OJw+zBEtHoNafIcedoF0kSr//McAoSG5+zto4SBgseR4pERERERERA0TA2+OSC5vuu9utl68kTBCG1bBcf3NSDrU3AyQiIiIiIiogWPgzREpFkXq0L7svXjNhXDfOR3hNzZDSqZyNEIiIiIiIqKGjYE3R1LhMsBsgWPwyIxevOq4KfDPewS+OVOh9OoLlEdzPFIiIiIiIqKGiYE3RwyKE+FNayA0Derou+CePAPKkNEwNmuFVMlBiHgcgcWzUSBJuR4qERERERFRg8QqzTmixcurVWh2DCpGxZ7d+jkiHkfKVwLVYEDI1Qipyp69RERERERE9JM4w5sjsslUrUJzcO1SmDxeOAaOgGPgCBiatgCEBt99Y2H7z4cwyPxxERERERER1RZneHNEi0WzVmiu+PIzBNctS+/nHTsZQlXhun0aQpvWwt6iNcqcRTkaMRERERERUcPCwJsjss0OyWzOCL2S2QyYCmAf+EdIkJA6uB9Gpwv+p6dBHXUnRHkMsirBEg4AAR8k1Y2ookITIndvhIiIiIiIqJ5i4M2RVEUM6m33Ibn3B0iaAGQZkssDpFIIrVum7+tVx06BbFcRWDwH3kcXwrrjMwTnTa/a9zt+KqKdupx06JUlBmgiIiIiIspP3BSaIwaLAq0sgPArKxFctwyhV1ZANhjSlZuP2tcbWPg4bNf8HiIeh4hF9LBb+Xhw3vR0YD0JsiTBuuMzhCYXIzhtAoKTi2Hd8RlkVoYmIiIiIqI8wMCbI6K8HMEV8zPD7eLZsPbonXlePA6Dy51e/lxennXfL8r8JzUGSzhQpwGaiIiIiIioPmHgzRERj2UNr9IxlZglsxlSoQ3qmLshOdT0Pt9jHofTdXKDCPjqNEATERERERHVJwy8OSIrjqzh1XROB/24ZDZDHTkRsupG8MXngEJrOvge/fiYuxG3n1zglVR33QZoIiIiIiKieoRFq3JES8ShjrkbgUWzqgpUjb4LsNnhuuMhiFgEsl2FMMoABJBIQIqGEHzxOSj9h0CCBAGB4IvPwdmyzUm1K4oqKhzjp1YvgqWoAAtXERERERFRA8fAmyOywYjg1k1wTZgKES+HbFWQjEYQmH5HVfgcPBIF53VDyQO3wjFkDFKxCFL79yC0bnnGtURpCXASgVcTAtFOXWCfuTS9jNnpYpVmIiIiIiLKG1zSnCNaIgFrj95I/LgLqQP7kPh+J2SjEcZW7QAcKSC1ZglENJL+evUiGBQVhqYtYB/4RzgGjoBj4AgYmraA7DnxsFuNEGBtZiIiIiIiyiec4c0R2WoF4jGEX1mZMaPrGFyMwIKZSJUchIjHocUiANIBWAsF4BgyGsm9u4EjvXsdQ0ZDNhac3BiOtCWqy76+RERERERE9QVneHNExKLpGdyjWwId+d56dR8A6QJSqdLD+teyVYEWDmVcRwuHII6E4hPFtkRERERERJTPOMObI0f31DV4G8N6dR9IkCAXWiBZlPRs6y23IfzyyvTXg4qhpZJAebTarPBJF5g6Xlsim/NU3yIREREREVFOMfDmiKx60rO2dhVKn+sRXLu0qlrz2ClQhoyGbLPD1ncgRCyM8NaNcHfuknVW2PPAUyc1hsq2REeHXrYlOjvJkgRLOIDk4T1QrHYWLyMiIiKivMDAmyNaMgF13D1IHtiD8NaNeqshAAiuWwZrj94IrH4WSv8hCG9YDXX0XdCi4awzsiIeO6kxsC0RAdzLTURERET5i4E3R2RJQmDtUjiGjYXSu1/GDK9jUDGEZICIx2E6pyOU/kMQfOl5uG9/MOuMrGxznNQY2JaIgJr3cttnLkWES9uJiIiIqAFj0aocSQV8QCIBg+LQwy5wJGysXQpjo8aQzGYY3F6E1i1Hav8eCCHgGDwyvewY0PfwCtRBQGVborPX8fZyExERERE1YJzhzRGDtxGUvjegYueXWcNG8sBeqKMmIRWPpota/fpaiFAZwptf0pc/CwiEN78EtXlr2MpjkFT3Cc3QcikrAdzLTURERET5izO8uZJKIbhmCXAkaB5NMptR0P5cBNe/AEOBBUrfG9KVmbUUtFAAoXXLEVy3DKF1y6GFApAsVgSnTUBwcjGUrz6B7eCPUCJlkKXjz9myLREBVXu5M1YOjJ+KmKLmdmBERERERKeIgTdHUsEARDyOyJub4RhUXG2Zcvy7r5HavwdaqEyvzJzcvy/rkmYNAo6BI2DvPxTB1c9C/OcjBCcXw7rjs+OHXi5lJWTu5fY8thD2mUs5y09EREREeYFLmnPE4FAhmc1IlRxEeMv69DJlWUbB+Rci8eP3iL68ApLZDKnQqofSyOZ1UH5/E5QBwyBpAkKWIDdqirL5jyO1f0+1glc/VXiIS1mpkiYEIjYnvK3bIVBSwirdRERERJQXOMObI1o0pM/spkoOIrxhNaQCM0RFOaJvbYEWCkC99R5AcegzuqmSgwi/vAIAYOx4PswXXorgyoVI7d+TPtaqHQxNWsDYqAnck2fA2KrdcWdruZSViIiIiIjyGWd4c0QymTP67woIhLduhPOmW+EcMgowmZESKUjJCjgGj9SXNWuhAGRzIWTVhUQ4pIddU4fzoPy2P/xPT9MLUKmjJiHlKapxDGxLRERERERE+YyBN0ckixXKb/rrQbZyP27i4D5I8RhM7ToD4SBSTVtkrczsbNwcaNpSX5Js/90Q+OdmFqAKLJ4N96MLAbOtxnFULmVF5bJnhl0iIiIiIsoTDLy5YiyAoUnzjP24sCqI/nUVrD16Q4uEEFg4E96pT0MuaoLQuuX6UyWzGQaXB6nD++G46xFo3+4ANC1rASqt9DDg9J7pd0dERERERJRz3MObIyIaRiqZhKlVOxgaN4WpdTtAsUMdcQckcyEMLi9ku4qk7zDUm8Zm7LNVx9wNTZYRXj4Xcnk5wq+sBAzGrO2NDC5PLt4eERERERFRznGGN1dkGSg5CP9RS5rVUZMQOFKEqnKJs8HlhpZKwvvg00gFfDCoHgT/929wNG0Jpc8NCPz5EYh4HKFXVkIddScCi+dkXE+T+TcNIiIiIiI6OzHw5kqiAuHXNuh7cwEguP4FWHv0Rmjd8nRboTVLYB80EuZzL0DJg+OrgmzxRIhUEoZGTfVlzIlvvkAYgGvCVEBogCQj9NfVUAYVc0kzERERERGdlc5I4C0pKcH8+fMRCAQgSRJ69eqFa665BuFwGE899RQOHz6MoqIi3HHHHVAUBQDw17/+FW+99RZkWcbw4cPRrVs3AMB3332H+fPno6KiAhdeeCGGDx8OSZLOxNuoUyJRAeW6wdCCfkATgCxDuW5wxj5cEY8D5TGkAr7MYlRLn4QyYBjMnS6AoWkLWHv01kNz2cqFemiWzGZonkY5eX9ERERERES5dkYCr8FgwLBhw9C2bVvEYjFMmTIFXbp0wdtvv40LLrgA/fv3x4YNG7BhwwYMHToUe/bswfvvv48nn3wSfr8fDz/8MObOnQtZlrFkyRKMHj0aHTp0wIwZM/DJJ5/gwgsvPBNvo07JigOIf4vwKyszqjQbW7TWz5HMZhjbtIfBXQT3/U9AhEMweIpQsXcPjE4V4U8+hOPG4QgsmpWxjDn8P39NX2/CVEQVZ15XXpYlCZZwAAj4IKlutlUiIiIiIiLdGdng6XK50LZtWwCAxWJB8+bN4fP5sH37dvTs2RMA0LNnT2zfvh0AsH37dlxxxRUwmUxo1KgRmjRpgp07d8Lv9yMWi6Fjx46QJAk9evTQn9PQVC5ZPnrmNrhmCSQtHdYqA3DZsqdR8sCtSO3ZjeCqZ1H6yCQYTAaENq2F/ZJf6GG38hqBxbPhvPlW2GcuRbRjl7wOf7Ikwfr1ZwhNLkZw2gQEJxfD+vVnkBvgjD8REREREdW9M76H99ChQ9i1axfat2+PsrIyuFwuAOlQHAwGAQA+nw8dOnTQn+N2u+Hz+WAwGODxVFUd9ng88Pl8WV/njTfewBtvvAEAePzxx+H11q99rMndX2dtIwRZhvu+mYBsRGr/Htiu7gsACL+2Ac4/TkBy97cIrl8B57CxSJYczN6KKBJCoacRCl0uSHlctErbvwclx/QeDs6dDu9TKyE3bZHj0TVMRqOx3v1bobMP70OqD3gfUn3Be5Hqg4Z8H57RwFteXo45c+bglltugdVqrfE8UcOsZE3Hs+nVqxd69eqlf19SUlL7gZ4BbsVRbf9tZNtrEIkEUgEfkKhAcPWiquXOg4qRPHQAoQ2r4BhUDAHA4PJCMpszQq9kNsPgdKN821YYzmmPSLvzkdK0HL3Ln3YqS5IdB/ZkDfzJA3sQNBWehtHmP6/XW+/+rdDZh/ch1Qe8D6m+4L1I9UFDuA+bNWuW9fgZm/5LJpOYM2cOrrzySlx66aUAAKfTCb/fDwDw+/1wOBwA0jO3paWl+nN9Ph/cbne146WlpXC73WfqLdQpLZWA4/qbEd6wGsF1y9JB9vqbkSwLQAv69bALHJm5XLsUxkaNIdtVaBVxyAYjtGQCjmHjMnv0jrwTqUgIBed1gZZMwn7wh3q7xFeWJFh3HLMkeUftlyQbrEr23sNW2+kYLhERERERNTBnJPAKIbBo0SI0b94cffv21Y93794d77zzDgDgnXfewSWXXKIff//995FIJHDo0CHs378f7du3h8vlgsViwddffw0hBLZt24bu3bufibdQ52RjAQKLZ1fbf2t0eyBpIuvMZerwASh9rkf4lZUonTEZ/pn3QHZ5YB80Eo6hY+C+czqCL6+A7+E7UfrIJMjxcgggPYNaD1nCAQTnHbMked70Wo83VVEOx6DijMDvGFSMVEXF6RoyERERERE1IGdkSfOOHTuwbds2tGrVCnfddRcAYPDgwejfvz+eeuopvPXWW/B6vZg4cSIAoGXLlrj88ssxceJEyLKMESNGQD6yF7W4uBgLFixARUUFunXr1iArNAOAVubPGmpFNAzIcvalykVN4D9mz2pg3sNQ+g8BAPjmTM18bNEseKfNQ7LMD9icZ+idnYCj2i1VEvE4UMvxag43wls36r2MBUT6+8mXn64RExERERFRA3JGAm/nzp3x4osvZn1s6tSpWY8PGDAAAwYMqHa8Xbt2mDNnTp2OLxckmy1rqJXMFhiatoA6apI+A1xZsTl5KHuRqso9wFlnhQM+oJ4WcJJUd9bPAE5XrZ4fVZxQho1F8MgfAc6WVkxERERERFQ7Z7xKM6VJFgWOwSP11kSVoRZmM4LLngZMJrjvfBiJH74DDEYYW7WFZDJlDYgCAhKkrEWwDC4PQopaLwNgVFHhGD9VX9Ysmc1wjJ+KaC3HqwmBaMcusM9cmp4VdrrYh5eIiIiIiHSSOJHSxw3Yvn37cj2EDC7fQaRKDyH54670nl1ZguxtjPCapUiVHASQDrOe+2Yj/vn/Q/TNLXDd9QhSe77PmPlVx9yN4IvPQVYcUH77u2qPoUlzBL3ZK5bVB3qV5iOBNcbAmlMNoQIf5T/eh1Qf8D6k+oL3ItUHDeE+rKlKM2d4c0UT0BIJmFq1gyiPQiq0IhWLZZwi4nGIRAXCG1anZ3VjEQTXv3DMntVNcA4bC8gG+J96sPoe3of+DCVSVm9nPjUhELE5q/bs1sMxEhERERFRw8TAmyuyBPhL4D9mSbO1740IPf9nAEf29FqscN/5MALPzUMq4Edq/x6E1i3PuFTy0p4wNmqSvSftoX0Izp+RXircqUu9DL1ERERERESnAwNvriQqEP3gH3BNmApRHoNksSG0aS3s1w0CAD0Ax7/+AuE1i6GOnQxDo8bV9vAamraAwWZLL43OVtnZoertfuwzl6ZnU4mIiIiIiM4CZ6QPL1UnIKD06gP/3Onwz3sE/qenQenVB5LdAcfAEVD6D0F480uQYtH08uSFM1Hx1f/BMWRMRt9Z16g7EVj6JCKvb6rek3bwSKCgMP16le1+iIiIiIiIzhKc4c0R2WSGb/GczD23i+fA+9CfEVy3DMCRFj1HAqyIx4F4HOG/vQxlwDCYWrQGJAMShw9W7emVDLAPHAHE4zC2aY9UwActHIDB2xhaKFDrdj9ERERERET5gDO8OZLyl9aw53Y/gKoZWiEbYPA2hn1wMQyNm8J2dV9EX38VkA0IvboOhsJChDesRnDdMoTWPAtJkhDZ9hogNIQ3rUFi105Yf30tHOOnIqao1cYhSxJskTLY9u6CEimDLEln4u3XK/wMiIiIiIjyE2d4c8Tg9mbdc2ts1BSuOx6EVGBG+M0tUHr3g2PYGKQO7EPwL0ughQJwDB4J2anCObgYpY9OypglDq5dCvfE6Qg8/2covfshvGU9HGMnI9y6Q7WCVbIkwbrjs+p9cM+i4lb8DIiIiIiI8hdneHMklUpCHXN3xp5bdczdCLwwH/6nHoL/6Ydgu/wqlD03D/6nHkLolRVQ+lwP2a4iuGYJJNmAlL8k6yyx0FKw9uiN8Jb10EIBpDxFWcObJRzQg17lc4Pzpqf74p4lLOEAwqsWQuk/BI6BI2DvPxThVQvPqs+AiIiIiChfcYY3RwyyAaHd38H70J+R8h2Gwe1F4IUFSHz5KYDKPb2zofQfgtC65frsrWvCgyhbPhdJfykkiy3rLDFkA0LrlqdnKydMRVRRs/e3DfiyBmaU+av64ua7cBBK734Irl1aNcM7qBgiEjp7PgMiIiIiojzFGd4cSWkaLG3aoeTB2+CbdR/in27Xw24lEY9DgpTxffLH76D0vQHGoiaQCgqqV2YeVAyRSsB918Ow3zIBxkZNYdnzXda9qZLq0Z+rHzObITndp+ld1z+mwkI97AJVy8KNx3wuRERERETU8HCGN0cMBgN865brFZaNrdplna0VEJnfaxpCa5bAM/UppFQvwltnV1VphkB460ZYr/otYLHCqDjgu29s1czlhKmIdqzamypkCY7BIxFcs6TqnMEjIeSzp2hTMhLJOsudikQAZ1GORkVERERERHWBM7w5okVCUK4bDMjpH0HKXwJ1wtRqe3rLP/tI/94xqBjRN7ek9+lGwojaVTgGjdCrNIc3rIbjhlsgFzWDLBsQePaJzJnLudNhDZdVDcJXgvDml/T9q5W9f+EvPbMfRg4ZbErWWW6DzZajERERERERUV3hDG+OyIoDSHyP8Csr9dlVddQkuO5+FMkff4CIhRF88Tm4b38Q8U8+gNA0hLesR6rkYHrZscsDayQITRNw3T4NojwKqdCKVHkMSCUhW21ZZy7l0kOAzQEAkFQ3tFAAoXXL9XMks/ms6tebLI/BMai42h7e5DGfHRERERERNTwMvDkiEgmE//6yvhwZAILrX4D1qt9CLjAj8uYWpEoOQgsHYWjcDIGFM6uC8dgpCLkbw35oLxJlPvgXZS5JNrXvDC0UyrpEWrJY9O+jigrHhKkIzp2euey5piJXeUhSHAhv3VhtWbjtwstyPTQiIiIiIjpFDLw5IirKoVw3GFrQD2gCkGUo1w1OLz1e82x6efGG1ZCtNgTXr4Dn/jnQwiHIniKEPE2Q1DQgmUD4tQ0ZoTn82ga42k5GqsyfdX9uSjmm8rCpAMqAYZA0kd67ayrIwaeRO1FFhTJ0bPU+vGdR6CciIiIiylcMvDkiWxUgHstY0uwYPBLGFq3T38syHIOKoVXEUdjtEiT2/oCCjuchLhvSYReAEFr2ljoQMLU6B4kfdmWG2UJrRhEsSziA8PK5sPboDUCCpAmEl8+FbfIMRM6SljyaEIh26gL7zKXpdkxOF6KKmrVvMRERERERNSwsWpUjoiKuz74CR4pKrVkCJFOQzGYYW56D8NaNkEwmhNYsRfC5uUAiAZTH9GvI5uwtdeSCQlR8+m+E178AHAnH0LT090cXpDrSg7ay6FVowyoovfsBkdAZ+xzqA00IRGxORJq1QcTmZNglIiIiIsoTDLw5IspjWYtKiVgEjkHFKFu5EI4bhkMLh+AYOAKyXUWq9DAKjmoZlPL7srfUCRwJtSaTflyClP7+qIJU7EFLRERERET5jEuac0RSHFmLShmbtUI8VAb3+Afgm/cwUvv36MudDd5GSPpLAVdjAIDB5cl6DVlxIPbxP+G4/iYEFs85qtjVZETsLn3Wlz1o02RJgiUcAAI+SKqbS5qJiIiIiPIEA2+OSAYDHLfdD4PBCBGLQLLaIAwGQAhIior4N58jtX8PgKrlzp4Hn4Zc1ES/hmYqgDrmbgQWzaoKtWPuRvzwQRRedJkediuvEVg4E46ZyxA+0pYITlfWwCzOorZEsiTBuuOz6kWrOnVh6CUiIiIiauAYeHNES1RAjpfDv3h2Zlj1+2Cw2pDUMsOWiMeROnwQhuYtq475SxD97CN4H3waqYAPBtWD4OubYO12CdC0RfY+vL6qPrwxuwvq2MnHtDzKnAXOd5ZwQA+7wJE/LsybDvvMpWdN4S4iIiIionzFwJsjsmyA70jYBY7MwC6aBc99s5HY9yMksyXjfMlshuzyQDt8SF9uLDtdKGzdFiUP3Z5R6TlZ5ocUiWSdvTVYbfr3hSE/guuWZ/SgDa5bDlubDg0m7JlkGfaS/Uj5DsPgLkLI2xSJEwnrgez7oFHmBxrIZ0BERERERNkx8OZIyl+aff+s7zBQHkVB+3P1wFoZZEU0DLlZq6onJCqyVnq2DxyByJub4RhUXK1lUSpRUfX8gA+p/XsQWrc8c3ANJOyZZBmWHZ+i/MddkDSB5A+7YGnZBujUtdahV1LdWf8wgLNoWTcR1R+sKUBERFS3GHhzxOD2Zp+B9TRCYOFMeO6fDfvAETA2a4nErm8Q3vwStFAA3unPAFY7AECEQ5DtKqz9+6SrMAOIvLkZiMeRKjmI6Pv/C9eEqYDQANmA0KZ1cFxwcdXrNfCwZ/cfQsWh/dV6GdsbNYXP6a3VNaKKCsf4qdX38CoqwF8yiegMYk0BIiKiusfAmyNaogLqqDszqyiPuhOpeOzITG8JJFmG7HRnzMCmAqWAO12lWVLdUPreoM/yVgY+DRIM3sawXvFf8M+dnnH9RDKpXyuqqHBMegTadzsgaQKQZUhtOzaYsCeikawz3J77ZgO1DLyaEIh26gL7zKXpmW2nizMqRJQTrClARERU99iHN0ckAOE3tsA1YSpcEx6Aa8JUhN/YAoPBCMlsRqr0MIJrlkCSAPfkGTB1OC89A6x6Mq6RLfDJBQWwXt2nWo/dwOI5MBoNmQNJVCD8ykoE1y1D6JUVwNFLnus5ES/P3su4Il7DM7LThEDE5kSkWRtEbE6GXSLKjePVFCAiIqKTwhneXCkww3rplRkzsOnZWUAdczdSZWWQ7SpSZX7IhRaoxXcgKTRo5VH9EloN+4CNjZpCsyk/2WPXEg4gOPeY2YS5DWc2IVXUNOuS7JS3yXGeRURUPzX0bSZERET1EWd4c0SSJKDQCmXAMDgGjoAyYBhQaIVBcSBZFkDktVegjpoICIGKrz9H8tB+IByEZFf1a8h2Z/qXoaOvazZDtimQCsxZHzPYqqo0N/TZhIjihHPCVP19SmYznBOmIqLU/7BORHSsypoCR/83zTF+KmKKmtuBERERNWCc4c2RVOlhRN/cDPvvhkCUxyBZrAi9sgoG1Q0JEpTe/eCbM/Wo/beTILtckLSUfg2tojxrJWatIo7kwQNwDBmD4OpFVY8NGYPU0TMHDXw2QRMCkY6Z+28j3H9LRA0UawoQERHVPQbeHDF4G8F6dV8kjrTUgSzDenVfGDxFkM1mlD4+5Zj9t7PhmfI4hHxUODUVILx1Y0Yf3fDWjXD96T4YW7ZG6vBBKAOGQdIEhCwBBWYYLFb9+Q29aBVQtf9Wb6PUQMZ9NLYhIaJK+fDfNCIiovqEgTdHBARQHq3WUie+cwcQyL43t+Lrz1Fw/oVVBwvMUH43FJq/BNAEJNkA5XdDAVlGcve3CK1bVm321jVtHmA/6sJHilbpY5gwFQBD2JnCNiRERERERKcP9/DmSnl51grLRqcKAFn33wpNgyiP6ccSVjtkszmjyrJcWAgtlYRBdcPefygM3sb6+SIeh4hG9O9rKlpliQZh3fEZQpOLEZw2AcHJxbDu+AyyJJ2uT+OsZQkHEF61EEr/IXAMHAF7/6EIr1qY/mMDERERERGdEs7w5oiIRbO31IlHEXlzc9a9ueGtG1F44aX6+cZoCL4Fj2cufZ4/A8qAYQitWVr1vC3rkSo5CMlshuZpVPWCNRStMoaDKDsSwiSkQ2541ULYJs+o8+rNZ/1McjgIpXe/aj9rEQlVLWkkIiIiIqKTwsCbI7LTlb2ljt+HVMlBhLeshzJgGIyNmiJ5YC/CWzfCccMt0GJVbYlEDYFVMhj1r4Nrl0LpPwThDavhmDAVUcWp7wmrqWiVSCbOSAjjcl7AVFgI3zH9koNrl8L16IIcj4yIiIiIqOHjkuYcSYXL4Bg2LqP9hDrmbkRe3wQA0EIByBYbDI2bwdikGWy/vg6pcBCyLb0BV5YkGBRH1qXPBe06wTFwBAzexhDxOExtOsD16ELEOnXNCJI1tcCQrYoedoGqEGY85rVOlSUc0MOu/jrzpp9Vy3mTkUjN/ZKJiIiIiOiUcIY3RwyKipStDK7bp0GURyEVWpGqiMN1272o+M/HMLZqB5FKoOy5PyPxzReQzGZ47p0FYbXDIMuwfPUpfKsWZm095J//OLRQQF8Gnfj+G4SfnlZt9rSmFhjWvbtqDmHOorr7EI7XB/gsWc5rsClZZ9kz+iUTEREREdFJYeDNFYMMlPngX7Qko0pzIlGB4JqlcN8zE6kDh6D89wCkuv8ChmYtAIsN2t7vYbdY4Js3HbJdBUwFma2HTAUAqmZl3ROnI7DkSX321D5zacY+3KwtMGpYbi3quD9vQ+8DXBeS5bGs+7WTx/whgIiIiIiIThwDb46IWAzh1zZkFoZ6bQOcN/8JktkM2WRCaO1RYXjYOMj2dChNfv8tRDwOa/8+CD4/r1pgVPoPQWjdcoh4HIkfdyFVcjD9mrWcPa1c6lxtb20d9+c9U69Tn0mKI2svZduFl+V6aERUhwyyDMV/EKK0BLKnCCFXI6Q0LdfDIiIiynsMvDkiUtkLQ6HABLV4IvxHZmWBI7O1KxfA8+DTkGQD5JZtIJnN6YCUrWjVkQAtmc0QiQr9sdrOnta01LmuC0mdqdepz6KKCmXo2LM69BPlO4Msw7bjUyR+3AVJE0h9vxO2lm0Q6dSVoZeIiOg0Y+DNEbnQmrUwlHf6M4iXHEJq/56M80U8DhEJQ0smEN60Dq5b70Vy/x6Yzu0K+7U3QpTHIFlsCG1aCwGRLoI16k4E168AgBMOUlmXOp8GZ+p16iuGfqL8p5SVIOUvRfiVlVV/2LrpVihlJSizu3M9PCIiorzGwJsjWjCQdXZWCwZQ0LRl9r2tBiOS3+2A9ee/BFwumNt0gKFRE/jnVs0OqmPuBho1hgIg/MYWuMffj2Q0ipSn6IwEKS7bO3Fne+gnyndyvBz+FfMz/8C5Yj480+YC9hwPjoiIKM+xLVGOSEeq82YcM5shWRUkdn0DdeyUzHZBg0dCKihA/JsvEVy7FIYCCxCLILBoVsYvUYFFs2AQEsIbVkPpfR2SFeWItOmIiM15RsKu7T8fwn/fOPhnTIbvvrGw/edDGGTeZkR09hLR7O3HRJTtx4iIiE43JpEckUwF6RCbJdSaWp2DpAS473oMnntnwXX7NBhbt0XZ6sVQevdLzwSHypDyHc4+SxwKwnPfE4i89xYCj01GYchf4zhkSYItUgbb3l1QImWQJemk35PiP4jAwpmZAXzhTCj+gyd9TSKihk622bP+gVO2KTkaERER0dmDS5pzRCvzI7z5pczqvJtfgtqiDTTFjkKbAyIWRsWXXwKaQGTba1B69wMMhvRMsOKALMnZe7i6vYh//C+kvt953MrMsiTBuuOz6gWTjurVeyJEaUn2WYzSkrrt30tE1ICkoqGs7cdS0TDgyfXoiIiI8hsDb45IVhu0UAChdcurjpnNEACkQwdQEY0g+NzcjF+Owls3wj3hATiGjIFkNAKSBMfgkQiuyezlmyqPIbRhlf6cmiozW8IBPewCqLFXb23JnqKsAVzyeE/4WkRE+UJyuLK2H1PvnJ7roREREeU9Bt4ckYwmOAaPRPi1DbD26A1JlmE6pyMkuwr/sqdh690/s0fv1o2w9ugNLRwCTAVIlfkhAVlniR03jYO9/9D0L1Rj70awpsrMAV/WGdna9OqtJEsSLOEAEPAhpXqgTpiKwNFFtMZORtjVGGDhKiI6S4VcjeAY+Ed9y0flfxtDrkb8byMREdFpxsCbI1owgOh7b8ExYBgCS5886pegKVAGFUMuKEDg6YcyZniFwQCpoADB5+fB+9Cf09fJMkuc3Lsb4Q2r4RhUjKTBWOPyZEl1Z68GXYtevUANS6InTIVrxrMQhw9C8ngRdjU+bpVmVnUmonyX0jRELvg5XI8ugCgtqdV/G4mIiKhusGhVjsgOFYXdr0DwlZVQ+g+BY+AI2PsPRXDdMhgtFkgF5sylxmuXwtyuMzRJgojHkYxFocVjcAwbl1n4atg4RN/coj/HcEyhlKNFFRWO8VMznz9+KmKKWqv3kHVJ9NzpSMoGBNueizJn0U+GXVZ1JqKzQUrTUOYsqtV/G4mIiKjucIY3R0QqBWOrtlB696tWyCRxYC9MTVpknh+PIxnwQSQS6VlZlxeyloKsuqEMGAZJExCyBFl1QXZ5kCo5CBGPIxWJ1FgwShMC0U5dYJ+5NL2M2ek6sV69p7gk2u4/BF+Wqs7uRxci4OS+XyIiIiIiOjUMvDkiwkHIsgGBI2EXqJrJdU2YCpFKZZwvmc1IHTqAgjbtoI6+CymjAYjEEPjzI9WWJLsmTIVv1n3pYPwTy5M1IdIFqioD6glUZz7VJdGi5FD2qs4lhwAGXiIiIiIiOkVcO5ojktWGxN7dWQNf8sBeyIpSrUevkCSIRAKRD/8BYyiIlK+GNkDx8hNennwyTnVJtHwkMB9NMpshq7ULzERERERERMfDGd4ckSw2FJzTMesMqanlOdASCSgDhsHYqAmSB/YhvPkl2K75PYSpAPZe10FUlMNQwwyrsUlzeB6ej5CnCbTTuE/sVJdEJxQ71FGTEFg8u6po16hJqFAcp23MRERERER09mDgzRGRSiIRi0Addw8CC2ZUBb6RE6GJFLRoOUwtzwE0DaY2HSAXNUHBOR2AQgtSkSCMBYWATYE65m4EFs2CiMdhaNoCrlF3QotGkNj5Fawt2yDSqetpLY5yKkuiyy12WF0uuG6fBlEehVRohTCbELfY2aqDiIiIiIhOWa0D76xZs3D33XdXOz579mxMmjSpTgd1VkgmgUP7kZTlqqJTEAiuXQ4tFID3wadR8tDtehB23XoPQu//L2wXXQ6DxQKtohyy0Yjw1k3pPb8AUBFH6eNTqgpgDR4JpUlzlNnduX63WdkiZRAGI2SbGVoqCVlRkNJSsEXKUGax53p4RERERETUwNU68H7++ecndJx+QiqJ4Joleiuiag+HyiDbVaTi6WrL/vkz4Jk8A6nyKCp2/B/MXS9BqvQwEl9+Ct+Xn8I+8I8Ib1idWQBrzRJ42nWGwemtsdetLEmwhANAwAdJdZ9YleZTZEgmkCwtQemzT1TNcI++Cwa7ekZen4iIiIiI8ttPBt5169YBAJLJpP51pYMHD6KoKHvLGzo+EYtCtqswtm4Hx+BiQBOIvLkZqZKDkMxmJL7fCaXP9QhvWa+3GKr45guY2nVGUtOQioQheRvre3glSFkLWGkVcdh2fIrEj7sgaQKp73fCdmSpsxAC1h2f6b10K4tORTt1OTOhtyKOwJGwWznewLNPwPvQvNP/2kRERERElPd+MvCWlpYCADRN07+u5PV6ceONN56ekeU52e2F0vcG+Oc+lNGDN7x1I5Te/RDesh5aKACl/xCE1i1PB1tNg0glEd22Fa4LLoaQZTgGj0RwzRJIhYVZC1gZnC5UfPEpwq+srHqdIWOgNClBUjYgvGohlP5DIEECAIRXLYRt8oz0vtzTTAuWZQ/pwTLA0/S0vz4REREREeW3nwy848aNAwB07NgRvXr1Ou0DOluIivSS42N78HoeeAplLzyDVMlBAIAEKSMMq51+Bsf1N0NUlEOEg4i+9xZcE6ZCdqpwDBmD4OpFGcEWEPox/XVWL4Jn6tOA0KD07ofgkV7Ala8jIqGqIlSnkXSk9dKxIV2ycf8uERERERGdulrv4e3Vqxei0Sj27duH8vLyjMd+9rOfHfe5CxYswMcffwyn04k5c+YAAF588UW8+eabcDjSLWgGDx6Miy66CADw17/+FW+99RZkWcbw4cPRrVs3AMB3332H+fPno6KiAhdeeCGGDx8OSZJq/WbrExEOwdiqHey/GwJRHoNksSH0ykqkSg+i8BdXI/HNFzA0bYGC87tBbdwUWjAAx7CxEBBIppIITb8Tjj9OgPUXv4J/7nTYB4+GZDZXFcCSJcBUgFQwkL1Xb3kMJqcTwQ/fTRe9qhzDprWwX3DRGfkMpIJCfYb66EJbx/bmPZ5c7kEmIiIiIqL6rdaB9+2338ayZctQWFiIgoIC/bgkSXjmmWeO+9yrrroKv/3tbzF//vyM43369MF1112XcWzPnj14//338eSTT8Lv9+Phhx/G3LlzIcsylixZgtGjR6NDhw6YMWMGPvnkE1x44YW1fQv1iuxtDKXfYH1vLWQZSr/BSEbDMNoUFFzWE47f9EfFl5+m9/duew3Kf/8eGgRM3ibpiyQTCL++CUr/IShofY5eobmSZDbD+9Cfs86iyoodFckUlF594Z9btYdXHTUJqWTqjHwGWplfn6FOB24rQq+sgrHlOYDT+5PPlyUpt3uQiYiIiIioXqt14F2zZg0mTpx4UgHzvPPOw6FDh2p17vbt23HFFVfAZDKhUaNGaNKkCXbu3ImioiLEYjF07NgRANCjRw9s3769wQZeJBPQSg5m7q0dPBKmVm1RtuRJOAePzGwxNKgY4b+/DOfNf4KIhdPXkI36kmSp/1DIdhXW/n30/biRNzdDi4SyzqIKIVAgSShZPDuzaNTi2fBOP/4fMOqKbFf1GeqjxybXskqzJRzQwy5wZLn2vOmwz1x6RvYgExERERFR/VbrwKtpGrp27VqnL/7aa69h27ZtaNu2LW666SYoigKfz4cOHTro57jdbvh8PhgMBng8Hv24x+OBz+er8dpvvPEG3njjDQDA448/Dq/3p2cMz6TU/t3V9/CuWQLPlMdh7dEb/vmPVdvfq/QfAgiBlD/9vo2NmuhFr2CxQel7Q/XlwVZ71SxqvByS2YLQX1fB0aINtGQi63LnlL8U3o7nn/7P4NDe7J/B1Kdr9fNKHt6TdfymaBje1u1Oy5jzndForHf/Vujsw/uQ6gPeh1Rf8F6k+qAh34e1Drz9+vXDyy+/jN///veQZfmUX7h37964/vrrAaRbH61YsQLjxo2DqGEpak3Ha9KrV6+MIlslJSUnP9jTQK2IZ69QXB6DJMtZH5NkGbLqQmRFeml48sBRgU9LIrhuWbXw6J3+TNZZVElxQIaosbLzmfi81Ego+/7iSLhWr69Y7VnHn7AqCNSzn3dD4fV6692/FTr78D6k+oD3IdUXvBepPmgI92GzZs2yHj9u4B07dmzG94FAAJs2bYKiKBnHFy5ceMIDUlVV//rqq6/GzJkzAaRnbo9uf+Tz+eB2u6sdLy0thdvtPuHXrS9k1Z01rKX8pTCd0zHrY6ZzOkAyGGG96rcwNmoCyeaoOi9eQ4AOBxH94B/VClOp53VFhdUBddQkBI4sa67cw1thr/vlwAZZhuI/CFFaAtlThJCrUY2fgay6anXNqKLCMX5q9T28igpwDy8RERER0VnvuIH3tttuO20v7Pf74XKlg82HH36Ili1bAgC6d++OefPmoW/fvvD7/di/fz/at28PWZZhsVjw9ddfo0OHDti2bRt++9vfnrbxnW6paAjquCkILHi8KmyOuweGosYIvrIKjkHFGe2C1OKJCL70Ahw3DkdozVK4JjwAFJqhjr4LgWefAIDs4dGhQul9XWZhqjF3Q0smELMosLlccN0+DaI8CqnQCmE2IWZRAE2rs/dqkGXY/vMh/AtnVo1h7GSgRZvsrZRqWXlbEwLRTl1gn7kUKPMDTherNBMRERERke64gfe8886rkxd5+umn8cUXXyAUCmHMmDG48cYb8fnnn+P777+HJEkoKirCqFGjAAAtW7bE5ZdfjokTJ0KWZYwYMUJfQl1cXIwFCxagoqIC3bp1a7gFqwAYbA5U7Nub0UZIi0WR3PklCs/rivCW9VD6D4EECcbW7VC2fC60UACSxQrJbEbywF4gVAa5oBDKgGEwtDwHavFEBJY+mVHoCkIgsGhWZmGqRbPgfXgBCiNl0A4dglbm08cgO90o9DZFxFK7Xri1aQuk+A/qYVcfw8KZcE96BOFNa/X3KSAQ3rQWatMWgFpUq9fXhEgXqKosUsWwS0RERERER9R6D++6deuyHjeZTHC73ejWrVvGMuWj3X777dWO/epXv6rxtQYMGIABAwZUO96uXTu9j29DJ2JRBJ+bW21G1jXhQYh4FKmSgwitW57urdt/CLRQAOq4KUgc2p+u2LxlPZx/nKAXrXIMHJFuXXR0eNy6EWqLNtmXOpf5YEwoKNv4F1h79AYgQdIEwhv/Amerc4BaBN7atgUSpSXZ9yQXWqCFAgitW57xGUjO2i1pJiIiIiIiOp5aV5/av38/Nm7ciM8//xwHDhzA559/jo0bN2LXrl14/fXXcdttt+GTTz45jUPNLyIayV6wKR6DVGgDAH0ps2RRoAwYBmPz1tCCZQhvWY9UyUGIRByyXYV94B8BkwnqqImQCq3p58oGKNcNhlRYCMlszngdyWyGVFgIkUpA+d1QoLIImSxD+d1QiGSyVu/BEg4gvGohlP5D4Bg4Avb+QxFetTA943sU2VOUdQzCZoc6drL+WOVS55CnSa1en4iIiIiI6HhOqC3R7bffjp///Of6se3bt+Pdd9/Fo48+irfffhurV69Gt27dTsc4805NBZsM3kaQCq1w3/0oEj/uQnDdcn12N5VMILxmsf4cyeWBct0gBFcvgmxXofS9AaG1SzL2w0o2R9Y+vJLFBlk2QIt+Xa0XsKw4avcmwkEo//37antwRSRUtcQYQMjVCOrYyQgcs4c35PRAusADz8PPQCstgezxIuRpimQd7h8mIiIiIqKzV61neD/99FN0794949jFF1+sz+r26NEDBw8erNPB5TMtlYI65u7M2c0xk6GZTBCJCgi7HaZW7eAYMgqu26cBVhsMZgvUsVP058hGkx42rVf3qd7TdvWi9HmNmkIZMAyOgSOgDBgGuVFTVNickGKRrH1wpVikVu/BVGjRX//o1zSaCzPOS2kaIhf8HK5HF8B1z0y4Hl2AyAU/R0rTkNQ0+F2NUdb+fPhdjRl2iYiIiIioztR6hrdJkybYunVrRmXkrVu3onHjxgCAYDAI8zHLVqlmMgSCWzcd1S7IitCmdXD+YSREvBwI+OBfMidj5hVON5IV5fBMeRwpAYhwVR9bCVL2vbqlh6ApCgq7XoKUvxQGlwcVBiOipgI4alpWHa1d4NXKAtmfXxYAnJmNqVOahjJnEeA8UoyKwZaIiIiIiE6zWgfe0aNHY86cOdi4cSPcbjd8Ph9kWcadd94JANi3bx8GDhx42gaab7SKOKyXX5XRLsgxZAxS0TCMqgeBZU/rBagAIPzaBrjadYKpaQskUilEW7aD8+APGcuisy2RlgotCM99GNZfXwtj+/MQL7QidqSSsmRTsj/HltlnuSaSxZL9+RZLXXxEJ6U2VaOJiIiIiOjsIAlR+zSQTCbx9ddfIxAIQFVVdOzYEUZjrTNzTu3bty/XQ8jg9h9CyQO3VguL3unPQEvEkfzmy4w+vI5BxTC27Qi50IqwtykqNA3ussOo+L//h+CaJfoe3qP36qqjJsHQog0qPvkQUtuOiJ7TOSP8uUr2I/HNF9X24Jo6nAe/t6l+Xk0hUomFgI//WW1/sLjo8lq3NapLta0aTTXzer0oKSnJ9TDoLMf7kOoD3odUX/BepPqgIdyHzZo1y3r8hNKq0Wiss968ZzutzJ99CXIwAFl162G38nhw7VJ4H56PkgduhTrmbogul0ILhwCzJV3BuVETJBMJuCZOh4iGIZktCL26DpZLfoHQKyvgmDA1yygEYHfCdfs0iPIopEIrUuWxjF62xwuRUasD1uatM3oJo3lrxKyOnPTDtYQD+jiBI5/bvOmwz1ya7tVLRERERERnleMG3jvuuANPPfUUAGDs2LE1nrdw4cK6HdVZoLJd0LEzvCKZRHLvD5DtKlLxqiJgIh6HFiqDiMcRWDQL3unPQBiMCG9ak+6jW1AIOeCHf9nTGbPCQjKkg9/c6sFPMhdChoD/6WlVs8Jj7oZUWFV06qdCZPSczrAUNQHK/JCcrtwuIQ74sv4RAWX+jKrRVF3lLH7y8B4oVjuXghMRERFRXjhu4B09erT+9W233XbaB3M2kWwOqKMmIbB4dkbYTJTHEF40E8qAYQitWVp1vtkMqcAMg7cxUiUHkfKXwOBpBOU3/RFcswTuidMRyDIr7Jo4Xf/+2OAnNA3BF5/L2CscfPE5uO6cXjXQnwiRmhDpEF153RyGJKmGVk9wunI2poaAS8GJiIiIKF8dN/B27txZ/5pLmeuYlkJw/Qt62BQQCL74HNQ/ToBsV2Fq2QaGpi1g7dEbkiyjoMN5EBLgHDEBZSsWAAIQpgLILVqn2xZJ2as0i/IogOzBT4tFofTuV22vsBaLAkfya0MKkVFFhWP81OrBTVFzGsTrOy4FJyIiIqJ8Ves9vIlEAuvXr8d7772HUCiEF154AZ9++in279+f0aqIakcL+JDavwehdcszjie+2wHrr6+F7PLCMbgYgfkzMsJoeOtGOG4cjvCbm+G88Y/QygLQSg7C3PFn2Ssmmy01Bj9DQQHKtm7MrAa9dSPc53bVz2lIIVITAtFOXWCfuTQ9A53rJdYNBZeCExEREVGeqnXgfeGFF+Dz+TB+/Hg89thjAICWLVvihRdeYOA9CbLNnn0Pr6bB1PIcQAg97AJVS5SV/kMQWDQLSv8hEMkKIFSG8CsrEbWrcAweWa1issHthX3m0qzBLxUJZZ3hTUVDgKcJgIYXIuvTEuuGoiHN4hMRERERnQi5tid++OGHGD9+PDp27AhJSs8GVvbjpROnlUehFk9MBwtAD5vRbVthKGqC1OEDWWfdJEj6/0PT9ICbKjmI8OaXoAwYBteE+6EMGAbZ2wipinJEjuy1PZbB5shaDdpgzWwpVBkiI83a1HgtargqZ/Ez7sXxUxFT1NwOjIiIiIjoFNV6htdoNELTtIxjwWAQdvuZ77eaD2SbHcEXn4d74nQkvv8GQtMQ3roRzsEjoUXDkArM2WeAIdLBpNACEYtmPJ4qOYjQmqVw3/VIOgyvXgzXHdNqHEMyEs4aqpOxSJ2/X6q/jp7FN0XDSFiVej2LT0RERERUW7We4b3sssvwzDPP4NChQwAAv9+PZcuW4Yorrjhtg8tnqYo4lN7XIfD8nyE0DZIsQx0+HsJigRAaIh++C8+Ux+EYXAzHwBEwNG0BdfTdKP/sIzgGj0RBl4sguzz6rFwlyWxGyl+K0LrlSO3fg1QkVOMYhLso6/OFq6jW70OWJNgiZbDt3QUlUgb5yOw/NSyVs/jGc7tyFp+IiIiI8katZ3j/8Ic/YNWqVbjzzjtRUVGB8ePH4+qrr8b1119/OseXtwymAsSFBOdNt0JoKRjsTiR2fQ1RXo6Cbj+H9fyuKH18SlXLorFTEPnX21CHjkbg+WegNG0JQ6NmcIyaBK3kICRNALIMydsIWigIIB1eDRZbjWOQtWTWfb+ylqzVe5AlCdZdX0H7bgckTUDIMqxtOyJ6TmcGJiIiIiIiyrkTWtJ8yy234JZbbtGXMkuczTtpqVQFDDJQtmI+lN79EJj3cFW4bdIMwZdXZuytDSx8HO6J05Es88P6i19BatQM4siMavCVlUcF48mQW7SCY/BISC4PRDxW4xhEyaH0vt+jWiOFN78ER7NWgN39k+/BEg0Ce3cjfNTrOwaPhKVxM0QsXOpORERERES5VevACwDRaBT79u1DeXl5xvGf/exndTqos4HBUICShTOh9B9SrXBUYMHjUPoPyWhZJOJxJL7/BsY2HRBcswTe87oBxgL4nn3imGA8E96pT0Nq3RbCYIBUWPMMr8HlgRYKZLyOZDbDoP502AUAYygI/5HZ4crXD65ZAlfH8wEGXiIiIiIiyrFaB963334by5YtQ2FhIQoKCvTjkiThmWeeOS2Dy2cpf2lG1eWjiXgckpy5vbqyZVHqwJ50VebSQ0ANz00e2ofAollQR02C5GlU4xiEpmVd0ixquRxZxGNZX1+U1zyrTEREREREdKbUOvCuWbMGEydOxIUXXng6x3PWMHgbwdC0BYxt2mWtxlzQ6QL9eGXLovDWjXAOG1s1CytJWZ8rmQvTs72LZ8M7bS5Qw2SrFg5mX9Lcsi3gbvyT70F2qFlfX3aoJ/25EBERERER1ZVaB15N09C1a9fTOZaziyzDcf3NKFuxAI5BxfqyZslshuvWe5AqMMJz/xykSg5CMlsQenUdHNffjGQ4CHXM3UhEwjB5G0MdNwWBBY9X7eEddSdCf10NID3bmioLAN5mWYegeRpnXdKsHWdW+GiJ8li1sTsGFSMRL//pJxMREREREZ1mtQ68/fr1w8svv4zf//73kOVadzOiGohwCIHFsyHicYS3rE/PssoyzBd0R/zAPhhLSlA6/7GqIFs8EeE3NkMdfhuCr2+C7fKeSO7eieDaZfpzCzqch+DfXkbimy8AHJltdXtrHENUccIxYSqCc6dXBdYJUxFVnEAtljVLigPhrRszZ4i3boTtwsvq7HMiIiIiIiI6WccNvGPHjs34PhAIYNOmTVAUJeP4woUL635keU7EyyHbVVj794GEdLXryOuvwtSuM0RFOfzPzs0sRrX0SdgHjkBy725YO/8MBsWJkpn3QsTj+gytZDZDGTAMFf9+78hs7yRox/njhCYEoh27wD5zKVDmB5wuRBW11i2FoooKZehYBOcdFZjHT0VUUWsVmImIiIiIiE6n4wbe22677UyN46wjubxQrhuE4OpFVWFxyBgkgwEYjQbIdhWp+EH9fBGPw+ApgmSzw//EfXBPeiR9zNsY1qurQrOp4/lwT34Mss2O4Ka1sKkewFnzLK8mBCI2J2BzHnmhdFCVJQmWcAAI+CCp7qxBWBMC0U4nH5iJiIiIiIhOp+MG3vPOO++ELjZjxgzcc889pzSgs4WkaXrYBY609Fm9CK67HoP/iXthHzQSwReqql9LZjOSB/bCdE7HdEAuLIShaQsovftl7KFVx01BePNLSP7wrd6L93iyBVsAsO74rPrMbacuWUNvtsBMRERERESUa3W6Gferr76qy8vlNS1QmrWlDxJxiHgcxkaNYWjaAgD0YlDR11+FiEVhaNoCksUG1+i7svbwdd40Fvb+QxF+bQOQqKhxDLIkwbrrK4gP3gG+/Azig22w7voKlmhQD7uV1w3Om54OxkRERERERA1ErYtWUd2SrNbsLX0KLZDMZiT27Ibr1nuRKj2E5L4fEN6yHloogOSBPXDcOBzCZIZWUZI1NKcCfoQ2rIJjUDGk8miNY7BEg8D+PQi/sjJjWbXRrmYP42X+qplcIiIiIiKieo7llnNEstjSS47NZhi8jWEfXAx13BRomgb11nsRff1VpEoPInlgD0LrlkMLBaAWT0T09VcRWDQLCAVgcLkhmc2Z1zWbYWzUND0ru3Yp5AJzDSMAjJFQ1mXVspbKel04XXX/QRAREREREZ0mnOHNEVFQCLlRUyhDRsNosSGw9MmqWdZh4wCTCQanC8ZmrSBpAkKWkIyEkSpJF7LSynyQ3Y3gGDwSwTVLqp47eCSEpqVfIx6HFgkDNdWsioSzzuRq0TAc46ey+jIRERERETVodRp4BcNQ7QVKEf1/H8BxdV+UPHhb5izrygXwTJ4BmAogtJS+PDm8+UUAR2ZbJQNEeRRC06COvguSxYbEwX0Ib34RarNW+nmSo+ZZWcmqZF1WLVltiLbpxOrLRERERETUoNXpkubf/e53dXm5vCbi5dC+34lUyYGss6wimUTwr6shygLwTJ6B8NaNSJUcTFdiHjkRyWAZRDiE0Lpl8M97BP6np0EWGmAyQVbd+n7cRCJewwiApGLXl1UD0GeIE4pDr74cadYGEZuTYZeIiIiIiBqcWs/wbt68GT/72c/Qpk0bfP3113jqqadgMBgwfvx4dOzYEQAD74mQnC44ho6BiEbgGFwMaAKRNzfroTZ5aD8S//k35Bv/iMCSOXDedCsgAbJiR9nqJSjscjHKNq6G0n+I3oM3vHUj1OHjocUiUPoPQfjvL8M2eUaNY4haHbA2bw1lwDB92TSat0bM6uDSZSIiIiIiavBqHXi3bNmCX/3qVwCANWvWoG/fvrBYLHj++efx2GOPnbYB5ivJaELKV4LAoplV+2QHFSO8dSMcg4oRXLsUjlGTAAgofW9A8ofvEPv3eyjsfgWU3/QHCsxQelsyevA6BhUjGfDB1KwlwhtW6/tuZaBar11NCGhCIHpOZ1iKmgBlfkhcukxERERERHmk1oE3Go3CarUiFovh+++/xwMPPABZlrFixYrTOb78FYvqYReAXlXZdfs0yHYHrDeNg1xRgZIHboWIx2Fo2gKOG4Yj8OwsiHgc7skzqvXgDa5dCu+DTwOFVthnLk0XmQJg3fFZ9QJUnbrooTdic1a1G2LYJSIiIiKiPFHrPbwejwc7duzAe++9h3PPPReyLCMajUKW2dnoZKRCZdl73YoU/PNnoFB1I7Bghn6OtUdvPewCQHLv7qzPTwZ8EMmEvu/WEg7oYbfynOC86ekZXwBGWYbLfxDOnZ/D5T8EI3+eRERERESUJ2o9wzt06FA8+eSTMBqNuPPOOwEAH3/8Mdq3b3/aBpfPDC5P1grJstMNJBJI+Q5nPgYpM+AmEtkrLEsykEpCliRYwgEYDu6Dvf9QfX8wcCRYl/lhtLtg3fEp4j/ugqQJ4IfvYG3ZBtFOXZE80tqIiIiIiIiooap14L3ooovw7LPPZhy77LLLcNlll9X5oM4GQpahjpqEwOLZ+lJjddQkxPfuhvXX10J2uLIG2srvI29urt6Dd1Axkgf3w2Qyweo7ZhnzoGKEt6zXi2LB6YI9cAiJQ/sRfmVlRh9fe+Om8Dtqat5LVPcq/0Bz7D5zOrtU3gfJw3ugWO28D4iIiOiUnVAf3v379+Of//wnfD4f3G43Lr/8cjRt2vR0jS2/lccQXP+CXmVZQCC4/gU4h40DFDsSwUBGoI1sey0jIGuhQHqv7sARQDwOAYHw1o2wXvVbSOZCBJ+4r9r+XqX/kIxiVgX7vtevr5+3Zgk8bWcDDLx0hsiSdNx95nR24H1AREREp0OtA++7776LZ599FhdddBGKiorwww8/YMOGDRg1ahR++ctfns4x5iURjSC1fw9C65ZnHo/HYGjUFFIkhMDml9KB2FQAY7OWSAaD8E6bi1SwDAaXBynfYfifm5sxO4tCK2A0Zd3fa2zbSS9mpQkBURHP3gO4oubevUR1raZ95vaZS9MF1eiswPuAiIiITodaB961a9finnvuwXnnnacf+/LLL/HMM88w8J4E2enOumTZ4G2EioMHYG7SFFoogOibW6D0uR7+uVWzHuqYu5Gy22Fo1AzuKY9DC/ggmS1IlByALMuQjMas1041bpb+xfHIbEnK2wSGpi1g7dFb7+Ub2fYaUt4mxx87l59SXQr4shdwK/NXVQ+n/Mf7gIiIiE6DWpfkjcVi6NixY8axDh06oLy8vM4HdVawWKGOnZzeT4t0IFXHToFmMADxKFKxCByDR8L662urtR8KLJoFOZlEyT2joMWiSAX8SO7+FohFIVtt0OLlcIyfmnFtx/ipiB1pU1QpalfhGPhHhDesRnDdMoQ2rIJj4B8RtWeedzRZkmD9/iuID94BvvwM4oNtUL77AraDP0KJlEGWpNPycVH+klS3fq/qx47sM6ezB+8DIiIiOh1qHXj79u2LNWvWoKKiAgBQUVGBtWvXom/fvqdtcHmtPIrIv96B574n4J70MDz3z0bkX28j8Z+PYVQ9kGQj4PKioE2HrLMe2pG2RuFXX0RBu44wNG4KU6t2CG9ZD9lUgGinLrDPXArHQ/PSy5iz7IMrDPkRWJjZCziwcCYKQ37IkgRbpAy2vbsygqw1GgL27Eb4lZXpkPzKCmj7foTY+RWCk4th3fEZQy+dkKii1uoPNJTfeB8QERHR6VDrJc1bt25FIBDA3/72NyiKgnA4DABQVRVbt27Vz1u4cGHdjzIPaYk4bJf8AqWP3nVUleY7kUqkIMkyKn78DjIkSB5v9qXPriI4xkyGwWSsfo2KGDQh0suXK5cCZltyXMMSQqnMD+veH7IWjzEFAyjNUujKNeFB7rmjk6IJof+BBmV+wOniMvmz0NH3gSkaRsKq8D4gIiKiU1brwHvbbbedznGcdWSDCb7FczJnVxfPgee+2YDJBOm7rxHcsArKmMlQx9yNwKJZGXt4y15ZCeXqvvA/Pa3aNbwP/blW+2wrlxBWC9M2G8oWzdIrSANAeNVC2CbPgBYNZy90FY/qX3PPHZ2oWv2BhvJe5X3gbd0OgZIS3gdERER0ymodeP/zn/9kPW4ymeB2u9GtWzeoqlpX48p7qRpmV7VIGEKWYOxwLmS7ClOBCZK3CbzTn0HKVwLZpiC4aS0q/v0exBX/lfUaqTI/rKWHf7K9R+USwmPPSyVTUPrcgODKBVXHh40DIiFI7qLsBbH8Pv1r7rkjIiIiIqL6oNZ7ePfv34+NGzfi888/x4EDB/D5559j48aN2LVrF15//XXcdttt+OSTT07jUPOLwalmLdBiUN1Ifr8TyR+/h9L3BiQOH4Jv6p9Q8eWnSO7djZKpt6Hi3++lz7fYsl/D6cra3sMSDmScqwmBWOeucD26AK57ZsL16ELEOneFyWjUw67+/JULYDKbEXIVQR03JXOf3ZAxiPztZe65IyIiIiKieqXWM7yapuH222/Hz3/+c/3Y9u3b8e677+LRRx/F22+/jdWrV6Nbt26nY5z5x2yBOvouBJ59omqp8ui7ALMZkiaA8hiCG1bBPnAEZLsKLV4OU6u2cAweicjrm5AqOYjQKyuhjpqEwOLZR+3hnYRUKlGr9h6yJMHy1afwHzPDKwoKsi9b9vuQchYh8rNL4Hp0AURpCSRPEVIFhbC1bse9l0REREREVK/UOvB++umnuP322zOOXXzxxXjmmWcAAD169MDy5cvrdHB5raAAcDjhvutRiEQFDA4VMBcChTYIWQI0LR06ZSOUPtfrrYkksxmOwSMR3vwSkj98Czic6eXOpYdgcHmQFCloVmfWZcfHLjW2hANZZ4I9D8zJ+nyp0AIASGkaypxFgLPoqIsp6f9n2CUiIiIionqi1kuamzRpklGNGUhXbm7cuDEAIBgMwnzM8lo6jlAQ4ZdXQSvzwf/0Qzh83ziU3DcWya//A2PHc1H+8b8gmc0wNmpcrQ9vcM0SuG6dAvvAEdCiUZR/8gGSu79D/LOPgGAZYvZatveoYR8xjCY4Bo/MfP7gkYDVdto/FiIiIiIiorpS6xne0aNHY86cOdi4cSPcbjd8Ph9kWcadd94JANi3bx8GDhx42gaab1JlPtivvRH+uZkzrIGFM+F54EnYB4+ApAFauCxrKE388B1gsQL+EoRfWZkx+6s0boFgLdq81FSlWUgyYLZAGTAMkibSM85mCxLlMcBx+j8bIiIiIiKiulDrwNu2bVvMnTsX33zzDfx+P1RVRceOHWE0pi9x3nnn4bzzzjttA803BtWD5P4fs1dqLvMjdfgAgmuWwN5/aPbWQa3aQYZA6eNTqs3+etqfC01Rf7LNS01VmpMWK8Kb1sDaozeA9PLq8KY1sE2ecdo+DyIiIiIiorpW68ALAEajEeeee+7pGsvZxWSCsXHT7GHW5UFyz27IdhWRNzfDMai42h5eg1VByncoe3GpaKRWQ9CEQDTLTDAAKEPHVm9rpKjco0tERERERA3GCQVeqjtaqAzJRALqmMkILJpZVWV5zGQEnvszkj98C8egYoS3rEd4y3oo/YfA2KQ5kgf2Irz5JTgbN4fB2zhrYJZVd+3HIUTWmeBsQZjVl4mIiIiIqCFh4M0RudCK4IzbYGzVDq4JUyHi5ZAKrZDdRUh88wUAILh2KZT+QxBatxzhDav1ryWzGQa3N11casgYBFcvqpqJHTIGQpKgRMrqJqQKAakO3i8REREREdGZxsCbI1oklC4+9c0X8M26Tz/uHH6b/rWIxyFBymhFVNlrF2YLtMP7Ed60Fkr/IZAgQUAgvGktbJEwQhtWwTFhKqIdu5xw6JUlCdaDP8CU0qCFg5ANMqyRIKKNW3GWl4iIiIiIGgwG3hyRLFaYzu0K+7U3QpTHIFlsCG1aC+2o/beS2Qxj245w3fkwZIsFjmFjIZlMCP11NRw3qpAsVmihAELrlmc8R0CkC1jNnQ7HzGUI206stLI1HoMci0JLJCEq4tAiYchGI6zxGMIFhXX2GRAREREREZ1ODLw5ItlVKL2v09sSSWYz1LGToWkaHANHALIMyeVBYv8eyBKARs0gGQyAJANGEySrAtgUqKMmIbB4dsY1YCqAe/IMhF5ZCbn0EHCCgbcgHkMyHkdiz/eQNAHIMgwtWqMgHgMYeImIiIiIqIFg4M2VWASBRbOq9eBVBgxDaN2ydHgddw9kuwNGpwrfnx9Dav+eI4Wt7oZkU6CVxxB+YzNcE6YCAAxOFwKrnkXiy0/1pc+SUz3xsaWS0ELBjENaKAg0Sp7qu6Z6SpYkWMIBJA/vgWK1s0gZEREREeUFBt4cSQV8WVsKSQaj/nVgwQwo/YcgsGE11OKJSEUiQCyC4IvPwT3+fohEBayXX5UxS+wYMgbhwweQKjmIwOLZ8Dw8/4THJhIJoCKO8CsrM4thJRJ18t6pfpElCdYdn1VvQ9XpxPd/ExERERHVJ3KuB3C2MjhVSGZzxjHJbIaxWUv9+8qiVSIeR2DpkxCxdDEqpXc/pGJRGAqteoXmyvODqxfBds3v9e9T/tITH5wQWa/LHrz5yRIO6GEXOPLznjcdlnAgtwMjIiIiIjpFZ2SGd8GCBfj444/hdDoxZ84cAEA4HMZTTz2Fw4cPo6ioCHfccQcURQEA/PWvf8Vbb70FWZYxfPhwdOvWDQDw3XffYf78+aioqMCFF16I4cOHQ5IaZtOcVCQExy3joQX9+j5ZyaEieeigfk5lASogM/wG1y6Fd/oz0Mr8WWeJDS63/nzjCfTk1a8RDWe9roiGT/ha1ADUsNoAZf6q/sxERERERA3QGZnhveqqq3DvvfdmHNuwYQMuuOACzJs3DxdccAE2bNgAANizZw/ef/99PPnkk7jvvvuwbNkyaJoGAFiyZAlGjx6NefPm4cCBA/jkk0/OxPBPC4PTDWgphF9ZieC6ZQi9sgLQUhBHfiKS2QzHoGJE39yif390+E35SyEVFmadJZbM1iN7eO9EsqL8hMcmWa3Zr2uxnsQ7pfpOUt1Zf95wunI0IiIiIiKiunFGAu95552nz95W2r59O3r27AkA6NmzJ7Zv364fv+KKK2AymdCoUSM0adIEO3fuhN/vRywWQ8eOHSFJEnr06KE/p0ESAsEV8zOXka6Yj8Jzu8J9z0x47pmF8NaNSJUczBp+DU4VMBjhGDxSDyuV/Xpl1QXXhKkIv7Hl5EKqsSDrdWEqqJO3TvVLVFHhGD818+c9fipiiprbgRERERERnaKcFa0qKyuDy5WeQXK5XAgG01WBfT4fOnTooJ/ndrvh8/lgMBjg8Xj04x6PBz6fr8brv/HGG3jjjTcAAI8//ji8Xu/peBsnLfn9jqzLSLWAD6l9PyD04btwjZqIxL49MHobI/D8n/Xwq465GwISKvb/CMlsgTJgGCRNQMgSYLagYtc3CK2YD3XsFBjadITXYDihsaVK9gNWJfO6VgXQtHr3OVLdEJf1RFHblRABHyTVDTRqhkKZW/wpN4xGI/9bQznH+5DqC96LVB805Puw3lVpFjUURqrpeE169eqFXr166d+XlJSc0rjqmqvQkl6mfFTolcxmSIUWBNcuhdJ/CEofvweuCVMRWPIkrL++FgXndEw/vmktEv/5N9SRdyK8bSsKu1wMQAI0DeFNa+AaOxmeh+cj5GmCpN9/4mMzGoEjy8h1mgYYjfXuc6Q6ZCyEt3OX9M/4OH9MIjrdvF4v/1tDOcf7kOoL3otUHzSE+7BZs2ZZj+dsCsfpdMJ/JIz5/X44HA4A6Znb0tKqysI+nw9ut7va8dLSUrjdJ16Qqb6QbPZ0n9yjlpGqoyZBsikQ8TiMTZpDtqsQ8XJooQCM3sYIvvQ8Sh+dBMv53SDbVQSWzIFz0AiEN6xGcN0yhDeshvKb/vDPewSlD9yKwq8+hXwSRb0SFitkxZ5xTFbsqOAeXiI6jWRJgi1ShuSXn0CJlJ3Uf7+IiIiIjpazwNu9e3e88847AIB33nkHl1xyiX78/fffRyKRwKFDh7B//360b98eLpcLFosFX3/9NYQQ2LZtG7p3756r4Z8yEYsguP4FKP2HwHHLeLgmTEWqzA9UxGFo2gLJQ/uh9L0BhsbNoPQfguD6F1B40WV6lWbr1X0g4nEkANhnLoXrgSehDBiG8OaXkCo5eEqtZaKFCjTFDlOrdjA0aQZTq3bQFDtihcpPP5mI6CRU9oMOTS5G6b3jEJxcDOuOzxh6iYiI6JSckSXNTz/9NL744guEQiGMGTMGN954I/r374+nnnoKb731FrxeLyZOnAgAaNmyJS6//HJMnDgRsixjxIgRkI/sJSwuLsaCBQtQUVGBbt264cILLzwTwz8tRDSC1P49iL65BUqf6+Gfm+6Dmt6jOxlaeQzhTWvgbNEGEiTYevwGsNjSzz3SokgymyGcLkRsTtgCPoTWLM18jZNsLaMJgWiLdumwXOYHnC7EFBUa+/AS0WlSUz9o+8yliLA9FhEREZ2kMxJ4b7/99qzHp06dmvX4gAEDMGDAgGrH27Vrp/fxbehkpwuS2Qzr1X0QXLs045e8wKKZsA8aCfWW26BFQgCAyLbX4Pj9TTB4G0MLBSBkCa4/3Yeo3QVomt5a5tg9wXC6IEtSOrweKUgUrUV41YRI/5JZ+Ysmwy4RnU7sB01ERESnQb0rWnW2SMWjUEffhdThA1l/yTO4PfA9OVWf9XUMKkbw5RWwXjcQ5lZtkQqVIVV6CJYdn8Lcqh1Q5of7vtkILJyJ1P49Va1l7C5Yv/pUnzmpPB7t1IUztkRUbxzvj3ZEREREJ4uBN0cMBRb4XnoezpvGZf0lL3lgb+bSvrVLYR84Aga7itIZk6vC65AxMKluVHzxKRKyDMfw25Cy2QGbHVFFhSXk5zJBIqr3KvtBV/vjnKJyhQkRERGdNDbazBEtVIbU/j0oWzYXjkHFmdWaiyci+vqrGeeLeBwGlweBRTMzw+vqRUAygeC6ZQi9sgLavh8h2VVEbM70DO7xlgkSEdUTmhCIduoC+8yl8Dy2EPaZS7kShYiIiE4ZZ3hzRDrShzdVchDhLeuh9B8CSZZRcG5XVHz3DbRQIPN8sxkGtzdreBXxOBwDRwAAwq9tgKvDeYAlXVGZywSJqKGorB3gbd0OgZISzuwSERHRKWPgzRVzIRyDRyK4Zkk69G5YDcfgkUBBeqZXLZ6IwNInqyo3F09EYv/erOFVaBqC65bpe31FokJ/PGZ3Qb13JgySAVowANmpIqWlEDlS7IqIiIiIiChfMfDmiAQAhVYoA4ZB0gSELAGFVkBLIfj8PBiatoB74nQkftwFkahAcN1yAIA6ZrK+rFkym+G46VYk9u8BULXX1/vQPP11rOVRwFeK0kWzjmp7dDes3mYIFRTm4J0TERERERGdGQy8OZIqPYzom5th/90QiPIYJIsVoVdWwf77m+C6YxoMbg/8C9IVlw3exrBe3QeSLMPYojU8982GFgkj5S9BQYfzEP/PR/qS5sibm6FFI4An/TqmUAAlR8IuUNn2aBa8D/0Z8DTJ1dsnIiIiIiI67Rh4c8RQ1AjWX/wK/rlHVSQdPBKyQ0Xiux2QXC4ofW9EePOLUHr303v1Sq+shGNQMcJbN8IxZBSS+39EaN2yjBlf2aHqr5Pyl2bd95sKlDLwEhERERFRXmOV5lxJphBcsySz4vKaJYAkEFy5ACiPA7IBrnFT9LCrn7d2Kaw9eiO59wcE5s/IfGzF/Iy9uQaXW68AXUkym2Fg0SoiIiIiIspzDLw5kvKXZJ151crKoPQfAqSSQDwGLV6e9TwJUnrvb9ZrVLUc0qx2qKMmZbY9GjUp3auXiIiIiIgoj3FJc44YVE/WistyoQXhDav1JcquW++FoWkLpI4Upqo8T0BAkg1ZryEVVhWjCtkcsLnccN0+DaI8CqnQCmEuQNjmZJVmIiIiIiLKa5zhzZWCAqij78qYeXXdeg/8zz6RsUTZP/8xqMPHZ5znGFSM6LatMLRsA+cfb898bPBISGaL/jIpTUOkdSegqBFgVYCiRoi07oQUwy4dRZYk2CJlSH75CZRIGWRJyvWQiIiIiIhOGWd4c0SLRQC7I3PmtcCUMZMLpEMvJMB1+zSkyvwoaNUWqVgY7tsfRDwehUHTMlobyd7GSB0VeIF06C1zFgHOoiMvzrBLVWRJgnXHZwjOO6qA2vipiHbqAk2IXA+PiIiIiOikMfDmiFxQiOSPu6GV+SBpApBlGFqeg4LLesLcuh2kdKdeRLa9BpFMwTfzHv25ktkMz9SnIB0+BLjcMLVqd9RyZRPCCpcrU+1ZwgE97AJHip/Nmw77zKWI2Jw5Hh0RERER0clj4M0RkUwC5VGEX1kJ2a7C+utrgUQFHH2u1/vvSmYz1DF3I3FUESogHUhEJAw4VURbd4LNfxAoLQE8XkRcjblcmU5MwJe1+BnK/AADLxERERE1YAy8uZJKIvzaBiiDR8FoUxBY+mTVctJBxQhvWY9UyUEEFs2CfdDIjKdKZjNkh4qotyk0LlemUySp7qzFz8DWVURERETUwLFoVY6IZAJK735APKaHXeCoPrtX99G/NzZpltlWaPRdQEEB91dSnYgqKhzjp2YWPxs/FTFFze3AiIiIiIhOEWd4c0S22BBcuxT2/kNr7LMLpMOHweXNLG5lkFFRUJjtskQnTBMC0U5dYJ+5FKZoGAmrgqii8g8qRERERNTgcYY3R1Jlfj3oVs6sVdL77JrNUIsnIhUNQbYpwJFWMZrZjGih7YyPmfKXJgQiNieM53ZFxOZk2CUiIiKivMDAmyMGpwuS2YzIm5vhGFRcrR+vqeP5cE14ECmhwWC2oPTRSYAkIdm8FaLN2+mBpLJ/qm3vLvZPJSIiIiIiOgqXNOdIKhqGWjwRgaVPIrxlPZQBw2Bs0gKyzY7Asqf0Ks2uW+9BPOA/srd3GdQ7pwO+7yCpbsTsLli++pT9U4mIiIiIiLJg4M0Rg8WGuBDpvbmxCCSLFYmyAMILZmQUsPLPnwHHsHEweBtD6d0PvvvG6uFWve1+BFc/y/6pREREREREWTDw5kqhBQazGf6np1UF2FGTINtVpOIH9dNEPA6DpwjWvjciuGZxRrgN/PkR2G+5DUanC6I8BsliQ+iVlWe0f6osSbCEA0DAB0l1s9gRERERERHVG9zDmyMiFkZgweOZAXbxbNj63JBxnmQ2Q7YpKOx4PkwXdM94TLarMDhdSPy4C6mD+5H84TsovxsCeIrOyHuQJQnWHZ8hNLkYwWkTEJxcDOuOz7iPmIiIiIiI6gUG3hwR4XDWdkSm5q1gaNoCwJGeu2Mno2LfXsT/8xFsv7oGpg7n6edbrxsI7dB+hF9ZieC6ZQi9sgLaof0wJRJn5D1YwgF9/3Dl+IPzpqdnfImIiIiIiHKMgTdHpMLCrO2IKnZ9DcegEfBMexpK/yEIrlsO4T+sh1n7oBH6ueY27RFcsyQzcK5ZAikSOjNvIuDLGtpR5j8zr09ERERERHQcDLw5IlkVOIaMyWhH5BgyBtHXX0VgweOQzYUIrVuertYMSQ+zckEBHA/Ng33m/2/vzgOcKu/98b/PSWayneyZGXYXENS2aFvwFm/dCtLvLd46nWsFOsWqLAVRUKSibUVEUbAggoqII1opRdSyuNy2VqzaW9uf9FrlqhVlUUFghkz2ZJJJcp7fH5k5Q5gM6zAnk3m//pFsJ8+JD+F88vk8n6cOIpUqGHCKRLxrzsHlKRi0w+nukvcnIiIiIiI6Ejat0okQArLHB6VmAiRVQMgSUFaeeyyVQrYlSyqZTBAQ2v1qKoX4aYMBAJ5UMvf4IUGvZDJB7qKAM6G44Jgxt/22SIoLYOMqIiIiIiLSGQNevTQlEHr43nbBqlJdi9imtTA4c9lT1+RbEXn2Se1x1ddLe76aTMBROxWRtSvbAs7aqVCTiS45BVUIJIYMhX1RXa6M2elml2YiIiIiIioaDHh1IlLJguXIkizDNXUOhMEA77xlCD/zGLL++pZ9d+9ETHFq2VPJZkfs97+DUl2bK3uGQOz3v4P71ru77DxUIXJ7/rZug8Rgl4iIiIiIigQDXp3ILm/BcuTyc89H+JkVyHyxE+7pd8Bx9bUQzSmk6/cBxvwl11F3JRzjJyH06P1te/lOvwNRdxWgql19SkREREREREWFTat0IlQVrp/+LK9plWvKbISfWYH0px9BpFIIPno/mj/+PwQfvAtGiw2xzevztvxRhYBqtUGpmQDH2IlQaiZAtdpYUkxERERERARmePWTakL8nb/A+4tfQY2GIdtdiPz3CzB/41tIf/oRgJYS55YOzaG6B+GZNR/peFQrH7bEQoj86pftssT2RXW5MmMAsiTlguRQAJLLwzW2RERERETUYzDg1YkwyLAN/3c0LvhZWznylFuRTWe15xzeoTn92aco++aFbQc50j64NidkSYJ1+7b2XZSHDO20oJcBNRERERERFSsGvDqRDWUIrFqiBawilUJo1RL47l4Ox9iJgCxDcrgQ+90zAHLBr3HgOZBSSciSBFUIbR/cwzO8rfvgWmIhJF5+Du6ZcyGSTZAsNkRffBaWvgO0DPBJnUMXBNREREREREQnimt4dZINNhbMzmbq9yG+5WVENzwDpJsB5IJYx/jJEKkkmr/8AtbdH0OWJG0f3EPXATtmzEWT4srdTjZBufw/EVw2H8Hl9yL40Dwol/8npGRTp5yDJRbSgt3W8UeWz89bZ0xERERERKQXZnh1YnAX7tKcOfAlrCPHILp+NSJrV8I98y6kP9+B2MvPQ42G4P3FYqT37YGlqg/iFvsR98Etl2UEnn9a27YIACLPPw3PLfM65ySOUlJNRERERESkJwa8OlHVLFxTb0No5QN5a3hjf9gEyzdGAGjJ+H6+E4ktr8A6ckwuaM3m1viWNSUAi/2I++Cq8SiU0Vci8mxdW8nxuElQ41HAXXnS53C0kmoiIiIiIiI9MeDViQwg8uqLufW1qSQkkwXRl9bDPOxCiJY9dCWTCTCZoIy5Kj9oHT8Z0jHssyubLdrrgJaS42fr4Ju3rFPOobWkut0aXsWVF3gTERERERHpgQGvTtTmFKwXfBvBZfPzsq9yr76IPLksl/Gdehsy6WZEn3woP2hd9wS8dz549PdIxAuWHKuJeOecgxBHLKkmIiIiIiLSE5tW6UQ2WwtmXw0OF2wjr4BSXYvIc0/B1GdAwaBVNCWO+h5Zb5XW0KqVZDIh663qtPNoLamO9zkdcZuTwS4RERERERUNBrw6USOhgoFs1l+PyPonEV2/Gtn9e5EN+AsGrZLbc9T3iCtOOGfmd3F2zpyLuMKGUkREREREVPpY0qwTyWIp2PBJKjPl3c766+GaNAuhugfbmlvdcDui7irgKOt4VSEQH5xfchxnyTEREREREfUQDHh1IpkscIyfjMi6J/KaUaX9B1oeN8FROxWx3/8O1u/+AErNBJT1Ox2Gil5otjlg2rMTZpcHTXY3zNEgEApAcnnaraE9UhdnIiIiIiKiUsaAVy8GI+TK3lBqJkBSBYQsQa7sDYPFCs/t9wMCyCab4PzJdKC8HEg1I7phDTJf7IRj/GTEW/bldd1wOzLhIKR4HEKWYT1zMBJnnM0sLhERERER9XgMeHWSDfkBmwLTOUOhRsOQHW6kI2FEFt5+yL68swGDDEACyoxQ/qMGksWG6IvPwjpyDKLrVyP+tzfgrP4RsgE/DG4vmhMxWBIRxC12vU+RiIiIiIhIVwx4dWJwepD5fCcaH/9VW0lz7VTIdheyqXqIVAqhVYthHzsR0fVPwjF+MmKtWd0ps5FNZ1A+7N9h+9Yl8N81oy1InjYHsq+33qdHRERERESkO3Zp1ktWRagl2AVatiVauxLOybPgGDsRjrETIdtdMLg92t671pFjtEC4vG9/OKp/hNBji/KOEXpsEeTk0bcsIiIiIiIiKnXM8OpEDfoLbkuU+exTRNY/qTWxkuwu7TEJkvZnNRKCVG4qeAw1GgY8nbfXLhERERERUXfEDK9OJJtScH9d0bLVUGtWt3XrIclkgoDQ/mxweSDbnQWPIStcv0tERERERMSAVy8WKxy1U7WAtXUNb2LLK9pTRCqFzBe7tGxvYssrWjMrUWZCNhGFY9yk/GOMm4RsIqbLKRERERERERUTljTrRDKWQ/ZV5m1LhPL22VpjnwGwj50IVZbhmnIrRDYLUWZExFsFh1ARfnUzlOpaSJAgIBB7dTPcM+fqdFZERERERETFgwGvXhJRhJbNz1uDK5lMUGomILquTsvWhlcvQ9ZfDwDw3L4QBo8PUV9vZFUVwmSB44fXas2vJJMJrp/+DMJs1eusiIiIiIiIigYDXp1kw8GCDafKBpwJx/hJMA4YiPCTD2nBrmQyIb37EwSXroVr2hyoX7sAaiQAFTLcN8+DSCYgma0QEiAC9VAgkFBcUIXQ4/SIiIiIiIh0xzW8OjF4Kgo3nLLZEf/TSwAANRrS7ndNuRXJd/8O2e5Cpn4flN0fw2iyIPGnzUh/9imyjQchmUzI7v8Sme0fQfx/b8G6+2PIktTVp0ZERERERFQUmOHVS1k5XDPnIrNnNyRVALIMQ+9+CK+rg3LFDyG7vVBqJqD8jCEQmTSiL62H5TvfgwQJaiSIzKf/QkaWoYz5L0TWroL1uz9AJhyCsVdfiKY4JKsN2VgUlkQEcQu7NhMRERERUc/DgFcnIp2CGg4itmGNtv7Wcc10WC8ejdiL6+Ae8lXIJjNkjxfNH7wL68WjUXbGIKT3f4kyl6ctqG1qgnPiTMg2B7KNDUh/sbMtgO47AHJzCmDAS0REREREPRADXr2kM4g8/bC2jlekUog88yjs4ybDevFoiFgUQlWRPXgg93xJglRugixUBB+al9ekSrbZIRkMUP31+QH0+MkwVvbW8SSJiIiIiIj0wzW8OhGJWMGmVcZefSDZFEgmM6Lrn0Rg0c8RWfcEkEwA2azWkbn1+aHHfwVJkiBSTYiseyI/gF73BEQq2eXnRkREREREVAwY8OpEsloLNq1Kf7ELBqcbqQN72wevyWTBIFmNhCGamgo+xoCXiIiIiIh6Kt1LmqdPnw6z2QxZlmEwGLBw4ULEYjEsXboUBw8eREVFBW655RYoigIA2LhxI15//XXIsozrrrsO559/vr4ncIIkixWO2qmIrF3ZVoI8bhJir7wANRqCfezEvOeLVAoimYChdz9YLx4NCbnuy03b/gHZ4YRIpyGZTO329ZUVR5eeFxERERERUbHQPeAFgLvuugsOR1tgtmnTJnzta19DdXU1Nm3ahE2bNuHHP/4x9u7di7fffhsPPvgggsEg7rnnHixbtgyy3P0S1WoiDtnjg/vmech8tgMCArFXXtD23QUA+9jrtcA2/tYfIdmdcFx1DUKrlrSt4Z16GwLL7gHSaTjGT9bKmiWTCY7aqcg0pzoaAhERERERUUkrykhx69atuOSSSwAAl1xyCbZu3ardf+GFF6KsrAyVlZXo1asXduzYoedQT5hsMCKy9nEAAtFNv0F0/Wot2JVMJpQPOhtoDeRlGY4J0yDJshbsAi1reFc+AOvFo5H11yP28vNQaibAM+c+KNW1iP3+d1Adbp3OkIiIiIiISF9FkeFdsGABAODyyy/HqFGjEA6H4XbnAjW3241IJAIACAQCOOuss7TXeTweBAKBgsd87bXX8NprrwEAFi5cCJ/PdypP4bhlvtwF5T/+C+FnVsAxbhIiz9YdkrWdg/S+ve06Lqtl5QXX6bZmgbP+ekTX1cE9807ENq2F+5a7Yex/OszdMANO+jAajUX3d4V6Hs5DKgach1QsOBepGHTneah7wHvPPffA4/EgHA7j3nvvRZ8+fTp8rhDimI87atQojBo1Srvt9/tPapydzWO1a+t3Y6+8AKW6FpIsw3TeBVAzaWQ/fA+y3YVsql5rWuWbt7zgOl0BkXfbWNUX9kV1iCouqAV+EDDIMpRgPUSjH7K3AmmzBfA3QHJ5kFBcUI/jc6bS4vP5iu7vCvU8nIdUDDgPqVhwLlIx6A7zsKM4UveA1+PxAACcTieGDx+OHTt2wOl0IhgMwu12IxgMaut7vV4vGhsbtdcGAgHt9d2NGglCtrtgrR7Ttk73Ty8BAKRyE+Jv/B7KmKu0db0ilYKaaoJr6m0IrXwgbw1v5Lmncq8zmeCaMhswmRG3OYECgatBlmH7YCuCKxbm7eUb+/0GZL7YCceMuUgMGcqgl4iIiIiIuj1da12TySSampq0P2/btg0DBgzAsGHD8OabbwIA3nzzTQwfPhwAMGzYMLz99ttIp9NoaGjA/v37MWjQIN3GfzIkqwLlih8itmktIuufRHTTb6Bc8UMIkwWRZ+tgvXh07r8jx+SebzIB2SySB/bBd/fD8My5D775jwC9+sB5zXS4Z94J983zALsDaZO5w/dVgg0ItQS7QNtevvYfXpvLJC+fD0ssBFmSYIuHYftyN5R4GLIkdcXHQkRERERE1Gl0zfCGw2EsXrwYAJDNZvHtb38b559/PgYOHIilS5fi9ddfh8/nw6xZswAA/fv3x4gRIzBr1izIsoyJEyd2yw7NACAZjVpHZaBtr1372Im5zGvLel2prFzruCyMZSj3ViD5/juQVIHMF7thOO0MoNwEJBMAADUeh7zvc8hnnls4SxvwF1wHjGym7c/xKKxffoHI8vlta4iZ+SUiIiIiom5G14C3qqoKv/rVr9rdb7fbMXfu3IKvqampQU1Nzake2imXDTUWDjxbAkxj/zMgmUwwnTMUomYCYFMgmy3IJmLtmlkZThuI7IF9EBBIbHklt4/vorpcWfNhZJtSeL9es0X7s9FkQrAl2G0dV2T5/A6PSUREREREVIy6Z3q0BBjcvlyZ8iEkkwlCluAYNwkim4Fj3CRkE1EAgGwyAWqmYFZYBnJl0S1bG4lUCggHC75v2u6CY/xk7b21DtBChWP8ZDhm34tsPF44GO/gmERERERERMWIAa9eJAmOa6bnBZ6uybNgOvc8JN75HxgsVsRe3QyoQHRdHUIPL4CIxQoGomoymX9okwlwtu2/e+h6XKgqcMYgKDUT4Bg7EUrNBMBsRXjFA4hueAZINwNOT8Fg/NBjEhERERERFTvduzT3VNlIEMbe/aDUTICkCggIRJ5dDTUagnfO/Ujt2Q3HVT9BOpjrSi1SKUhmc8FyZIPLo92vrbdVXIAQkCUJ1u3b8tfjzpwLacRlMBysR2bHR4i98Gtk/fUAgMiy+bD/ajUcM+a2X8PbckwiIiIiIqLugAGvTgxWO1KffJDLuELStiYSqRREJgPToHMRfmo5LN8YAYOvCtbL/xMik4F7+s8RfPS+ti2FbrgdkcrcvrsIBwGnO28vXUsspAWurcePLMutx80aDIiuq8sbl0ilgGAjEkOGdnhMIiIiIiKi7oABr07UVBMMFhtCax9vy6KOm4TYq5shuzwIPPALqNEQxL+PhHLFD7W1u4be/eC9YxHU5mbA40XMXYWsqiJjcwKtDaUODUxDgfb7/W55GQgHIR2SGW7VWrqsCpFrUFXomERERERERN0A1/DqRDZZEKp7MD/z+mwd3JNnIRM4CLmiF1yTZsE06Oy8RlXZ/XvReP8cSB4fws4KZFX1iO8jeXwF9/uF24uE4oJjxtz8BlYz5qJJcZ3ScyciIiIiIuoKzPDqRI1HCzagysYiiKyrg/uGOUjv+Qxysqng80Q4CDh9kCUJllgICAUguTztS49VUbCzs+P8b0EVgqXLRERERERUshjw6kR2uGDo3Q+2y7+fazplsSFz8AAyoQCU0Vei+YvdiD7zKDy33lO4UZXNXrgh1Yy5SAwZqgWtooP9fkU4ANgcLF0mIiIiIqKSxZJmvcgyHFdfh+j6JxFcfi+CD82DBEA257YjKu9/OkQqhdBTy+GaNCu/7HjcJGTj0cINqZbPz2V8W7Su0z0UtxgiIiIiIqKegAGvTkSyCaGVD+QHq2tXQsRjsF48GtlwCEBuzW42HodSXQvH2Ilwz7wLsVc3w2BTgFCgYPYW4aB2m+t0iYiIiIiop2JJs05EIl4wWDW4XMg2JGH0VgDIBaiiKYbo+tWQTCYoNRPguPo6qIoTktkKQ+9+sF48uq0D81t/zMvecp0uERERERH1VAx4dSJZrAXX5kpmG8rPGYqMUHPZ2PGTEXv5eW3PXUNFFSIvrof1jCFosrvhGHs9Qo8tatuXd9ocxO3ulv19c7hOl4iIiIiIeiKWNOtEMlvgGD8514DKVwX7+Elw3XA7ZKcT6WAARpMF9rEToUKCo3YKlOpaSIod/p/fgOa/vwk1HIA5GtSCXSCXIQ49tgjmaPAo705ERERERFT6mOHVSTYSBEwWKLU/hdFi0/bkbc3qiooqxP/7d1CjISjVtYhtWgv3rfcAyGWCjcYyiMaGjtfwtmZziYiIiIiIeihmeHVisDmQeOtVmAeerQW7QNs+uVBVKN8fB9f0nyO57X/hvX0hsgcPwDF+MhzXzUR46Txkd3zMDsxEREREREQdYMCrE2GyQBn9fWQa9hfeJzfZhKaP3oOhqjeU749F6pMPISLh3BOMucR8/E8vamXRADswExERERERHYolzTqRUk2IPPcUnNfNKNy8SrHD9m8XQwWg1u9DbMOavJJn239NQOTxxWj64J/w3f0wssFGyN4KRL29oB7SsIqIiIiIiKinYoZXJ2pTHMroKxF+ajkctVPzs7S1U7V9eg0CiKx7ol3Jc3nvfig761zYRlwK/103IbDoDjTeOR3W/3sHBpn/W4mIiIiIiBgZ6UQ2mRF5tg7Z/XsRe/FZKNW1cIyfBN+8ZUj87Q1IsgGy3YVs0F+45DmVgr1mAkKrFrfr0qwE6/U4JSIiIiIioqLCkmadqLEoZLsL1uoxkCABAOJ/egkoK4fzhz+BZLFCueonMPiqCpY8y04XsuFQ4WA40Ag4K7r0fIiIiIiIiIoNM7w6kb0+KFf9BGgtP5ZlOH4yHcKqoHnXJ/D/8gYgmQDKTO1Knl0//RlSigOy21uwS7PB5enq0yEiIiIiIio6zPDqREACkol2zajKTxuI5mSTtlbXO+gcGM86F+5b74GIRyGZrchaLGgyKzAE/HCMm4TIs3Vtxxg3Cdlkk96nR0RERERE3ZwsSbDEQsgc3AvFakdCcUEVQu9hHRcGvHpJxAs2o3LfPA+SmtXuE4k4Mn1PQ5nBADWbheytQLylE7NkNCL26mYo1bWQIEFAIPbqZrhvOAdKPHzKJmTrxEcoAMnl6ZYTn4iIiIiIOiZLEqzbtyGyfH5bcm3GXCSGDO1W1/4MeHUimhId7L8bB1rul0wmyC4P5E8+QOPKB7SJ5po2B/GvXYCs4oTy3WotcG7NEqd2bkds3apTMiFLZeLrgT8UEBEREVF3YYmFtGt+oCVBt3w+7IvqELc5dR7dseMaXp1INqXg+ttsKAQBoa3VhbEMoZZgF8jvxCxkCbKvCkrNBDjGToRSMwGyrxLJv27RJqQlFurUcXc08Tv7fUpN6w8F0TmTEJk3E5E5k2Ddvg2yJOk9NCIiIiKi9kKBggk6hIM6DejEMODViWQyw3HN9Hb77xr79IVkU+C7axlUyMiGOtiWqNEPYziEyNrHAVXNHaOsHJmAH8p/1MAxdiJku6vzJ2SJTPyuxh8KiIiIiKg7kVyeggk6ON06jejEsKRZJ9lQI1BWDvu4yTC4XJDMNsh2BaosI3L/HXBedxMiv10F751LC25LJHl9EOEQsvv3Irp+NQy+KihjrkJ07eN55c3C7e3UcbdO/MPH090mfpc70g8F3agkhIiIiIh6hoTigmPG3PZLGRUX0I2W5THDqxOD4kTTu39D+aCzAUgABMJr6wD/QZSdcx4MvftDpFJQo+H22xJNm4OYuwqqt0q73zpyjNatGWhrgiWpnTsZWyd+XmZ6xlw0Ka5OfZ9SUyq/kBERERFRz6AKgcSQobAvqoP3vsdgX1TXLfv2MMOrE9VggHLhZWi899a8LYXC6+rgvuF2qKkkJJMJ6S92AiYLlOpalA04A7K3EpGKvsiqKhKKE46ZcxFZNj/XpblQ6XM4ANgcnTfuQyY+wkHA6T6m5ksGWc6tO270Q/ZWIOquRLalFLsnKJVfyEoZm4oRERER5VOFQNzmhO+0gQj5/d3yupUBr07kbBb+R+/Pz8g+WweluhbZxgZACDjGTULslRfgqJ2CyB83wja6Guh7uhYoqkIgMTgXfBoTcUibftMlpcatE18rxT2GYNf2f+8g+Nii9p2me0jQe6I/FFDXYPdxIiIiotLEkmadqJFQwYysJMuQTBZINjtir7wANRpCpmE/HFf9BGXnDkXK7oYzfBCOXf+CK+yHJEmI25yIVvYt2lJjJViPUEuwC+R3mu5JWn8oiPc5HXGbk4FUEWFTMSIiIqLSxAyvTmS7s2Dzp/IhX0W6OYXYqiVQoyE4JtyA2KbfQo2G4Jm3HNZ9OyELGWq6GVJTHLamnYj3GZgrcS7SDKJo7LjTNJwVOo2K6BBsKkZERERUkhjw6kQIAcfEW6AG/bnGUrIMQ98BUI1GyI0HYbtiLEQqAUOvPsj6WzKh6WYg0IjGw0qD7a5KhMy24y417iqyt6LDTtPEtaPFgN3HiYiIiEoTS5p1IkQGstGI2IY1iKx/EtENzwDNKYhUEqFViyGaYoiuq4OIxwHkLr5lkxmR9auhVNfCMXYi7NU/RmT9asiJmM5nc2RRdyVc0+YU7DTd07WuHY3OmYTIvJmIzJkE6/ZtkCVJ76H1KOw+TkRERFSamOHViWwoQ+j5p2EfOxEGlweSxYbMwQMw9Ts9l72FBMlkgsHugKF3PygTpkFtikEZfaW2/VBrZ2c1EQM8xRs8ZlUV8a9dAPeCFRCNfkheH2Luqh7TsOpIOlo7al9Ul8vWU5dgUzEiIiKi0sSAVyfZWATKmB8ismZFW/BaOxUZfz0MvftByBIc4yYh+MSDcN9yF8KeXnAd/LL9XrvP1sE3b5nOZ3N0WVVF2FnRtmaXwW4O144WjWJdEkBEREREJ44lzTox2F1asAu0BK9rVyJbvx/un84GTBbEXnkB2f17kW5qgioE1Fi0YHCkxqJ6nAJ1gta1o3n3ce0oEREREVGnYMCrEzUSLBi8GlwuiHQa0acfRtZfn2uk0xL8yC5vweBIdnm6bNylSJYk2OJh2L7cDSUe7tL1swnFBcfMw9aOzuTaUSIiIiKizsCSZp1IZmvhzsVmGySzRbvtmn4HYooLEAJCluGaNkfb07a1+ZOQDbB9uZsdfk9Aa9Oo1nW0rc2KEkOGdt3nWFYOpWYCJFVAyBJQVt4170tEREREVOIY8OrFWAbH+MmIrHuiLdAaPxmy3QHJbIHjx1MhshlIJjMkScqtJ0zEEPvjZrhnzoVIJSGZzIi+9BycV1+LyN236BOsdXN6N42yxEKILP5lux8+2LSKiIiIiOjkMeDViWQ0AmZrXmZP9lZAMlugNidh7HsaohvWILZhDdz3rUTY4YWaSiL9r/cR+Nf7ecfKhoMA2OH3hOjdNErv9yciIiIiKmFcw6uTbDjQrgusGosh9dF7aH7/Hwg+NA/K/6uGccBASAE/ZEmC6utVcA1vNuDXbmvBEh0TvZtG6f3+RERERESljAGvTgyKE7EX17Vtz6OqiL24DiIegwQJIpVCaNUSOH80GbLigPXAF0jYCzQ4qp2K+H//Tjsug6Xjk1BccMw47DOd0XVNo/R+fyIiIiKiUiYJ0TMWe+7bt0/vIeRxNe6HCDUi/fkuSKoAZBmSw4XYi+tgvXg0ku/+HfYf1OYCYqMRoqwM2V790WSywhILAeEgJKcHCPuhfvxB2zEGDkbi9LMB5NaHIhRgM6ujkCVJ+0zhdKOpiz8rvd//UD6fD36//+hPJDqFOA+pGPTkeaj9u8RriKLQk+ciFY/uMA/79OlT8H6u4dWJXFaOTCqF2IY1bU2rrpkO57U3Ivanl6D8v2oEl7V1DnZNmQ2Ttwrxcktufa7NCYMswxYLouyc86BGQpCdLmSl3D9U5o/f75LOw6Xwj6IqhPaZAmhXal7q709ERNSqKHYvICLqRCxp1ksmg9CKhfndgZ95FAa3D8p3vofQqiV5j4VWLQaa4nmHUJIxIJmEGo9BNKegxnO37fFIwc7DllioU09BliRYP9mG6JxJiMybicicSVD+9U849uyAK+yHQT769DLKMtzBejh3fAh3sAHGY3gNERERnRod7V7Q2dcQRERdhRlenaiRUMHuvGokBMiGgo9lw0HA15aqNzQ3IxMOIbhqcV4mWPJWFXy9FA7CBuRlY4ETL322xcIIL8v/RzH0yAIo1bWIbVoL17Q5iH/tAmRb1ykfxijLsG5/H6k9u3Ml2V/sgrX/6UgMOQ+ZDl5DRKWrtWIkc3AvFKu9W1aMEHV73D2AiEoMA16dSGYLJJOp3f6rktEIuaVz7+GPGdy+/IMkE4i88Gso1bWQIAEAIi/8Gp4Zvyz4eqPBgMCcSW0lSrPvBdLNiLQErYbe/eCadhsyAoDTfdSLTdl/oHBg3dp067FFcC9YgbCzouDr7aEGpBv255d1j58Me1VvBB2+gq85mlIosSbqiVhGSVQcpA6uQdgQs+vxR0CizsH6UZ1IFitck2fld+cdNwnBxxdDZNJwTb0t7zHXlNnIxiOQJUk7RjYRhzL6SsQ2rUVk/ZOIbvoNlNFXItsUh2P85Pxjj5+M5l3b87Kx6q7tbcGurwrK6CsRWPAzhO+agcicSbBu35b3foeTTeaCW+oICO09ROMRFrfH44iseyK/bGrdE0A83vFrjqD1gvnQEuujnQMRFQeWURIVB+4eUBwOvaZp/PkNvKYhOgnM8OpETcSA3v3gu+shZEMBGNxeRF59Edn9e6EGDsLQ/wy4b54HkUxAMpkR3bgWmS92wr6oLtfgCIBBcSD4bF3+BeKzdfDNfwThl5/XMr8CArGXn4dt5BV5Y5BUob3WOnIMIocfa/n8vPc7nLDZ4Rg/WQtaW4P22Csv5I5vMkHydpypFc2pghli0Zzq4BVH1tEF85HOgYiKBMsoiYqCKgQSQ4bCvqhO2z2AmcWux2saos7DgFcnssMNdfcn8K98oG397dTbIJriSO/5DCanB4FFd7R/4SEXf2o8WngdcDwGNRpCdP1q7X7JZIKQD/tVUJa1sqXWMuTDj3Wki82o0wtbZW8oNRMgGYwoG3AGQk89jKy/Pnc+0+Yg5q5q22v4MFlfr4JlU1lfrw4/tyPiBTNRt8UySqLiwd0DigCvaYg6DUua9ZJKItQS7AItDZ9WPgBn9Y+Q+NNLEIl4wXLhQy/+ZKtS8Dmy1da+HGnmXMhnDsm7TzpzMBwz8593pPc7XFZVER9yHsq+OQKG/mdA+HrBdet8uO/Ird09UsMqAIgrTjgPe3/nzLmIKyf2Rd56wXw850BExYFllEREbXhNQ9R5JCF6xs92+/bt03sIeZy7PkLg/tvb3e+5YxGim34LywUXweD2IPTYog4buLjjEWR3fYzQ479qyxL/9GcwnDkEYcWVW/vWUo7UdGhH5kL3xaMwBBsRevjeLm0YozWZOmRMJ/p+bHpz8rrDpuJUulq/D8oSMaStykl9HxCdLH4fkp54TUPFpjt8J/bp06fg/Qx4deJpPAD/XTe1K9/z3b0cEAKBJXcBZWVw3Tof6XisYDBolGVYd38MKZ3OrfU1WyHKypA44+xj3tYnv6uxN1f2HGw86eBTL50ZQHcVgyxDCdZDNPoheysQdVceMTN+KnWHLzMqfZyHVAw4D0lv/BGQikl3+E7sKODlGl6dqKkmOMZN0hpFtTZ8UlNJiEQcjutugtqwHyLoR/LMc3MB0GFfchlVReKMs2Fv3A+10Q/Z60PU2/u4gt0j/nrYDb9Uu9u6I4Msw/Z/7yB4SCb/aPsXExERUelrvabxnTYQIb+/6K9piIoV1/DqRCo3I/bqZijVtXCMnQiluhaxVzdDKjdBVhzIHKzPBcORMJRwx7+mZFQVQXcVwoO+gqC76piDXYDbgBQDJVivla0D0PYvVoL1Oo+MiIiIiKj7Y8CrE6msDMp3q7U9dGOb1kL5bjWksnKEf/sEyip754KfVYshx2OnZhBH6gBIXUI0+gtvzXSk/YuJiIiIiOiYsKRZJ2qgEbGXn4cyfkouuE0moIaDUGNhqAcPQKQSAFq2GUolT8kYimEbkPw1xJ4et9ef7K0o+P/gSPsXExERERHRsWGGVyeS3QG5oheMNgXBZXcjuPzelhLmCKzfH4tsMJB7nskE9UT3pT2KJrsbrmlz8rYBcU2bg6S9awLe1jXE0TmTEJk3E5E5k2Ddvg2yJB39xZ08Dls8DNuXu6HEw136/lF3ZcH/BzF3VZeNgYiIiIioVDHDqxPJZIZz3EQ03vezvPWbwUfvg/cXixFcfm8u+LnxF4gpzlPSqMAcDSKyfjWU6lpIkCAgEFm/GrbTz8o1fjrFOlpDbF9U1yXvD+jf9j+rqoh/7QK4F6yAaPRD8voQc1cdV8Oqnp4lJyIiIiLqSLcMeN977z089dRTUFUVI0eORHV1td5DOm4imUA21Fh4/WZzCs6JN0OyWCBc3pMOXjoMiEIBZPfvRXT96vwXhINtXY5PISkcLHj+Uhe9P5ALumO/eUwL+gEg9pvHYJtzf5cF3VlVRdhZATgrcnccZ7Br/WQbIssOCdhnzkViMPfpIyIiIiLqdgGvqqp48skn8ctf/hJerxd33HEHhg0bhn79+uk9tOOjqlDLyuGb/zDUSAiy04XI5meR/r9/aJ2aYXciW78XnuYURLkZ2fovj3uf1iNlMPVew2uwKQXf32Czdcn7AwBiESijr2y3PZSIR7ss6D4Z1lhYC3aBliz5svlwLHoSMZtD59EREREREemr2wW8O3bsQK9evVBVlVvjeOGFF2Lr1q3dLuAVVhvkgwfQeEhmzjX1NuDKqxFcdi/UaAiuqbdBuD0IL50Hx1U/QewPG5H5YmeH+7QaZBlKsB6i0a8FxuZosMOy4YTigmP2vVB3bYekCkCWYThjELKxCBTglJfGZpKF9yLOHJb1PZXKzGYEWt4faPl8nq2De8GKLhvDyZADDQWz5HKgAWDAS0RFiksxiIioq3S7plWBQABer1e77fV6EQgEdBzRiZHTaYRWPpC//+rKB2AstyLrr2+7LRthvXg0QqsWw/6D2g73aTXIMmzb30f6f/+G7K5PkP7fv8G2/X1I8eiRtx46rD+TGgoi/tD8vAZSp6qpk6Q4Cu5FDJu9U45/LDLxeMHPJxuPd9kYTobBqmgNr1pJJhMM1i7MkhMRHYdiaVhIREQ9Q7fL8IoCvwBLBf6RfO211/Daa68BABYuXAifr7i2eUnv+KBwoBXw591Wo6FcQ6lUCqJleyKRSgHBAHwDz9Geq36+E80N+xHbsKYtWzp+Msqr+hQsGzZX9oIpk0Lz3s/bvcZ6xdWIPv0wIsvnw7d0DbJf7EJw6V3ac9y33A3j8G9Dkk/u9xLh8cDwkxvbH7v/GbCc5LGPeQyZVMHPx1TZC+YimzOFZOr3FMySi0zmhOa80Wgsur8r1PNwHpY2cWAvDhaoPKp4aA2kXsVTrcV5SMWCc5GKQXeeh90u4PV6vWhsbNRuNzY2wu1uv+Z01KhRGDVqlHbb7/e3e46ePJ7C+68a3N6827LdBQGR25vVZNbul9zevHNyR8OIrHsi/wJi3RPwDjwbjhlz263hDZZZYK/fW/A17pl3abcz+/ci1BKQtt4XXHpXp3VSlgd9BfZFdbmMs9ONqOKC2oUZe7nM3OHnoxbZnClEUZxalry103bs1c1Qvj4CoRMYv8/nK7q/K9TzcB6WNlv9/oI/+CYbDiBuNOs0qvY4D6lYcC5SMegO87BPnz4F7+92Ae/AgQOxf/9+NDQ0wOPx4O2338aMGTP0HtZxy3or4Zp6m1bW3LqGN+OtBIC222oGibdehWvKbEQ3rs3dP2U20mZL3vHU5lTBCwi1OYXEkKF5QWXrWimRTBTuEp1KaGOQzJaOS6I7IeBVhcgFzq3H6uI1XKoQHX4+3UFCcUKZMK19l+ZTtJUVEdHJ0rthIhER9SzdLuA1GAy4/vrrsWDBAqiqissuuwz9+/fXe1jHzdDYgORpA+G7+2Fkg34Y3D4ky8thbmyAZ879MLg9UC02pN9/B56b50LNZqB8778gmcyIblwLi68K6NO2TlNyugteQEhOd4dBpeqtKviabDCgZTqzdkfJX5joHXSfDFUIJAZ334CdiHqehOIqWFmTUFzd6vuXiIi6B0kUWhRbgvbt26f3EPJ4YiFkdm1HaNXitgzvlNkwnjEYoSceRPpf7+fum34HIuvqkN2/V3utZDK1Kym21e+B9OlH7ddyDv4K4pWF10QV2sPVddMvkXV7AZsdTYoLADrc1ohBVenpDuUqVPo4D0uf1qW55Ye6piL8oY7zkIoF5yIVg+4wDzsqaWbAqxPn7o8Rff7pls7LSS1za//htQAAEY8gGwpB9lZAkmWEHr73iAGnEg8jtugOWC8era3lTLz1Kmxz7j/iWttjuejoDhcm1Dm6w5cZlT7OQyoGnIdULDgXqRh0h3lYMmt4S4XB4ULmi50IPPAL7T7JZILB4cTB23+aC2yvmQ5htSJxxjlHLVlNKC4oP5523CVix1LO251LfomIiIiIqOdiwKsXkxmuKbPblTTDZIH7lrtgcHuRcfkQt9qhquoxBaXdufkSERERERFRZ2PAqxNhMABOF9w3z4NIJiCZrRBlRgiDAdnTBiHWGqweR8DKTCwREREREVEbBrx6EYBqsaJcKUM2KGDweNGcScMgkAtaGawSERERERGdFAa8OokpTlg++wT+FQvbSppvuB2xXqcBqqr38IiIiIiIiLo9We8B9FTl0SBCLcEuAIhUCqEVC1EeDeo8MiIiIiIiotLAgFcvoYAW7LYSqVSu4RQRERERERGdNAa8OpFcHkgmU/59JhPgdOs0IiIiIiIiotLCgFcnCcUFx4y5WtDbum9uk+LSd2BEREREREQlgk2rdHLovrlliRjSVoX75hIREREREXUiZnh11LpvrvGc8xC3ORnsEhERERERdSIGvERERERERFSSGPASERERERFRSWLAS0RERERERCWJAS8RERERERGVJAa8REREREREVJIY8BIREREREVFJYsBLREREREREJYkBLxEREREREZUkBrxERERERERUkhjwEhERERERUUliwEtEREREREQliQEvERERERERlSQGvERERERERFSSGPASERERERFRSWLAS0RERERERCVJEkIIvQdBRERERERE1NmY4S0Ct99+u95DIALAuUjFgfOQigHnIRULzkUqBt15HjLgJSIiIiIiopLEgJeIiIiIiIhKEgPeIjBq1Ci9h0AEgHORigPnIRUDzkMqFpyLVAy68zxk0yoiIiIiIiIqSczwEhERERERUUliwEtEREREREQlyaj3AHq69957D0899RRUVcXIkSNRXV2t95Com5s+fTrMZjNkWYbBYMDChQsRi8WwdOlSHDx4EBUVFbjlllugKAoAYOPGjXj99dchyzKuu+46nH/++QCAXbt24dFHH0VzczO+/vWv47rrroMkSUin03jkkUewa9cu2O123HzzzaisrNTxjKlYrFixAu+++y6cTieWLFkCAF0299544w1s2LABAFBTU4NLL720y8+fikOhefjcc89hy5YtcDgcAIDx48fjG9/4BgDOQzo1/H4/Hn30UYRCIUiShFGjRuF73/sevxOpy3U0F3vU96Ig3WSzWXHjjTeKAwcOiHQ6LWbPni327Nmj97Com7vhhhtEOBzOu2/NmjVi48aNQgghNm7cKNasWSOEEGLPnj1i9uzZorm5WdTX14sbb7xRZLNZIYQQt99+u9i+fbtQVVUsWLBAvPvuu0IIIf7whz+Ixx9/XAghxP/8z/+IBx98sIvOjIrdhx9+KHbu3ClmzZql3dcVcy8ajYrp06eLaDSa92fqmQrNw/Xr14vNmze3ey7nIZ0qgUBA7Ny5UwghRCKREDNmzBB79uzhdyJ1uY7mYk/6XmRJs4527NiBXr16oaqqCkajERdeeCG2bt2q97CoBG3duhWXXHIJAOCSSy7R5tnWrVtx4YUXoqysDJWVlejVqxd27NiBYDCIpqYmDB48GJIk4eKLL9Ze849//EP7de5b3/oWPvjgAwj2viMA5557rpapaNUVc++9997D0KFDoSgKFEXB0KFD8d5773XZeVNxKTQPO8J5SKeK2+3GmWeeCQCwWCzo27cvAoEAvxOpy3U0FztSinORJc06CgQC8Hq92m2v14tPP/1UxxFRqViwYAEA4PLLL8eoUaMQDofhdrsB5L74IpEIgNwcPOuss7TXeTweBAIBGAyGdnOz9cvx0HlrMBhgtVoRjUa1khiiQ3XF3Dv8u7T1WESH+uMf/4i33noLZ555Jq655hooisJ5SF2ioaEBu3fvxqBBg/idSLo6dC5+/PHHPeZ7kQGvjgplxSRJ0mEkVEruueceeDwehMNh3HvvvejTp0+Hz+0oM3ukjC3nLXWGUz33OCfpUKNHj8ZVV10FAFi/fj2eeeYZ3HDDDZyHdMolk0ksWbIE1157LaxWa4fP41ykU+3wudiTvhdZ0qwjr9eLxsZG7XZjY6P2qx/RifJ4PAAAp9OJ4cOHY8eOHXA6nQgGgwCAYDCoZWMPn4OBQAAej6fg3Gw97qGPZbNZJBKJYy4fpJ6nK+aex+Npdyx+l9KhXC4XZFmGLMsYOXIkdu7cCYDzkE6tTCaDJUuW4KKLLsK//du/AeB3Iumj0FzsSd+LDHh1NHDgQOzfvx8NDQ3IZDJ4++23MWzYML2HRd1YMplEU1OT9udt27ZhwIABGDZsGN58800AwJtvvonhw4cDAIYNG4a3334b6XQaDQ0N2L9/PwYNGgS32w2LxYJPPvkEQgi89dZb2tz85je/iTfeeAMA8Pe//x1f+cpX+Msxdagr5t7555+P999/H7FYDLFYDO+//77WUZIIgBZgAMA777yD/v37A+A8pFNHCIGVK1eib9++uOKKK7T7+Z1IXa2judiTvhclwW4zunr33Xfx61//Gqqq4rLLLkNNTY3eQ6JurL6+HosXLwaQ+4Xt29/+NmpqahCNRrF06VL4/X74fD7MmjVLy8pu2LABf/7znyHLMq699lp8/etfBwDs3LkTK1asQHNzM84//3xcf/31kCQJzc3NeOSRR7B7924oioKbb74ZVVVVup0zFY+HHnoIH330EaLRKJxOJ66++moMHz68S+be66+/jo0bNwLIbXtw2WWX6fMhkO4KzcMPP/wQn332GSRJQkVFBaZMmaJlGTgP6VT4+OOPMXfuXAwYMED7UXj8+PE466yz+J1IXaqjufjXv/61x3wvMuAlIiIiIiKiksSSZiIiIiIiIipJDHiJiIiIiIioJDHgJSIiIiIiopLEgJeIiIiIiIhKEgNeIiIiIiIiKkkMeImIiIiIiKgkMeAlIiKik/Lhhx9i6tSpeg+DiIioHQa8REREPURDQwOuvvpqZLPZoz73jTfewJ133tkFoyIiIjp1GPASERERERFRSZKEEELvQRAREZWCTZs2YcuWLQiHw/B6vRg/fjwuuOACvPHGG9iyZQsGDhyIN954A4qi4KabbsL+/fuxfv16pNNp/PjHP8all14KAEgkEli9ejX++c9/wmQyYeTIkfjBD34AWZbx3HPP4cCBA5gxYwaAXNb2xhtvxLp162AwGDBv3jycffbZ+PDDD/H5559j8ODBmDFjBhwOB6ZNm4bGxkaYTCYAwJ133onBgwe3O4+9e/dizpw5yGQyKC8vh8FgwNNPP413330Xa9asQWNjIywWC8aMGYPvf//7+PDDD/Hwww9jzJgx2Lx5M2RZxvjx43HZZZd12WdPRERUiFHvARAREZWKqqoq3H333XC5XPj73/+Ohx9+GMuXLwcAfPrpp/jOd76D1atX47nnnsNDDz2Eb37zm1i+fDk++ugjLFmyBN/61rdgNpuxevVqJBIJPPLII4hGo1iwYAHcbje+853vHNM4/vrXv+KOO+6Az+fDfffdh5deegm1tbW4++67ceONN+Lpp5+GwWDo8PX9+vXD5MmTsWXLFtxzzz3a/StXrsQtt9yCc845B7FYDA0NDdpjoVAIiUQCK1euxLZt2/Dggw9i+PDhUBTlBD9NIiKik8eSZiIiok4yYsQIeDweyLKMCy+8EL169cKOHTsAAJWVlbjsssu0xxobG3HVVVehrKwM5513HoxGIw4cOABVVfH222/jRz/6ESwWCyorK3HFFVfgrbfeOuZxXHrppejTpw/Ky8sxYsQIfPbZZ51yfgaDAXv37kUikYCiKDjzzDPzHrvqqqtgNBrxjW98A2azGfv27euU9yUiIjpRzPASERF1kjfffBMvv/wyDh48CABIJpOIRqOQZRlOp1N7Xnl5OQDA5XLl3ZdMJhGJRJDJZODz+bTHKioqEAgEjnkchx7XZDIhmUye4Bnlu/XWW7Fhwwb89re/xYABA1BbW6uVRNvt9ryscWe+LxER0YlihpeIiKgTHDx4EI8//jgmTpyI1atX4+mnn0b//v1xvK0yHA4HDAYD/H6/dp/f74fH4wEAmM1mNDc3a4+FQqFjPrYkScc1lsMNGjQIt912G5544gkMHz4cS5cuPanjERERnWoMeImIiDpBKpWCJElwOBwAgD//+c/Ys2fPcR9HlmWMGDEC69atQ1NTEw4ePIiXX34ZF110EQDg9NNPx7/+9S/4/X4kEgls2rTpmI/tcDggSRLq6+uP+lyXy4VAIIBMJgMAyGQy+Mtf/oJEIgGj0Qir1QpZ5mUEEREVN5Y0ExERdYJ+/frhiiuuwC9+8QvIsoyLL74YQ4YMOaFjXX/99Vi9ejVuvPFGlJeXY+TIkVrH46FDh2LEiBGYPXs27HY7rrzySvzjH/84puOaTCbU1NTgzjvvRDabxc9//vOCXZoB4Ktf/arWvEqWZTz++ON46623sHr1aqiqij59+uCmm246ofMjIiLqKtyWiIiIiIiIiEoSa5GIiIiIiIioJLGkmYiIqIdatWoV/vKXv7S7/6KLLsKUKVN0GBEREVHnYkkzERERERERlSSWNBMREREREVFJYsBLREREREREJYkBLxEREREREZUkBrxERERERERUkv5/UpVvWsgEYFIAAAAASUVORK5CYII=",
      "text/plain": [
       "<Figure size 1152x576 with 1 Axes>"
      ]
     },
     "metadata": {},
     "output_type": "display_data"
    }
   ],
   "source": [
    "plt.figure(figsize=(16,8))\n",
    "sns.scatterplot(data.amount_tsh, data.gps_height)\n",
    "plt.suptitle(\"What is the relationship between amount tsh and gps height?\")\n",
    "plt.show()"
   ]
  },
  {
   "cell_type": "markdown",
   "metadata": {},
   "source": [
    "#### Observations:\n",
    "There is very weak correlation between gps_height and amount_tsh, hinting at a weak relationship between ``amount_tsh`` and ``gps_height``."
   ]
  },
  {
   "cell_type": "code",
   "execution_count": 96,
   "metadata": {},
   "outputs": [
    {
     "name": "stdout",
     "output_type": "stream",
     "text": [
      "The correlation coefficient between amount_tsh and gps_height is 0.08609334407955732\n"
     ]
    }
   ],
   "source": [
    "print(f\"The correlation coefficient between amount_tsh and gps_height is {data['gps_height'].corr(data['amount_tsh'])}\")"
   ]
  },
  {
   "cell_type": "markdown",
   "metadata": {},
   "source": [
    "## Multivariate Analysis"
   ]
  },
  {
   "cell_type": "markdown",
   "metadata": {},
   "source": [
    "### Features ``amount_tsh``, ``source_type`` and ``status_group``"
   ]
  },
  {
   "cell_type": "code",
   "execution_count": 127,
   "metadata": {},
   "outputs": [
    {
     "data": {
      "text/plain": [
       "<Figure size 1296x720 with 0 Axes>"
      ]
     },
     "metadata": {},
     "output_type": "display_data"
    },
    {
     "data": {
      "image/png": "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",
      "text/plain": [
       "<Figure size 792.625x360 with 1 Axes>"
      ]
     },
     "metadata": {},
     "output_type": "display_data"
    }
   ],
   "source": [
    "# relational plot 'sqft_above' vs 'price' with respect to 'waterfront'\n",
    "plt.figure(figsize = (18, 10))\n",
    "sns.relplot(x = 'source_class',\n",
    "            y = 'amount_tsh',\n",
    "            hue = 'status_group',\n",
    "            data = data,\n",
    "            s = 50, aspect=2, palette = 'YlOrBr')\n",
    "plt.axhline(data['amount_tsh'].median())\n",
    "plt.title('Source class vs amount_tsh with respect to status group')\n",
    "plt.xlabel('source class')\n",
    "plt.ylabel('Amount of water available in kilogram-metre per minute')\n",
    "plt.show()"
   ]
  },
  {
   "cell_type": "markdown",
   "metadata": {},
   "source": [
    "#### Observations:\n",
    "Surface water seems to have the highest amount of water available and most of them are functional.\n",
    "\n",
    "Generally functional wells have more water available."
   ]
  },
  {
   "cell_type": "markdown",
   "metadata": {},
   "source": [
    "### Feature ``amount_tsh``, ``gps_height`` and ``extraction_type_class``"
   ]
  },
  {
   "cell_type": "code",
   "execution_count": null,
   "metadata": {},
   "outputs": [],
   "source": []
  },
  {
   "cell_type": "code",
   "execution_count": null,
   "metadata": {},
   "outputs": [],
   "source": []
  },
  {
   "cell_type": "code",
   "execution_count": 132,
   "metadata": {},
   "outputs": [
    {
     "data": {
      "text/plain": [
       "<Figure size 1296x720 with 0 Axes>"
      ]
     },
     "metadata": {},
     "output_type": "display_data"
    },
    {
     "data": {
      "image/png": "iVBORw0KGgoAAAANSUhEUgAAAxkAAAGCCAYAAACM3Q5WAAAAOXRFWHRTb2Z0d2FyZQBNYXRwbG90bGliIHZlcnNpb24zLjMuMSwgaHR0cHM6Ly9tYXRwbG90bGliLm9yZy/d3fzzAAAACXBIWXMAAAsTAAALEwEAmpwYAACW7ElEQVR4nOzdd5iTVdrH8e+TZHrvDAzVAenSiyAdG/aOFWzYUER9ratgA10RpakguuBaEFfAda1IU4QFCyAgvUgZGKb3lpz3j5EsYWYwlGnM73NdXEzOefI8d3Immdw5zTLGGERERERERE4RW3UHICIiIiIipxclGSIiIiIickopyRARERERkVNKSYaIiIiIiJxSSjJEREREROSUUpIhIiIiIiKnlJIMkSr0j3/8A4fDUd1h1EhLlizBsiz27t1b3aFINdm1axeWZfHDDz9U6nXGjBlDYmLiXx7XpEkTnn/++UqNRapXv379uP3220/6PMOGDWPQoEHHdR9vfw9FaislGVLjDRs2DMuyyvwLDg72+hw//PADlmWxa9euygv0CHv37sWyLJYsWeJRfu2117Jv374qiSExMZExY8ZUybXk9HYir59//vOfWJZVeUGdhIcffpiVK1e6bz///PM0adKk+gKqQbxtt4re4+qq119/nblz557y89bk15HIX9FXqlIrnHPOOXz88cceZTbbqc+Ri4uLcTgclfamHhAQQEBAQKWcW0S8ExwcfFxfUpysoqIifH19q+x6UvXCwsKqOwSRGkc9GVIr+Pr6Uq9ePY9/sbGxAKSmptKwYUMeeOAB9/HJycnEx8fz6KOPsmvXLs455xwAmjZtimVZ9OvXD/hfF/fkyZNp0qQJfn5+5Obm8u2339KvXz8iIyMJCwujb9++rFq1yiOmnJwcRo0aRcOGDfHz86NJkya8+OKLADRs2BCA/v37Y1mW+1vS8oZLffHFF3Tu3Bk/Pz9iY2O55557yM3NddcfjnH69Ok0btyY0NBQLr30Ug4dOlTh89WvXz+2b9/O2LFj3T0/O3bsoFmzZu4YD8vNzSU0NJR//OMf7vveeuutPPbYY0RHRxMaGsrtt99Ofn6+x/0mT55My5Yt8ff3p3nz5rzwwguUlJRUGBPA9u3bufrqq4mMjCQwMJD27dvz+eefl3usMYY77riDM844g4CAAJo1a8YTTzxBYWGh+5i9e/dy5ZVXEh0d7T7m73//u7t+wYIFdOzYkcDAQMLDw+nWrRu//vprudf79ttvsdvt7Nmzx6N8zpw5+Pv7k5GRAcCLL75Is2bN8PPzIyYmhvPOO6/Mc3OkDz74gO7duxMWFkZ0dDRDhgxhy5Yt7vrDQ4Q++OADzjvvPAIDA2nZsiVLly5l3759XHjhhQQFBdG6dWu+//57j3OvXLmSPn36EBAQQEREBNdffz3Jycnu+vKGYxzdK3H4d3L58uV06tSJwMBAunbtys8//+yOr6LXT0WWLFnCTTfdBOD+/Rs2bJj7+r169SIkJISQkBDOOussvv76a4/779+/n4svvpjAwECaNWvGe++9d8zrNWzYkLffftt9+5ZbbsGyLLZt2+Yua9y4MdOmTSvzvPzjH//gb3/7G7t373bHemQPYFFREQ888ACRkZHExcXx8MMP43Q6K4zlcHu+//777rZ74oknAPjoo4/o0KED/v7+NGnShNGjR3u81o/13Bw+73vvvcfAgQMJCAigadOmvP/++x7XP3jwIMOGDSMmJoaQkBB69erFsmXLPI6p6HV4rHYr7zmHsu9xALNmzaJ169b4+fmRkJDAU0899ZfvDb/++is9evTA39+fFi1a8Mknn5QZrmZZFq+//jpXXnklQUFB1K9fn1dffdXjPG+//TatWrXC39+fqKgo+vTp49UQzOeee4569eoRGRnJsGHDPNoF/rrtjh4u5XK5eOKJJ4iJiSE4OJjrrruO1157rdzhsgsWLKBly5YEBQXRv39/tm/fDhz7dSRSKxiRGu6WW24xAwcOPOYxS5cuNQ6Hw3z22WfG5XKZc88913Tv3t0UFRWZkpISs2DBAgOYVatWmaSkJJOamuo+d0hIiLnsssvMr7/+atatW2eKi4vNp59+aj7++GOzefNms379enPbbbeZiIgIk5KSYowxxuVymb59+5qmTZuaefPmme3bt5ulS5ea6dOnG2OM+eWXXwxg/vWvf5mkpCSTnJxsjDHm3XffNXa73R332rVrjd1uN6NGjTIbN240X3zxhWnYsKG58cYbPR5/aGioue6668xvv/1mli9fbho1amRuvvnmCp+P1NRU06RJE/PQQw+ZpKQkk5SUZEpKSsyLL75omjVrZlwul/vYt99+24SFhZnc3FxjjDF9+/Y1ISEh5vbbbzcbN240n332mYmJiTEjR4503+eZZ54xjRo1Mp9++qnZsWOH+c9//mMaNmxonnrqqQpjSkpKMrGxsWbgwIHm+++/N9u2bTPz5883//nPf4wxxixevNgAZs+ePcYYY5xOp3nyySfNypUrzc6dO82CBQtMvXr1zNNPP+0+58UXX2wGDhxofv31V7Nz506zaNEi88EHH7iv5+PjY1566SWzY8cOs3HjRvP++++bdevWlRuf0+k0DRo0MC+++KJH+ZAhQ8w111xjjDHmX//6lwkJCTGfffaZ2b17t/n111/NxIkTTV5eXoWP+5133jH//ve/zbZt28wvv/xiLr74YpOYmGgKCwuNMcbs3LnTAKZZs2Zm3rx5ZvPmzeayyy4z8fHxZuDAgebTTz81mzdvNldccYVJSEgwRUVF7scXEhJihg4datatW2e+//57065dO9O7d2+PdjrjjDM84vn+++8NYHbu3GmMKf2dtCzLnHPOOWbZsmXm999/N4MHDzbNmjUzxcXFx3z9VKSwsNBMmTLFAO7fv4yMDFNSUmIiIiLMgw8+aLZs2WK2bNliPv30U7Ns2TKP56Jp06Zmzpw5ZuvWrebRRx81drvdbNmypcLr3XTTTea6665z327YsKGJiYkxb775pjHGmG3bthnA/P7772Wel7y8PPPoo4+ahIQEd6zZ2dnGGGMaN25swsPDzbhx48yWLVvMRx99ZOx2u3nnnXcqjOXwY2jQoIF57733zPbt282OHTvMu+++a8LDw83s2bPd7xft2rVzv9a9fW7i4+PNP//5T7Np0ybz5JNPGsuyzOrVq92PpVWrVuaKK64wq1evNlu3bjXPP/+88fX1NRs3bjTGHPt1WFG7laei97jPP//c2Gw28+KLL5rNmzebjz76yISHhx/zvSE3N9fUq1fPXHTRRWbt2rVmxYoVpmfPniYgIMA899xz7uMAExERYSZNmmQ2b95sXnvtNWO3282//vUvY4wxP/30k7Hb7WbWrFlm165dZt26dWbGjBnu95Ty9O3b14SFhZlRo0aZ33//3Xz55ZcmLCzM433mr9rOmLJ/pyZMmGCCgoLM7NmzzZYtW8yECRNMRESEx/v/M888YwIDA815551nfvrpJ7NmzRrToUMH06dPH2NMxa8jkdpCSYbUeLfccoux2+0mKCjI499FF13kcdyYMWNMVFSUGT16tAkLCzM7duxw1x39werIc4eFhbk/VFTE6XSa8PBw889//tMYY8zChQsN4P7jfrQ9e/YYwCxevNij/Ogk48YbbzRdu3b1OGb+/PnGsiyza9cud4zR0dGmoKDAfcy4ceNMvXr1jhnzGWecYZ555hmPsgMHDhgfHx/z7bffust69Ohh7rnnHvftvn37msaNG5uSkhJ32VtvvWV8fX1NTk6Oyc3NNQEBAebLL7/0OPesWbNMWFhYhfE89dRTJi4uzuTk5JRbf3SSUZ5XX33VJCYmum+3b9++zGM87PCHoKPb/FgeffRR06pVK/ftgwcPGofDYT7//HP39Zs3b+7+oH8iUlNTDWB++OEHY8z/PjxOnDjRfcyqVasMYF555ZUyj+e3334zxpQ+nw0aNHAnK8YYs2bNGgOYpUuXGmO8TzIA8/PPP7uPWbFihQHMpk2byr2PN9577z1z9PdYaWlp5b4uDjv8XEyYMMFdVlxcbIKCgtwJQ3neffddExsba4wxZsuWLSYgIMA8++yz5uqrrzbGGDN9+nQTHx/vPv7o5+W5554zjRs3LnPexo0bm4svvtij7LzzzvNIaCp6DM8++2yZc73xxhseZUuXLjWASUtL8/q5OfrDes+ePc0NN9zgfh4aNGhgiouLPY7p37+/eeCBB4wxf/06LK/dylPRe1zv3r3dz/thr732mvH39/f4XT3S9OnTTVBQkMcH6N9//90AZZKMIz/YG2PM0KFDTa9evYwxxnz66acmNDTUZGZm/mX8h/Xt29e0a9fOo2zEiBGmR48e7tt/1XbGlE0y6tevX6atrr322jJJht1udydoxhjz4YcfGsuyTH5+vjHG+/YQqYk0XEpqhe7du7NmzRqPf2+99ZbHMX/7299o0aIFr776Km+99RZNmzb16tytWrUqMz57586d3HTTTSQmJhIaGkpoaCiZmZns3r0bgJ9//pmIiAi6dOlyUo9rw4YN9OnTx6Osb9++GGPYuHGjR4x+fn7u2w0aNODgwYPHfb24uDguvfRSZsyY4b7+ypUrueOOOzyO69atG3a73X27V69eFBUVsX37djZs2EB+fj5XXnmle2x7cHAwI0aMIDMzs8JhXD///DNnn302QUFBXsc7Y8YMunfvTlxcHMHBwTz++OPuNgAYNWoUL774It27d+fRRx/1GBbSvn17zjvvPNq2bcvll1/O66+/XmYo1NFuueUWfv/9d1avXg3Ahx9+SFRUFOeddx4A11xzDcXFxTRu3Jhhw4bx3nvvkZ2dfcxzrlmzhssvv5ymTZsSEhJCo0aNADweB8BZZ53l/rlevXrux3B02eHhUBs2bKBHjx4eY/3POusswsLC2LBhwzFjOpplWR7Xb9CgAcAJ/Y4dS0REBLfffjvnnXceF1xwAePHj2fz5s1ljuvQoYP7Z4fDQVxc3DFjGThwIMnJyaxfv55FixbRu3dvzj//fBYvXowxhkWLFjFgwIATivnIWMD71163bt3cPx86dIjdu3czevRoj9fMBRdcAMC2bdu8fm569uzpcbtXr17u94rVq1dz4MABwsPDPa7z/fffs3XrVuDEXofHo6L3tIKCAvcwoKNt3LiRVq1aecxraNmyJeHh4WWOPdbjHzx4MM2aNaNp06Zcd911TJ8+nZSUlL+M+Vht7E3bHS0rK4v9+/fTo0ePY8YOUL9+fWJiYjyubYzxGPYoUlspyZBaISAggMTERI9/9evX9zgmKSmJLVu2YLfbPca8/5Xy/thedNFF/PHHH0ydOpWVK1eyZs0aYmNjKSoqch9zqiaHV3SeI8uPnjRqWRbGmBO63l133cX8+fM5dOgQM2bMoGvXrmX+yB7tyGu5XC4A5s6d65H0/fbbb2zdupXIyMgKz3M8z9ncuXO59957ufbaa/niiy/49ddfefrppykuLnYfM3z4cHbv3s1dd91FUlISF1xwATfeeCMAdrudL7/8kkWLFtG1a1f+9a9/0aJFiwrngEBpMtelSxdmz54NwOzZs7n++uvd46gbNGjApk2beOedd4iNjeW5557jzDPPrDB5ycvL49xzz8WyLN555x1WrVrF6tWrsSzL43cJwMfHp8zzVF7Z4ef/yLKjHS632Wxlfk+OfP4Os9lsHklledc6VWbMmMHPP//M4MGDWbp0KW3bti3zhUF5v+/HiqVhw4acccYZfPfdd+6EonPnzpSUlLBu3ToWL158wknG8cZy2JHvK4ePf/311z1eM2vXrmXr1q20a9cO8O65OdrRr81WrVqV+ULm999/d3+xcPgxVKajz384xmNd90RjOvLxBwcH89NPPzFv3jxatGjBm2++SWJiont+UUWO1cbetl15MXnzmMq79pHXFanNjivJSElJOa4PbyJVxeVyceONN9KmTRs++eQTnn32WY+19g+/kR9rwuZhqampbNy4kccee4zzzjuP1q1b4+/v7/HNUufOnUlLS+Onn34q9xzeXq9NmzYsXbrUo2zp0qVYlkXr1q3/MtZj8fX1Lff6AwYMoFGjRkyfPp333nuvTC8GlH4jeuR9V6xYga+vL2eccQZt2rTB39+fHTt2lEn8EhMTPT6sHqlz584sX768zITKiixbtoyOHTsyevRoOnfuTPPmzctdQjU+Pp7hw4cze/ZsZs6cyfvvv09WVhZQ+ge7W7duPPHEEyxbtoy+ffvy7rvvHvO6N998Mx999BFr167ll19+4ZZbbvGo9/Pz4/zzz+fll1/mt99+Iy8vj/nz55d7rt9//51Dhw7xwgsv0L9/f1q1akV6evoJJ4hHatOmDStWrPBIVtauXUtmZiZt2rQBIDY2luTkZI+2/OWXX477Wsfz+vHmPm3btmX06NF8+eWX3HbbbUyfPv24YzragAED+O6771iyZAkDBw7EZrPRp08fJk+ezMGDB4+ZZFT0WjlV4uLiaNiwIZs3by73NePv7+8+9q+emyOX3oXS12arVq0A6NKlCzt27CA0NLTCL2X+6nXobVtXdFx572nLli1zL8xQntatW/P777+TmZnpLtu8ebN7sYUjHevxQ+mXC3369OHZZ5/l559/Jj4+ng8++OCYj+VYjqftDgsLC6N+/fqsWLHimLF740ReeyI1hVdJRkpKCn/729948MEHee6554DSF8ubb75ZqcGJHFZUVMSBAwfK/Dv8Ye2FF17gt99+4/333+eyyy7jrrvu4oYbbiA9PR0oXVnGZrPxxRdfkJyc7PHH7GgRERHExMQwY8YMtmzZwooVKxg6dKjH0rMDBgzgnHPO4dprr2XBggXs3LmT5cuXu1e4iY6OJjg4mG+++YYDBw644zjaI488wi+//MLo0aPZtGkTX331FSNHjuSGG25wD6s5UU2bNmX58uX88ccfpKSkuL8ZsyyLO++8k2effZaioiKGDh1a5r6pqance++9/P777/znP//hb3/7G3fccQdBQUEEBwfzxBNP8MQTTzBlyhQ2b97Mhg0b+Oijj3j00UcrjOeee+7B5XJx6aWXsnz5cnbu3Mnnn3/Ol19+We7xZ555Jr/99hsLFixg+/btvP7663z66acex9x333188cUX7mFcn376KQ0bNiQkJIQff/yR5557jv/+97/88ccffPfdd6xbt+4vk7ehQ4eSmZnJsGHDaN++vccwopkzZzJjxgzWrl3L7t27ef/998nOzq7wnI0bN8bPz4/Jkyezfft2vvvuOx544IFT8k3yfffdR1ZWFsOGDWP9+vX88MMP3HTTTfTu3du9GlT//v3Jy8vjb3/7G9u3b2fu3LlMnTr1uK91PK+fww4PV/zss884dOgQOTk5bNu2jUcffZQffviB3bt3s2LFCr7//vuTTqih9DX55ZdfUlhYSKdOndxls2bNomnTpsfcB6Np06YcOHCAFStWkJKSQl5e3knHc7QXXniBSZMm8fzzz7N+/Xo2b97M/PnzGTFiBIDXz83MmTP54IMP2LJlC08//TQrVqxg1KhRANxwww00bdqUIUOG8M0337Br1y7++9//Mm7cOHci/Fevw/LarTwVvcc9/vjj/Otf/2L8+PFs2bKFjz/+mDFjxvDQQw9VuIzvDTfcQHBwMDfffDPr1q3jv//9L7fddhsBAQFlXiuff/45U6ZMYevWrUyePJk5c+bw4IMPAqWrNE2cOJGff/6ZP/74g/nz57Nnz56T/v36q7Yrz0MPPcRrr73G+++/z9atW3nttdf45ptvjvu17217iNRI3kzceOGFF8y//vUv43Q6zbBhw4wxpatB3H333ad8kojI0W655RYDlPvv0KFDZvny5cbhcJgFCxa471NQUGDat29vrrjiCnfZSy+9ZOrXr29sNpvp27ev+9zlrVy1ZMkS0759e+Pn52datGhhPvnkkzITqbOyssx9991n6tWrZ3x8fEyTJk3MuHHj3PWzZs0yTZo0MQ6Hwz2p9OiJ38YY85///Md06tTJ+Pr6mujoaHPXXXd5TMosL0ZvJgOuXr3adOrUyfj7+5eZtHvo0CHj4+Nj7rzzzjL369u3rxk+fLh5+OGHTWRkpAkODjbDhw93rz512Ntvv23OOuss4+fnZ8LDw023bt3MtGnTjhnT4ZWTQkNDTUBAgGnfvn2Fq0sVFRWZO++800RERLhXUZo8ebLH477nnntM8+bNjb+/v4mMjDQXXnihWb9+vTHGmPXr15sLLrjAxMXFGV9fX9OoUSPz8MMPVzj59EiXXXZZmYnXxpSuLtWzZ08THh5uAgICTJs2bczbb799zHPNnTvXJCYmGj8/P9OhQwezZMkSY7fbzbvvvmuM+d+E3u+//959n/Im1SYlJRnAY9L+ihUrzDnnnGP8/f1NWFiYGTp0qDl48KDH9WfOnGmaNm1q/P39zfnnn28+/PDDMhO/j/6dLO/65b1+/soDDzxgYmNjjWVZ5pZbbjH79+83l19+uWnQoIHx9fU18fHx5vbbb3dP+C3vuTCm/EUMjnbw4EFjWZa55JJL3GXr1q0zgLnttts8jj164ndRUZEZOnSoiYiIMID7Wo0bN/aYeGyMMbfddtsxH39Fj8EYY+bNm2d69OhhAgICTEhIiDnrrLPM2LFjjTHG6+dm9uzZpm/fvsbPz880btzYzJ492+MaKSkp5q677jL169c3Pj4+pn79+uayyy4zv/zyi/uYY70OjSnbbhUp7z3OGGP+8Y9/mJYtW7qv/8QTT5SZjH60X375xXTv3t34+vqaxMREM3fuXBMTE+PxGuTPBRIuvfRSExAQYOrVq2defvlld/3SpUtN//79TXR0tPHz8zOJiYlm3LhxHqvpHa1v375lfj/KWwjgWG1nTNn3aafTaR577DETFRVlgoKCzLXXXmteeOEFExwc7D7Gm4UZjPG+PURqGsuYv+63v/XWW3n77bex2WwMHz7cPdxg2LBh7rX1RaT22LhxI23atOGnn36ic+fOHnX9+vUjMTHRY98BEaleu3btomnTpnz//ff07t27usOpdLt376ZJkyZ89tlnXHzxxQDufUIOz7uqbW699VbWrl37l3NERE4XXu34HRYWxoEDBzwm2u7du5fo6OhKC0xETr3CwkL27dvH448/Tt++fcskGCIi1eGf//wnDRo0oGnTpuzevZv/+7//o3Hjxpx77rnVHdoJ2b9/P/PmzaN///7Y7Xb+/e9/M3v2bKZMmVLdoYlUGa/mZFx88cW89NJLLF68GJfLxQ8//MDEiRO59NJLKzs+ETmFPvzwQxITE9mxY8dfrlojcixHLud59L+jd5UX+SupqancfvvttGzZkqFDh9KoUSOWLVvmsXR3bWK325k7dy69e/emY8eOzJ49mzfeeIO77rqrukMTqTJeDZcCWLVqFd999x2HDh0iOjqaQYMGeawDLiIidUd5+wMcFhkZecyljEVE5PTnVZKxdetWmjdvXqZ827ZtJCYmVkpgIiIiIiJSO3mVZNxyyy3MmjWrTPmRk8BPN/v376/ya0ZGRpKWllbl15Wy1BY1g9qh5lBb1Bxqi5pB7VBzVFdbHL0psHg65sTvw+vqG2Pc/w47ePBghZtuyYmx2bQBe02htqgZ1A41h9qi5lBb1Axqh5pDbVEzHTPJOHKTruuuu86jzmazcfnll1dOVCIiIiIiUmsdM8mYMmUKxhjGjBnD2LFj3eWWZREaGlrh7p0iIiIiIlJ3HTPJiImJAWDatGlVEoyIiIiIiNR+Xm3Gd6zNY+67775TFoyIiIiIiNR+XiUZcXFxHrczMjJYuXIl55xzTqUEJSIiIiIitZdXScbVV19dpmzAgAHMnTv3lAckIiIiIiK12wmv+dWkSRN+//33UxmLiIiIiIicBrzqyVi/fr3H7cLCQpYvX05CQkKlBCUiIiIiIrWXV0nGG2+84XHb39+fxo0b88ADD1RKUCIiIiIiUnt5lWRMnTq1suMQqXZ2u42QYF8cdicOWwEBAb7k5xdVd1giIiIitY5XScZhmZmZFBQUeJQdvfJUeVJSUpg6dSoZGRlYlsWgQYO48MIL+fjjj/nuu+8IDQ0FSncY79SpEwDz5s1j0aJF2Gw2hg8fTocOHQDYsWMHU6dOpaioiI4dOzJ8+HAsy6K4uJgpU6awY8cOQkJCGDVqFLGxsQAsWbKETz/9FIArrriCfv36Hc/DljrA4bATGW5wONeBKYZiCAuMw883gYzMgr8+gYiIiIi4eZVkrFmzhjfeeIOMjIwydXPmzPnL+9vtdm666SaaNWtGfn4+jz32GO3btwdgyJAhXHLJJR7H7927lx9//JFXX32V9PR0nnvuOV5//XVsNhszZsxgxIgRNG/enHHjxrFmzRo6duzIokWLCAoKYvLkySxfvpz333+fBx98kJycHD755BPGjx8PwGOPPUaXLl0IDg725qFLHREe6oPD+Qtg3GU210H8HIE4HCGUlDirLzgRERGRWsarJGPmzJlceeWV9OvXD19f3+O+SEREBBEREQAEBATQoEED0tLSKjx+9erVnH322fj4+BAbG0u9evXYtm0bMTEx5Ofn06JFCwD69OnD6tWr6dixIz/99JN7qd0ePXrwzjvvYIxhzZo1tG/f3p1UtG/fnjVr1tC7d+/jfhxyerIsC5uVC8aUqbO79hIU2J7MLCUZIiIiIt7yKsnIyclh8ODBWJZ10hdMTk5m586dJCYmsmnTJr7++muWLVtGs2bNuPnmmwkODiYtLY3mzZu77xMZGUlaWhp2u52oqCh3eVRUlDtZSUtLc9fZ7XYCAwPJzs72KD/yXEdbuHAhCxcuBGD8+PFER0ef9GM9Xg6Ho1quK2C3DoGr/Dp/f398fNXzVR30mqg51BY1h9qiZlA71Bxqi5rJqyRjwIABLF68mAEDBpzUxQoKCpgwYQLDhg0jMDCQc889l6uuugooHXY1e/Zs7rnnHkw53ygDFZZXVFdRUlRe+aBBgxg0aJD7dkpKyjEfS2WIjo6ulusKREcG4IvFkcOlAJy2BqSm5VBSUlI9gdVxek3UHGqLmkNtUTOoHWqO6mqL+vXrV/k1axOvkoytW7fy5ZdfsmDBAsLDwz3qxo4d69WFSkpKmDBhAueccw7du3cH8DjXwIEDeemll4DSHorU1FR3XVpaGpGRkWXKU1NTiYyM9LhPVFQUTqeTvLw8goODiYyMZOPGjR7nat26tVcxS92RmV1MRFgbHM5NQGlC4bLFUlgSTUlJfvUGJyIiIlLLeN2TcTK9GMYY3nzzTRo0aMBFF13kLk9PT3fP1Vi1ahUNGzYEoEuXLkyaNImLLrqI9PR0kpKSSExMxGazERAQwJYtW2jevDnLli3j/PPPB6Bz584sWbKEFi1asHLlStq0aYNlWXTo0IEPP/yQnJwcANauXcv1119/wo9FTk/FxU5S0+2EhpyF3VaCw+FPVnYReflKMERERESOl1dJxsku+bp582aWLVtGo0aNeOSRR4DS5WqXL1/Orl27sCyLmJgY7rzzTgAaNmxIz549GT16NDabjdtuuw2bzQbA7bffzrRp0ygqKqJDhw507NgRKE2EpkyZwsiRIwkODmbUqFEABAcHc+WVV/L4448DcNVVV2llKSmX0+kkPaN0gnd0tD95+TnVHJGIiIhI7WSZCiY6LFu2jD59+gCwaNGiCk9wsvM0aqr9+/dX+TU1vrPmUFvUDGqHmkNtUXOoLWoGtUPNoTkZNVOFPRnLly93Jxnff/99hSc4XZMMERERERE5MRUmGYeHFwE888wzVRKMiIiIiIjUfl7NyTgsLy+PgoICj7LDqzuJiIiIiIiAl0nGunXrmD59OocOHSpTN2fOnFMelIiIiIiI1F5eJRlvvvkmV155Jb169cLX17eyYxIRERERkVrMqySjuLiY/v37u5eRFRERERERqYhXWcOQIUNYsGABFax2KyIiIiIi4uZVT0b37t154YUXmD9/PiEhIR51U6ZMqZTARERERESkdvIqyXj11Vdp2bIlPXv21JwMERERERE5Jq+SjOTkZF566SXNyRARERERkb/kVdbQpUsX1q9fX9mxiIiIiIjIacDr1aVefvllWrVqRVhYmEfdfffdVymBiYiIiIhI7eRVktGwYUMaNmxY2bGIiIiIiMhpwKsk4+qrr67sOERERERE5DShmdwiIiIiInJKKckQEREREZFTSkmGiIiIiIicUn+ZZLhcLubMmUNxcXFVxCMiIiIiIrXcXyYZNpuNr7/+GrvdXhXxiIiIiIhILefVcKm+ffvy7bffVnYsIiIiIiJyGvBqCdtt27bx1Vdf8dlnnxEVFYVlWe66sWPHVlpwIiIiIiJS+3iVZAwcOJCBAwdWdiwiIiIiInIa8CrJ6NevXyWHISIiIiIipwuvkgxjDN999x3Lly8nOzubV155hY0bN5KRkcHZZ59d2TGKiIiIiEgt4tXE7zlz5rB48WIGDRpESkoKAFFRUSxYsKBSgxMRERERkdrHqyRj6dKlPProo/Tq1cs96Ts2Npbk5ORKDU5ERERERGofr5IMl8uFv7+/R1lBQUGZMhEREREREa+SjI4dOzJ79mz3rt/GGObMmUPnzp0rNTgREREREal9vEoybr75ZtLS0hg2bBh5eXncfPPNHDp0iBtuuKGy4xMRERERkVrGq9WlAgMD+b//+z8yMzM5dOgQ0dHRhIeHV3JoIiIiIiJSG3mVZADk5uaybt060tPTiYiIoGPHjgQHB1dmbCIiIiIiUgt5lWSsX7+eV155hfr16xMdHU1qaiozZ87koYceol27dpUdo4iIiIiI1CJeJRkzZ87kzjvv9Nh4b8WKFcycOZPXXnutsmITEREREZFayKuJ3+np6fTo0cOjrFu3bmRkZFRGTCIiIiIiUot5lWT06dOHr776yqPsm2++oU+fPpUSlIiIiIiI1F5eDZfauXMn3377LZ999hmRkZGkpaWRmZlJ8+bNeeaZZ9zHjR07ttICFRERERGR2sGrJGPgwIEMHDiwsmMREREREZHTgFdJRr9+/So5DBEREREROV14NSdDRERERETEW0oyRERERETklFKSISIiIiIip5SSDBEREREROaW8mvhdXFzMJ598wvLly8nOzmbWrFmsXbuWpKQkzj///MqOUUREREREahGvejJmzZrFnj17uP/++7EsC4CGDRvyzTffVGpwIiIiIiJS+3jVk7Fq1SomTZqEv7+/O8k4vCmfiIiIiIjIkbzqyXA4HLhcLo+yrKwsQkJCKiUoERERERGpvbxKMnr06MGUKVNITk4GID09nZkzZ3L22WdXanAiIiIiIlL7eJVkXH/99cTGxvLQQw+Rl5fH/fffT0REBFdffXVlxyciIiIiIrXMX87JcLlc/Otf/+KGG25g2LBh7mFSh+dmiJxO7HY7vr4O9OstIiIicuL+Msmw2Wx8/fXX7l6L0NDQ475ISkoKU6dOJSMjA8uyGDRoEBdeeCE5OTlMnDiRQ4cOERMTw4MPPkhwcDAA8+bNY9GiRdhsNoYPH06HDh0A2LFjB1OnTqWoqIiOHTsyfPhwLMuiuLiYKVOmsGPHDkJCQhg1ahSxsbEALFmyhE8//RSAK664gn79+h33Y5DTX0REEL6OfOxWGoZsYqIjyMgspLi4pLpDExEREalVvBou1bdvX7799tsTvojdbuemm25i4sSJvPDCC3z99dfs3buX+fPn065dOyZNmkS7du2YP38+AHv37uXHH3/k1Vdf5cknn2TmzJnuieczZsxgxIgRTJo0iQMHDrBmzRoAFi1aRFBQEJMnT2bIkCG8//77AOTk5PDJJ5/w4osv8uKLL/LJJ5+Qk5Nzwo9FTk9hYYH4Ow5gtw4CeVhk4mPbRUS4r3rtRERERI6TV0vYbtu2ja+++orPPvuMqKgojw9dY8eO/cv7R0REEBERAUBAQAANGjQgLS2N1atXM2bMGKA0kRkzZgw33ngjq1ev5uyzz8bHx4fY2Fjq1avHtm3biImJIT8/nxYtWgDQp08fVq9eTceOHfnpp5/cvS09evTgnXfewRjDmjVraN++vbuHpH379qxZs4bevXt7/yzJac/Xx2BZBWXK7VYygYHR5OaWrRMRERGR8nmVZAwcOJCBAweekgsmJyezc+dOEhMTyczMdCcfERERZGVlAZCWlkbz5s3d9zm8J4fdbicqKspdHhUV5d6rIy0tzV1nt9sJDAwkOzvbo/zIcx1t4cKFLFy4EIDx48cTHR19Sh7v8XA4HNVyXQG7PQtM2XKLQoKDAwkICK76oESviRpEbVFzqC1qBrVDzaG2qJm8SjIaNGjg8aH/sG3bth3XxQoKCpgwYQLDhg0jMDCwwuOMKefT3jHKK6qraJhLeeWDBg1i0KBB7tspKSkVXquyREdHV8t1BWKiA7GVM3jQEEB2dh55eerJqA56TdQcaouaQ21RM6gdao7qaov69etX+TVrE6/mZDz//PPllr/wwgteX6ikpIQJEyZwzjnn0L17dwDCwsJIT08HSvfeODypPCoqitTUVPd909LSiIyMLFOemppKZGRkmfs4nU7y8vIIDg4mMjKyzLkO956IHFZYaHARdFSpRYkrVgmGiIiIyHE6ZpLhcrlwuVwYYzDGuG+7XC6SkpKw2+1eXcQYw5tvvkmDBg246KKL3OVdunRh6dKlACxdupSuXbu6y3/88UeKi4tJTk4mKSmJxMREIiIiCAgIYMuWLRhjWLZsGV26dAGgc+fOLFmyBICVK1fSpk0bLMuiQ4cOrF27lpycHHJycli7dq17pSqRw7Ky88kviKbEJOAiDGPFUeRqQlp6fnWHJiIiIlLrWOYYY5CuvfbaCu9os9m4/PLLueaaa/7yIps2beLpp5+mUaNG7qFKQ4cOpXnz5kycOJGUlBSio6MZPXq0e4L2p59+yuLFi7HZbAwbNoyOHTsCsH37dqZNm0ZRUREdOnTg1ltvxbIsioqKmDJlCjt37iQ4OJhRo0YRFxcHlK48NW/ePKB0Cdv+/fv/Zcz79+//y2NONXW9Vj/LsvDx8SEsLIxDhw5Vdzh1nl4TNYfaouZQW9QMaoeaQ8OlaqZjJhmHDh3CGMOYMWMYO3Ysxhgsy8KyLEJDQ/H19a3KWKuUkoy6TW1RM6gdag61Rc2htqgZ1A41h5KMmumYE79jYmIAmDZtGlA6fOrIFaFERERERESO5tXqUrm5ubz99tusXLkSh8PBe++9x08//cS2bdu47rrrKjtGERERERGpRbxaXWrGjBkEBgYybdo0HI7SvKRFixb8+OOPlRqciIiIiIjUPl71ZPz222+89dZb7gQDIDQ0lMzMzEoLTEREREREaievejIO7559pJSUFM3NEBERERGRMrxKMgYOHMiECRNYv349xhi2bNnC1KlTGTx4cGXHJyIiIiIitYxXw6UuvfRSfHx8mDlzJk6nkzfeeINBgwZx4YUXVnZ8IiIiIiJSy3iVZFiWxZAhQxgyZEhlxyMiIiIiIrWcV0kGQHJyMn/88QcFBQUe5b179z7lQYmIiIiISO3lVZIxb948PvnkExo2bOixy7dlWUoyRERERETEg1dJxueff85LL71EQkJCZccjIiIiIiK1nFerSwUHBxMTE1PZsYiIiIiIyGnAq56MYcOG8dZbbzFkyBDCwsI86qKjoyslMBERERERqZ28SjJKSkpYt24dy5cvL1M3Z86cUx6UiIiIiIjUXl4lGW+//TZDhw6lV69eHhO/RUREREREjuZVkuFyuejfvz82m1dTOEREREREpA7zKmu4+OKLmT9/PsaYyo5HRERERERqOa96Mr788ksyMjKYN28ewcHBHnVvvPFGpQQmIiIiIiK1k1dJxsiRIys7DhEREREROU14lWS0bt26suMQEREREZHTxHHP5L7lllsqIw4RERERETlNHHeSocnfIiIiIiJyLFqTVkRERERETqnjTjJeffXVyohDREREREROE15N/AYoLCzkwIEDFBQUkJqa6i4/88wzKyUwERERERGpnbxKMpYuXco777yDw+HA19fXo077ZMjpxGaz4ePjwLKs6g5FREREpNbyKsn45z//yUMPPUT79u0rOx6RahMeHoivTxEOKx1DHjHRYaRnFFBS4qzu0ERERERqFa/mZDgcDu2VIae10NAAAnwO4GAvmGwsk4KPtYOIcD/1aoiIiIgcJ6+SjGuvvZbZs2eTlZVV2fGIVAs/X4NF3lGlBod1kMAAv2qJSURERKS28mq4VP369fn444/5+uuvy9TNmTPnlAclUpVsNhsWReXWWeTj42ujTP4hIiIiIhXyKsmYPHkyffr04eyzzy4z8VuktnO5XBj8y60zBFBc5KriiERERERqN6+SjJycHK699lqNTZfTVmGRDYdfYJkhUyUmjrz8/GqKSkRERKR28mpORr9+/Vi2bFllxyJSbbKy8sgvroeTBLBCMFY0xeYM0jMKMcZUd3giIiIitYpXPRnbtm3jq6++4tNPPyU8PNyjbuzYsZURl0iVy8jIw2az4esbSUhICIdSUqo7JBEREZFayaskY+DAgQwcOLCyYxGpdi6Xi4KCQoKDQ6o7FBEREZFay6sko1+/fpUchoiIiIiInC68SjIAMjIy2LZtG9nZ2R5j1AcMGFApgYmIiIiISO3kVZKxatUqJk+eTHx8PHv27KFhw4bs2bOHli1bKskQEREREREPXiUZc+bM4Z577qFnz54MHz6cl19+mcWLF7Nnz57Kjk9ERERERGoZr5awTUlJoWfPnh5lffv21bK2IiIiIiJShldJRmhoKBkZGQDExMSwZcsWDh48iMulnZBFRERERMST10vYbtq0iR49ejBkyBDGjh2LZVlcdNFFlR2fiIiIiIjUMl4lGZdccgk2W2mnR9++fWnTpg0FBQUkJCRUanAiIiIiIuJpyZIlvPLKK3z++ede3+fpp5+mT58+DBo0qMJjxowZQ3BwMA8//LBHeUZGBh988AH33HOP19f7y+FSLpeLm266ieLiYndZdHS0EgwRERERkVri2WefPWaCcSwZGRlMmzbtuO7zl0mGzWajfv36ZGdnn1BQIiIiIiJ11XPPPUfLli0ZPHgwQ4cO5ZVXXqFfv36MGjWKs88+m7Zt27Jq1SoAli5dSocOHejQoQMdO3Y85ufvnJwcrrrqKlq2bMkNN9zg3sfu559/pm/fvnTu3JnzzjuPpKQkAIYNG8Ynn3wCwBdffEHLli3p3bs3999/v8cUiI0bN9KvXz+aNWvGpEmTAHjsscfYvn07HTp04JFHHvHqcXs1XKp379689NJLXHDBBURFRWFZlruubdu2Xl1IRERERKQu+emnn/jXv/7Fr7/+SklJCZ06daJz584A5Obm8uOPP7Js2TJuvfVW1q9fzyuvvMLUqVPp1asXOTk5+Pv7V3juX3/9lQ0bNlC/fn169erF8uXL6d69OyNHjmTBggXExMQwZ84cnnzySd555x33/QoKChgxYgTLli2jadOmDB061OO8mzZtYvHixWRnZ3PmmWdy9913M378eNavX8+aNWu8fuxeJRnffPMNAHPnzvUotyyLKVOmeH0xEREREZG64ocffuDSSy8lICAAgIsvvthdd/jDfZ8+fcjKyiIjI4NevXoxevRobrjhBq644opjTk/o1q2bu75Dhw7s2rWL8PBw1q9fz+DBgwFwOp3Ex8d73G/Tpk00a9aMpk2buuOYPn26u37IkCH4+fnh5+dHbGwsBw8ePKHH7lWSMXXq1BM6uYiIiIhIXXV4CFN5jhwZdPj2Y489xpAhQ/jiiy/o0aMHCxcupGXLluXe38/Pz/2z3W6npKQEYwxt2rRhxYoVJxRTRec9EV7tkyEiIiIiIsend+/e/Pvf/6agoICcnBz+85//uOvmzJkDlPZ2hIWFERYWxvbt22nXrh2PPvooXbp0YdOmTcd1vTPPPJNDhw65k4zi4mI2bNjgcUzLli3ZsWMHu3bt8ojjWEJCQo57frZXPRl33313ueU+Pj5ERUXRrVs3zj33XOx2+3FdXERERETkdNW1a1cuueQSzjrrLBo3bkyXLl0ICwsDICIigrPPPpusrCz3nInXXnuNxYsXY7fbad26NRdccMFxXc/X15dPPvmE+++/n8zMTEpKShg1ahRt2rRxHxMQEMC0adM4//zziY6Oplu3bn953qioKHr16kXbtm254IIL+Pvf//6X97HMX/WZAJ999hnff/+9e+J3SkoKX3/9NT169CA4OJjPP/+cbt26ceONN5Z7/2nTpvHLL78QFhbGhAkTAPj444/57rvvCA0NBUrHg3Xq1AmAefPmsWjRImw2G8OHD6dDhw4A7Nixg6lTp1JUVETHjh0ZPnw4lmVRXFzMlClT2LFjByEhIYwaNYrY2FigdB3hTz/9FIArrriCfv36/eWTArB//36vjjuVoqOjSUlJqfLrSllqi5pB7VBzqC1qDrVFzaB2qDmqqy3q16/v1XE5OTkEBweTl5dHnz59mD59OqNHj+aVV16hS5culRzlsWMyxnDvvffSvHlzHnzwwVN6Da96MpYsWcJTTz1FZGSku6xjx448//zzvPrqq7Rt25bnnnuuwiSjX79+nH/++WXmdgwZMoRLLrnEo2zv3r38+OOPvPrqq6Snp/Pcc8/x+uuvY7PZmDFjBiNGjKB58+aMGzeONWvW0LFjRxYtWkRQUBCTJ09m+fLlvP/++zz44IPk5OTwySefMH78eKB0+a0uXboQHBx8XE+SiIiIiMiJuPPOO9m4cSMFBQXccsst7i/Vq9OMGTOYNWuW+4v7ESNGnPJreJVkpKenl1lCy8/Pj/T0dADi4+PJzc2t8P6tW7cmOTnZq4BWr17N2WefjY+PD7GxsdSrV49t27YRExNDfn4+LVq0AEpn4q9evZqOHTvy008/cfXVVwPQo0cP3nnnHYwxrFmzhvbt27uTivbt27NmzRp69+7tVSwiIiIiIifjgw8+KFO2ZMkSr+7722+/cdNNN3mU+fn58d///vekYnrwwQdPec/F0bxKMjp37szf//53Lr/8cqKiokhNTWX+/PnudX63bNlCTEzMcV/866+/ZtmyZTRr1oybb76Z4OBg0tLSaN68ufuYyMhI0tLSsNvtREVFucujoqJIS0sDIC0tzV1nt9sJDAwkOzvbo/zIc5Vn4cKFLFy4EIDx48cTHR193I/nZDkcjmq5rpSltqgZ1A41h9qi5lBb1Axqh5rjdG6Ldu3aHdfeFDWJV0nGnXfeydy5c5kxYwZpaWlERETQs2dPrrrqKgDi4uJ4/PHHj+vC5557rvv+c+bMYfbs2dxzzz0VLqt1rKkj5dUdvSzYX5UPGjTIY6v16hjbp/GdNYfaomZQO9QcaouaQ21RM6gdao6aPiejrvIqyfD19eWGG27ghhtuKLc+PDz8uC985H0GDhzISy+9BODuKTksLS2NyMjIMuWpqanuOSKH66KionA6neTl5REcHExkZCQbN270OFfr1q2PO1YREREREfGe1/tkrF+/nmnTpvHCCy8wbdo01q9ff1IXPjyfA2DVqlU0bNgQgC5duvDjjz9SXFxMcnIySUlJJCYmEhERQUBAAFu2bMEYw7Jly9wz8jt37uwe27Zy5UratGmDZVl06NCBtWvXkpOTQ05ODmvXrnWvVCUiIiIiIpXDq56M7777jg8//JABAwbQvHlzUlJSeP3117n22ms9hhhV5LXXXmPjxo1kZ2dz1113cc0117BhwwZ27dqFZVnExMRw5513AtCwYUN69uzJ6NGjsdls3HbbbdhspbnQ7bffzrRp0ygqKqJDhw507NgRgAEDBjBlyhRGjhxJcHAwo0aNAiA4OJgrr7zSPZTrqquu0spSIiIiInJa++qrr3jggQdwOp3cfvvtPPbYY1Ueg1f7ZDzwwAM8+OCDNGnSxF22e/duJkyYwKRJkyozvmqjfTLqNrVFzaB2qDnUFjWH2qJmUDvUHLV6ToarCEgDSij97j8SbL4ndUqn00mLFi349ttvSUhIoGvXrnz44YdVPmXAq+FS2dnZJCQkeJTVr1+fnJycSglKREREROS05ioC9gM5QMGf/+//s/zErVq1isTERJo1a4avry/XXXcdCxYsOPl4j5NXSUbLli2ZPXs2hYWFABQUFPDee++596wQEREREZHjcbgH40glf5afuH379rnnOgMkJCSwb9++kzrnifBqTsYdd9zBa6+9xrBhwwgODiYnJ4cWLVrwwAMPVHZ8IiIiIiKnoaMTjL8q987xbO1QmbxKMiIiIhg7diwpKSlkZGQQERHhscmdiIiIiIgcj4o+hnv18bxCCQkJ7Nmzx31779691bKnR4WPwuVylSmLjIx0701xuP7wyk8itZ2Pj4OQkADsNoPd4SQkJJDs7LzqDktEREROS5GUzsU4sufiz8nfJ6Fr165s3bqVnTt30qBBAz766CM++OCDkzrniagwyRg6dKhXJ5gzZ84pC0akuvj5+RAe5oPdluwuCw70w8cnnLS0rGqMTERERE5LNl9w1edUry7lcDiYMmUK5513Hk6nk1tvvZU2bdqcgoCPM46KKqZMmVKVcYhUq9IejIMeZZZViK8jDx8fH4qLi6spMhERETlt2XyBeqf8tBdeeCEXXnjhKT/v8agwyYiJianKOESqjWVZ2G3lJxE2Wy6BgVFkZirJEBEREfFWhUnGW2+9xYgRIwCYPHlyhbPS77vvvsqJTKQKGVPRqgtWuas0iIiIiEjFKkwyYmNj3T/Xq3fqu3FEagpjDE6XHYfdAjwTCqcrlNzcguoJTERERKSWqjDJuPzyy90/X3HFFdjt9jLH5ObmVk5UIlUsIyOPqMhYHPZUSidfWbhMCPkFdpxOJRkiIiIix8Or9Wdff/31MkNGsrOzefbZZyslKJGq5nQ6SUnNIScvnMLiWJymAWnpkJWlRFpERETkeHmVZNhsNt5880337czMTMaMGUPHjh0rLTCRquZyucjKyiU1NRun06KoSJO9RURERE6EV0nGyJEjyczM5B//+AcZGRmMGTOGs88+m+uuu66y4xMRERERkePQpEkT2rVrR4cOHejSpQsAaWlpDB48mObNmzN48GDS09Pdx48bN47ExETOPPNMvv7661MSg1dJht1uZ/To0ezatYvRo0fTv39/rrzyylMSgIiIiIhIXWRKsjFZ32PSvy79vyT7lJ178eLFrFmzhp9++gmA8ePHM3DgQLZu3crAgQMZP348ABs3buSjjz5iw4YNfPXVV9xzzz04nc6Tvn6FE7/LW7Y2MDAQu93OH3/84d6sT0vYioiIiIgcH1OSDZnfgiuntKAEKD6ECRuM5Qg55ddbsGABS5YsAeCWW26hX79+vPTSSyxYsIDrrrsOPz8/mjZtSmJiIqtWraJnz54ndb0Kk4yKlq1t2rTpSV1QRERERKTOy1vzvwTjMFdOaXnoOSd1asuyOPfcc7EsixEjRnDnnXdy8OBB4uPjAYiPjyc5ORmAffv20aNHD/d9ExIS2Ldv30ldH46RZFx99dUnfXIRERERESmHM+/4yo/D8uXLqV+/PsnJyQwePJiWLVtWeGx5mw5XtAn38fBqToaIiIiIiJxC9sDjKz8O9evXB0o317788stZtWoVcXFxJCUlAZCUlOTeeDshIYE9e/a477t37173/U+GkgwRERERkaoW2AFswZ5ltuDS8pOQm5tLdna2++dvvvmGtm3bcskllzBr1iwAZs2axaWXXgrAJZdcwkcffURhYSE7d+5k69atdOvW7aRigGMMlxIRERERkcphOUIwYYNL52A480p7MAI7nPSk74MHD3L55ZcDUFJSwvXXX8/5559P165dueaaa5g5cyaNGjVi7ty5ALRp04ZrrrmG1q1b43A4mDp1Kna7/WQfHpYpbyCWsH///iq/ZnR0NCkpKVV+XSlLbVEzqB1qDrVFzaG2qBnUDjVHdbXFqRhSdDrzuidj7dq17Nq1i4KCAo/ya6+99pQHJSIiIiIitZdXScbMmTNZsWIFbdq0wc/Pr7JjEhERERGRWsyrJGP58uW8/PLLREdHV3Y8IiIiIiJSy3mVZISEhBAUFFTZsdRJlmURZPKxZx/AlbebkIBocu0huFyu6g5NREREROSEeJVkXHTRRUyaNInLL7+csLAwj7q4uLhKCawusCyLsKJD5LwzDGfKLgBsoXGE3j6LrKBGSjREREREpFbyKsl4++23Afjll1/K1M2ZM+fURlSHBFJIzj/vdScYAK6sg2TPHEbQvQvIttR7JCIiIiK1j1dJhhKJyuHISyVv/wZ8m59D6HWvgGWR9eUEilbPwZZ9EEKbVXeIIiIiIlLL3HrrrXz++efExsayfv16ANLS0rj22mvZtWsXTZo04eOPPyYiIgKAcePGMXPmTOx2O5MmTeK8884D4Oeff2bYsGHk5+dz4YUX8vrrr2NZllcxaMfv6mSzEfXEMkIG3EbBv5+gYN4jBLfpQ8xTP4BNTSMiIiJyOjP5BzCbJmDWPVn6f/6BU3LeYcOG8dVXX3mUjR8/noEDB7J161YGDhzI+PHjAdi4cSMfffQRGzZs4KuvvuKee+7B6XQCcPfddzN9+nS2bt3K1q1by5zzWCrsyXjhhRd48sknAXj66acrzFrGjh3r9cXEkz2yAc7V71Hw7d/dZSU7V+Db/SZ8+46EwmoMTkREREQqjck/AOufhoIjEovszZi2z2IF1Dupc/fp04ddu3Z5lC1YsIAlS5YAcMstt9CvXz9eeuklFixYwHXXXYefnx9NmzYlMTGRVatW0aRJE7KysujZsycAN998M/Pnz+eCCy7wKoYKk4y+ffu6fx4wYMBxPjTxhiN7P9lLppQpL1r1T3w7XwM+DaohKhERERGpdLvf90wwoPT27veh5UOn/HIHDx4kPj4egPj4eJKTkwHYt28fPXr0cB+XkJDAvn378PHxISEhoUy5typMMnr37u3+uV+/fl6fULxn8rOgOL+cCoPJTYNwJRkiIiIip6WitOMrryTGmDJllmVVWO4tDfyvRlZgBPiHlK2wObCCY6o+IBERERGpGr6Rx1d+kuLi4khKSgIgKSmJ2NhYoLSHYs+ePe7j9u7dS/369UlISGDv3r1lyr2lJKMaFYY2JOD8J8uU+/e7D1ew9h8REREROW01vgH8j5p74V+vtLwSXHLJJcyaNQuAWbNmcemll7rLP/roIwoLC9m5cydbt26lW7duxMfHExISwsqVKzHGMHv2bPd9vOHVErZSOTKz84g+ow/Bt82haO18jLMI3/aXYkU15VCB991RIiIiIlK7WAH1MG2fLZ2DUZRW2oPR+IaTnvQNMHToUJYsWUJKSgoJCQmMHTuWxx57jGuuuYaZM2fSqFEj5s6dC0CbNm245ppraN26NQ6Hg6lTp2K32wF444033EvYXnDBBV5P+gawTHkDroT9+/dX6fWioqKw2+3uSThSvaKjo0lJSanuMOo8tUPNobaoOdQWNYPaoeaorrY4nqFDdZFXw6WKi4v58MMPue+++7jlllsAWLt27XGtlSvHlpqaisvlqu4wREREREROmldJxqxZs9izZw/333+/e1Z5w4YN+eabbyo1OBERERERqX28mpOxatUqJk2ahL+/vzvJiIyMJC2tapfYEhERERGRms+rngyHw1FmKE9WVhYhIeUsvyoiIiIiInWaV0lGjx49mDJlintScnp6OjNnzuTss8+u1OBERERERKT28SrJuP7664mNjeWhhx4iLy+P+++/n4iICK6++urKjk9ERERERGoZr4dLDRs2jPfee48ZM2Ywe/Zshg0bhsOhbTZERERERGqSW2+9ldjYWNq2besuGzNmDA0aNKBDhw506NCBL774wl03btw4EhMTOfPMM/n666/d5T///DPt2rUjMTGR+++/n+PZ+aLCLOHgwYMV3ik/P9/9c1ycdqYWERERETlerow9lCx9BVfOQWzBcTj6PowtvOFJn3fYsGHcd9993HzzzR7lDz74IA8//LBH2caNG/noo4/YsGED+/fvZ9CgQWzZsgW73c7dd9/N9OnT6dGjBxdeeCFfffWV1xvyVZhk3H///V6dYM6cOV4dJyIiIiIipVwZeyj88AbI+AMAJ+Dc/yt+Q98/6USjT58+7Nq1y6tjFyxYwHXXXYefnx9NmzYlMTGRVatW0aRJE7KysujZsycAN998M/Pnzz/5JEPJg4iIiIhI5ShZ+oo7wXDL+IOSpa/ge+nrlXLNKVOmMHv2bLp06cKECROIiIhg37599OjRw31MQkIC+/btw8fHh4SEhDLl3vJqTsZhaWlpbNu2TftjiIiIiIicBFdO+VMTXDnJlXK9u+++m+3bt7NmzRri4+N56KGHAMqdZ2FZVoXl3vJq5nZKSgqTJk1iy5YtBAcHk5OTQ/Pmzbn//vuJiYnx+mIiIt6w2WyE+buwFx4gJMCP7HxndYckIiI1jN1uJzDQF7vNhcNhp6Skdv2tsAXHUV7EtuDYSrnekfOo77jjDi666CKgtIdiz5497rq9e/dSv359EhIS2Lt3b5lyb3mVZEydOpVmzZrxxBNP4O/vT0FBAR999BFTp05lzJgxf3n/adOm8csvvxAWFsaECRMAyMnJYeLEiRw6dIiYmBgefPBBgoODAZg3bx6LFi3CZrMxfPhwOnToAMCOHTuYOnUqRUVFdOzYkeHDh2NZFsXFxUyZMoUdO3YQEhLCqFGjiI0tbaAlS5bw6aefAnDFFVfQr18/r58cEal6Ab4WYc7dsOZdrNw9BEWdRVCLG0kpiaakpKS6wxMRkRogNCSAAP9i7FYSYIiKjKCoKIj0jNzqDs1rjr4P49z/q+eQqfBGOPo+XPGdTkJSUhLx8fFA6WftwytPXXLJJVx//fWMHj2a/fv3s3XrVrp164bdbickJISVK1fSvXt3Zs+ezciRI72+nlfDpXbs2MGNN96Iv78/AP7+/tx4443s2LHDq4v069ePJ554wqNs/vz5tGvXjkmTJtGuXTvmz58PlGZJP/74I6+++ipPPvkkM2fOdO82PmPGDEaMGMGkSZM4cOAAa9asAWDRokUEBQUxefJkhgwZwvvvvw+UJjKffPIJL774Ii+++CKffPIJOTk5XsUsItUjzLUfa/lDWGm/QWEG1v6lWMsfJNonvbpDExGRGsDX14dA/zzs1n6gCCjGTjJ+vocICvKv7vC8ZgtviN/Q97G3vhSrUU/srS89JZO+AYYOHUrPnj3ZvHkzCQkJzJw5k//7v/+jXbt2tG/fnsWLFzNx4kQA2rRpwzXXXEPr1q05//zzmTp1Kna7HYA33niD22+/ncTERM444wyvJ32Dlz0ZzZs3Z9u2bbRs2dJdtn37dlq0aOHVRVq3bu3eLfyw1atXu3tB+vbty5gxY7jxxhtZvXo1Z599Nj4+PsTGxlKvXj22bdtGTEwM+fn57mv26dOH1atX07FjR3766Sf3xoA9evTgnXfewRjDmjVraN++vbuHpH379qxZs4bevXt7FbeIVK3QADts/AA4ahxocQ6k/IIjbKB6M0RE6rjgIF9s1v4y5TZyCPCPIbf2dGZgC29YKZO8P/zwwzJlt912W4XHP/nkkzz55JNlyrt06cL69etPKAavVpeKi4tj3LhxdOrUiaioKFJTU/n1119P6sN6ZmYmERERAERERJCVlQWUTi5v3ry5+7jIyEjS0tKw2+1ERUW5y6OiotwT0NPS0tx1pePzAsnOzvYoP/Jc5Vm4cCELFy4EYPz48URHR5/wYztRDoejWq4rZaktqoe9OB0rL6n8ypy9RDSJOK6NgOTU0Wui5lBb1Axqh+rjsBdDBX8LHA5L7VJDVJhkpKametzu3r07AFlZWfj4+NCtWzeKiopOeUAVfYA41geL45n9XlH5oEGDGDRokPt2SkrKscKsFNHR0dVyXSlLbVE9Avx8CIvriZW9u0ydFdOZ1NRU9/BJqVp6TdQcaouaQe1QfcLCAgny8wGKj6qxKCo2pKVVTbsczyTouqjCJOOee+6p1AuHhYWRnp5OREQE6enphIaGArh7Sg5LS0sjMjKyTHlqaiqRkZEe94mKisLpdJKXl0dwcDCRkZFs3LjR41ytW7eu1MclIicuv7CYsEbnY/Yvwco74C43MV0pCW6KK08JhohIXZedXYCfb30c1h8cObzWaeLJzi6svsDEw3Htk5Gfn09ycjIHDx50/ztRXbp0YenSpQAsXbqUrl27ust//PFHiouLSU5OJikpicTERCIiIggICGDLli0YY1i2bBldunQBoHPnzixZsgSAlStX0qZNGyzLokOHDqxdu5acnBxycnJYu3ate6UqEamZkgtCcPV4Gbo+g2l1K6bny5S0HUVKnl91hyYiIjWAy+UiLb2IImcTnKY+Lqs+Ra6mZGRZFBdr3l5NYRkvBjjv3buXSZMmsXt32SEM3uwM/tprr7Fx40ays7MJCwvjmmuuoWvXrkycOJGUlBSio6MZPXq0e4L2p59+yuLFi7HZbAwbNoyOHTsCpZPNp02bRlFRER06dODWW2/FsiyKioqYMmUKO3fuJDg4mFGjRrnXAl60aBHz5s0DSpew7d+/v1dPzP79ZScUVTZ1vdYcaovqZ7PZiIyMVDvUEHpN1Bxqi5pB7VAzVOffCg2XOjavkowxY8bQtGlTrrrqKu677z6mTp3KBx98QIsWLejTp09VxFnllGTUbWqLmkHtUHOoLWoOtUXNoHaoOaqrLZRkHJtXw6V2797NDTfcQFBQEMYYAgMDufHGG73qxRARERERkaqxZ88e+vfvT6tWrWjTpg2vv166RG5aWhqDBw+mefPmDB48mPT0/+0/NW7cOBITEznzzDP5+uuv3eU///wz7dq1IzExkfvvv/+4Vnj0Ksnw8fHB6Szd+DwkJISUlBSMMdrYTkRERETkBBUe3MnuiTez7elB7J54M4UHd570OR0OBxMmTOD3339n5cqVTJ06lY0bNzJ+/HgGDhzI1q1bGThwIOPHjwdg48aNfPTRR2zYsIGvvvqKe+65x/25/+6772b69Ols3bqVrVu38tVXX3kfhzcHtWzZkhUrVtCvXz969OjBiy++iI+PD23atDmBhy4iIiIiUrcVHtzJjjHnU3Rwh7ssb8t/aTbmK/zimp7weePj44mPjwdKOwdatWrFvn37WLBggXuhpFtuuYV+/frx0ksvsWDBAq677jr8/Pxo2rQpiYmJrFq1iiZNmpCVlUXPnj0BuPnmm5k/f77Xu357lWSMHj3a/fPQoUNp2LAhBQUFp+18DBERERGRynTgg2c8EgyAooM7OPDBMzR+cPYpucauXbv49ddf6d69OwcPHnQnH/Hx8SQnJwOwb98+evTo4b5PQkIC+/btw8fHh4SEhDLl3vIqyTiSzWZTciEiIiIichKK08tfZKg4PemUnD8nJ4crr7yS1157zb0fXXkq2tT6eDa7Lk+FScbkyZO9OtF9993n9cVERERERAR8IspfnconIv6kz11cXMyVV17JDTfcwBVXXAFAXFwcSUlJxMfHk5SURGxsLFDaQ7Fnzx73fffu3Uv9+vVJSEhg7969Zcq9VeHE73r16hEXF/eX/0RERERE5PjUu34svnHNPMp845pR7/qxJ3VeYwy33XYbrVq18pjycMkllzBr1iwAZs2axaWXXuou/+ijjygsLGTnzp1s3bqVbt26ER8fT0hICCtXrsQYw+zZs9338UaFPRlXX331iT42ERERERE5Br+4pjQb8xUHPniG4vQkfCLiqXf92JOa9A2wfPly3nvvPdq1a0eHDh0AePHFF3nssce45pprmDlzJo0aNWLu3LkAtGnThmuuuYbWrVvjcDiYOnUqdrsdgDfeeINhw4aRn5/PBRdc4PWkbzjGZnwbN26kdevWAKxfv77CE7Rt29bri9Um2oyvblNb1Axqh5pDbVFzqC1qBrVDzaHN+GqmCnsyZs6cyYQJE4DSLKY8lmUxZcqUyolMRERERERqpQqTjMMJBsDUqVOrJBgREREREan9vNrxW0RERERExFte7ZORl5fH3Llz2bhxI9nZ2R7r5lY0lEpEREREROomr3oy3n77bXbu3MlVV11FTk4Ot956K9HR0QwZMqSy4xMRERERkVrGqyRj3bp1PPTQQ3Tt2hWbzUbXrl158MEH+f777ys7PhERERERqWW8SjKMMQQGBgLg7+9Pbm4u4eHhHDhwoFKDExERERER7+3Zs4f+/fvTqlUr2rRpw+uvvw7AmDFjaNCgAR06dKBDhw588cUX7vuMGzeOxMREzjzzTL7++mt3+c8//0y7du1ITEzk/vvvp4KdL8rl1ZyMxo0bs3HjRtq1a0fLli2ZOXMm/v7+xMef/LbnIiIiIiJ1Uea+nfww9RlyD+0nKKY+ve8dS1iDk9uMz+FwMGHCBDp16kR2djadO3dm8ODBADz44IM8/PDDHsdv3LiRjz76iA0bNrB//34GDRrEli1bsNvt3H333UyfPp0ePXpw4YUX8tVXX3m9IZ9XPRkjRowgJiYGgFtvvRVfX19yc3O57777jucxi4iIiIgIpQnG3LvOZ9OXH7Lnp6Vs+vJD5t51Ppn7dp7UeePj4+nUqRMAISEhtGrVin379lV4/IIFC7juuuvw8/OjadOmJCYmsmrVKpKSksjKyqJnz55YlsXNN9/M/PnzvY7DqyQjJiaGevXqARAaGspdd93Fgw8+SEJCgtcXEhERERGRUj9MfYbMvTs8yjL37uCHqc+csmvs2rWLX3/9le7duwMwZcoU2rdvz6233kp6ejoA+/bto2HDhu77JCQksG/fPvbt2+fxWf9wube8SjLuuOMO3n77bTZt2uT1iUVEREREpHy5h/ZXUJ50Ss6fk5PDlVdeyWuvvUZoaCh3330327dvZ82aNcTHx/PQQw8BlDvPwrKsCsu95dWcjKeeeorly5fz+uuvY7PZ6NWrF71796ZRo0ZeX0hEREREREoFxdSvoPzk5zwXFxdz5ZVXcsMNN3DFFVcAEBcX566/4447uOiii4DSHoo9e/a46/bu3Uv9+vVJSEhg7969Zcq95VVPRtOmTbnxxht54403uPfee8nJyeHZZ58tM3FERERERET+Wu97xxKW0MyjLCyhGb3vHXtS5zXGcNttt9GqVStGjx7tLk9K+l8Pybx582jbti0Al1xyCR999BGFhYXs3LmTrVu30q1bN+Lj4wkJCWHlypUYY5g9ezaXXnqp13F41ZNxpMOZzfbt27WErYiIiIjICQhr0JSr3/zqz9WlkgiKiT8lq0stX76c9957j3bt2tGhQwcAXnzxRT788EPWrFmDZVk0adKEt956C4A2bdpwzTXX0Lp1axwOB1OnTsVutwPwxhtvMGzYMPLz87ngggu8XlkKwDJeLHibm5vLf//7X3744Qe2bt1K+/bt6dWrF126dMHX1/cEHn7Nt39/+ePkKlN0dDQpKSlVfl0pS21RM6gdag61Rc2htqgZ1A41R3W1xfEMHaqLvOrJGDFiBGeeeSa9e/fm4Ycfdm/MJyIiIiIicjSvkozJkycTERFR2bGIVDsfHwd+fg5slqlwZQUREREROTavkoyIiAhKSkrYv38/WVlZHnWHJ42I1GaWZREZEYDDloqdVIzxIyYqgcxsJ4WFJdUdnoiIiEit4lWSsWnTJl599VWKi4vJz88nICCAgoICoqKimDJlSmXHKFLpwkL98bU2Y5kCACzycZBBWEhrDhWpR0NERETkeHi1hO2sWbO45JJLePfddwkICODdd9/lyiuv5Nxzz63s+ESqhK9PMRYFZcrtZjdBQafn4gYiIiIilcWrJGP//v1ceOGFHmWXXXYZ//nPfyolKJGqZLPZgMJy6yzycdi9epmIiIiIyJ+8+vQUGBhIfn4+AOHh4ezdu5ecnBwKCsp+8ytS27hcLowJKL/OCqewyFnFEYmIiIjUbl7NyejevTu//vorvXv3ZsCAAYwdOxa73U7Pnj0rOz6RKpFfaGH3i8bGkets23GaBHeCLSIiIiLe8SrJGDZsmPvniy++mObNm5Ofn89ZZ51VWXGJVKmcnEIsKx5/vxjsJgvsARSXBJKRWVTdoYmIiIjUOl4lGUdr2bLlqY5DpNplZxeQnQ0ORyjh4eGkpmknVxEREZEToRmtIkcpKdG+GCIiIiInQ0mGiIiIiIicUl4lGS6Xq7LjEBERERGR08RfJhkul4ubbrqJ4uLiqoinTgryNUT5ZOLI3U2wrwvLsqo7JBERERGRE/aXE79tNhv169cnOzubyMjIqoipTonyL8BnwySsQ6sBCA5vif9Zj5JaFIIxppqjExERERE5fl6tLtW7d29eeuklLrjgAqKiojy+aW/btm2lBXe6C/I1+KyfiJXyi7vMytiEz8/PENLpJbKKTmjxLxERERGRauXVp9hvvvkGgLlz53qUW5bFlClTTn1UdYS/yfJIMNxy/sC3JA2IrfKYREREREROlldJxtSpUys7jrrJOI9Reaw6EREREZGay+slbEtKSvj999/58ccfASgoKKCgoKDSAqsLiuxhmNAzylb4R1Hs0PwXEREREamdvEoy/vjjDx544AHeeust3njjDQA2btzo/llOTE6Rg5KOT0Bg/P8K/SIp6fI82SUB1ReYiIiIiMhJ8Gq41IwZM7j22mvp06cPw4cPB6B169a89dZblRrc6c4YQ2pRGCFdJuBbkorDbqPAFkZWcYD2JhERERGRWsurJGPv3r2cc845HmX+/v4UFRVVSlB1iTGGrCIfoB7RkdFkpKQASjBEREREpPbyarhUTEwMO3bs8Cjbtm0b9erVq5SgRERERESk9vKqJ+Paa69l/PjxDB48mJKSEubNm8e3337LiBEjKjs+ERERERGpZbzqyejcuTOPP/44WVlZtG7dmkOHDvHwww9z1llnVXZ8IlXOZvN60TURERERKYdXPRkrVqygZ8+eNGvWzKN85cqV9OjRo1ICE6lqYQEQYM/GKjwAucHEhsaSkuOjSfjVIMxRgG/uPmzb/0t0cAL5vnHkOr16u5JTyGaz4Z+bTOG+LWRucxEQ35yi4Ficxqru0EREpIbz6q/2m2++Sc+ePcuUv/XWWyedZNx77734+/tjs9mw2+2MHz+enJwcJk6cyKFDh4iJieHBBx8kODgYgHnz5rFo0SJsNhvDhw+nQ4cOAOzYsYOpU6dSVFREx44dGT58OJZlUVxczJQpU9ixYwchISGMGjWK2FjtpC2ewgPBP+cHrJRF7jK7TzixTe7mQKZPNUZW90Q48nB89yBW6hYMpd2tgc0vwtbhPrKdftUdXp1hs9nwPbCJ38dchKsw/3AhzR/9EHuL3jiVfIuIyDEcc1zIwYMHOXjwIC6Xi+TkZPftgwcPsm7dOnx9fU9JEM888wx///vfGT9+PADz58+nXbt2TJo0iXbt2jF//nygdJWrH3/8kVdffZUnn3ySmTNnur9lnjFjBiNGjGDSpEkcOHCANWvWALBo0SKCgoKYPHkyQ4YM4f333z8lMcvpxd+W5ZFgAFCcAcnfEByob9CrisNux7HzK6zULR7l1tbP8cv9o5qiqpv8irLZMXH4/xIMAJeL7RNvxTcvtfoCExGRWuGYn57uv/9+988jR470qAsPD+fqq6+ulKBWr17NmDFjAOjbty9jxozhxhtvZPXq1Zx99tn4+PgQGxtLvXr12LZtGzExMeTn59OiRQsA+vTpw+rVq+nYsSM//fSTO84ePXrwzjvvYIzBstTdL6Xsdjvk7ym3zspeT0DM+eRgr+Ko6iY/qxBr+5fl1ll7vsfRqhUlJSVVHFXdZHJSKUwum9i5CnJxZhyAehHVEJWIiNQWx0wy5syZA5T2NIwdO7bSgnjhhRcAGDx4MIMGDSIzM5OIiNI/YBEREWRlZQGQlpZG8+bN3feLjIwkLS0Nu91OVFSUuzwqKoq0tDT3fQ7X2e12AgMDyc7OJjQ01COGhQsXsnDhQgDGjx9PdHR0JT3aijkcjmq5roCVHVJ+hSMMm92P6OjwKo2nrrI5CyAoDtK2la0LSyA8PLzqg6qjioszwGYHl7NMnW9QGKF6r6o2+ltRM6gdag61Rc3k1TiQykwwnnvuOSIjI8nMzOT555+nfv36FR5rjDmu8orqyuvFGDRoEIMGDXLfTklJOVbYlSI6OrparisQGxqP3R4MzpyjKs4jNRtKStQuVcGyLKI73I61Z7lnhSOAknpdSdXro8r4+oUTe+5wkr9626M8pF1fSoL1XlWd9LeiZlA71BzV1RbH+swqXiYZTqeTr7/+mo0bN5Kdne1Rd7IJSGRkJABhYWF07dqVbdu2ERYWRnp6OhEREaSnp7t7HaKiokhN/d9Y4LS0NCIjI8uUp6amus97uC4qKgqn00leXp57ErnIYam5/sQ2uw8O/BuyfwefcIi7gEK/ZpRka3hOVTHGkOXfiNAL3sBa8XfI3AXxXXB1H00GUYAmG1eVIhdEX/4wvlENSFrwOqa4iJhzhxNz0b3kWqdmPp6IiJy+vNoQYNasWSxcuJDWrVuzY8cOunfvTmZmJm3atDmpixcUFJCfn+/+ed26dTRq1IguXbqwdOlSAJYuXUrXrl0B6NKlCz/++CPFxcUkJyeTlJREYmIiERERBAQEsGXLFowxLFu2jC5dugCle3wsWbIEKF1yt02bNpqPIWVERYWCvwMaXgFnPgZn3I0V2Ri/4PDqDq3OKXTaSA1qTf65b2Hd+A05vceRYsVpNaNqkO8IImDwCM6csIKz3lpP2JWPk+uoYGihiIjIEbzqyfjvf//LCy+8QHR0NB9//DEXXnghZ511FtOnTz+pi2dmZvLKK68Apb0lvXv3pkOHDpxxxhlMnDiRRYsWER0dzejRowFo2LAhPXv2ZPTo0dhsNm677Tb3xmm3334706ZNo6ioiA4dOtCxY0cABgwYwJQpUxg5ciTBwcGMGjXqpGKW05Pd7sQyeaWviCNfFa5UIiMjSEvLrK7Q6iSXy0W2y4FfeDR5uRqOUJ1KnE5KHMEERURTrKEhIiLiJa+SjKKiIvfkaV9fXwoLC2nQoAG7du06qYvHxcXx97//vUx5SEgITz/9dLn3ueKKK7jiiivKlJ9xxhlMmDChTLmvr687SREpj4+PD5iicussKx9fn6hy60RERESkfF4lGQ0aNGD79u0kJibSrFkz5s6dS0BAgHveg0htVlxcDJY/lLN+gDG+OJ0VLywgIiIiImV5NSdj2LBh7mFJt9xyCzt37uTnn3/mzjvvrNTg6gofHx9iwoNwuApO2QaHcnyMy4Ex5ezsbYsiLT27bLmIiIiIVMirnozExET3z/Hx8fztb3+rtIDqmthQX2w+Lix7OpYFkcF+GJcfBzMKqzu0OuXAwXTi4+thTA4WuRhjB1sEBQUGp7PsPgEiIiIiUjGvejJeeeUVvvjii5OegyGewkMCsPkUYHOkYln5QD42nwwsezYxIX7VHV6dEhMdDMWbsEr2gtOJ5crFKlqHv2+xuxdPRERERLzjVU9Gp06d2LhxI//5z3/Iy8ujZcuWtG7dmlatWnn0csjx8fcx2Bw5ZcptjnwwoeXcQyqLw16E5fQDWwRQDPiDPQic+wgLbUR6Rm51hygiIiJSa3iVZAwYMIABAwYAcOjQIRYuXMgnn3xCQUEBc+bMqdQAT2vGSbmzjQFMcZWGUpc5HA4wLrAcULLxfxWWP5YjER+0r4qIiIjI8fAqydi3bx8bN25k48aNbNq0ifDwcAYPHkzr1q0rO77TnJ3SEWvlbDJm8wE0F6AqlJSUlK4uVbLHs8IUYJyHKHE1rp7ARERERGopr5KM0aNHExcXx2WXXcaIESPw9/ev7LjqhNwSi2BbKJYjw6PcVRxMkToyqozNZsO4csvtr7BcKbic9as8JhEREZHazKsk495772XTpk38+9//5rPPPqNVq1buORnR0dGVHeNpKzs7H78QXxzEAVlYloUxgTidFmnZBdUdXp1hjMHlcpS/CoLli0sdSiIiIiLHxasko0+fPvTp0weAjIwMvvzyS95++23NyTgFUrJLd5oOD4/F19eX5OTkao6o7jHGUOIKwGE5gBKPOqfVmJy88ncDFxEREZHyeZVk7Ny5kw0bNrjnZPj6+tK5c2fNyTiFMjIy1CtUjTIyC4mKaI+DXVgmDfDFaWtCTr4fLpeSDBEREZHj4VWS8corr9C6dWu6dOnCzTffTL169So7LpEq5XK5OJSaT2BgQ/x8m+Dr60dKajZOpxIMERERkePlVZIxderUyo5DpEbIyysiLw+io4O007eIiIjICfIqyRCpC+x2O1GRodjtBiwnwcFB5ORoE77qEBgYiH/mHzh3/UFkYCh5gfUoKNBiCCIiIrWFkgwRwN/fl4iIQHAlY1EMxiIkOIzAwHCSkzOqO7w6JcLKoXDlv0ha8BKuvAwc0Y2Iuv5lHI06kaOlnUVERGqFclftFKlrIsKDsEwSlnX4U6zBIgO7vVD7wlQhh8NBye51pH74OK68DABKUv7g4JQb8En/o3qDExEREa9VmGQ8+eST7p/nzp1bJcGIVAe73Q5WEWDK1Fkmk7DQgKoPqo4KtQrI/PaNshUuJ3nrviEwMLDqgxIREZHjVmGSsX//foqKSlfW+fzzz6ssIJHq4aqw3CpvK3CpHCVFmMKccqtceRmlCaGIiIjUeBXOyejatSsPPPAAsbGxFBUV8cwzz5R73NixYystuLrAbrMRamViz9mHfZ+NyIA4sginxFX2W3WpHKWrSPmVW2cIJjdPEwGqSkFANME9riVtz9Nl6gLPOp/M7OxqiEpERGoam81GeFgADrsLuz2fqMggMrMKKCnRypA1RYVJxj333MOmTZtITk5m27Zt9O/fvyrjqhNsNhuRVhqmBIrzodhVgo+PiwhHCmm2GJyuir5dl1MtL6+EwMAoLJPqLjPGF2OFkp2dVo2R1S15eXlEnXUe+RuWkL9xUWmhZRF2/v3YYhpXb3AiIlIjWJZFVGQAPrY/ABcY8HNYREY0JC29SIlGDXHM1aVatmxJy5YtKSkpoV+/flUUUt0RYndRkp3PH68Np3DfJgB8ohvSePR7hMVFk5ZXzQHWIZmZObhcQQQHNQCrBLDhdNlIPqgEo6ql2iOIuGkC4Rn7cOak44iIxxUcR7opv7dJRETqlpDgAHxs+/Ec6mxwWHsJDWlEWrqWn68JvFrCdsCAAaxfv55ly5aRnp5OREQEffr0oW3btpUd32nN4czlj2l3uxMMgOKUPeyecCPN/vYZ2COrMbq6Jzs7l+zs0jem6OhoUlJSqjmiuiudIAhvQXTin+2g0YMiIvInHx+AonJqXNjtGgVSU3i1hO13333Ha6+9Rnh4ON26dSMiIoLXX3+dhQsXVnZ8pzVnxkHyd64pU16cupfi9KSqD0hERESkhjNUvCKLMVqtpabwqifjs88+46mnnqJJkybusrPPPpsJEyYwaNCgyort9GcdK8fTi0RERETkaHl5xfiGhmMjw6PcmAAKi9T1XVN41ZORnZ1NQkKCR1n9+vXJySl/qUnxjiM8lsAze5Qp941rik9U/WqISERERKRmKygooqAoHJeJ4vCXsi4TRpEznuzs/OoNTty8SjJatmzJ7NmzKSwsBKCgoID33nuPFi1aVGpwp7sUZyAJd79JQIvu7jK/hq1o9PCH5AXGV2NkdVNISCD14sKJrxeEj6OImJgwLG2SISIiUuMUFDix7JEYWyOMrTGWPYbCIq0qVZN4NVzqjjvu4LXXXmPYsGEEBweTk5NDixYteOCBByo7vtNaaGgoPql/kNBvEK4Lh2GMwV54CB9XBnaHA+XiVSc0NIiggGIsDronGTtsPsTFxnPgYHr1BiciIiJuDoeDiHBfLNd24HBiYRES3BhjAsjN1SeomsCrJCMiIoKxY8eSmprqXl0qKiqqsmM77QXk7aP4i0cgY49Hl1Lx+g/xHfohEFFdodU5gYEOLHPAo8yiGKwMgoICyc3VesIiIiI1QVRUMJZrN/9LMAAMlusPQkPOUJJRQ3iVZBwWFRWl5OJUykvFZOwpW16QBdkHIUhJRlWw2+1Y5S6FB5bJISgwTEmGiIhIDWGznGAKy6lxASVVHY5U4LiSDDnFHH6UTlgqZyUEH208VlWMMVQ8PcmmLRpERERqlMN/sy0g6M//cylNMjSXsqbwauK3VA4THIet+eAy5VZ8ewiuVw0R1WU2yn05WKEYlyaSVQdNuhcRkfIUFYOx6oGtAeADOMCqh7Hq4TL6/rymUEtUIytrH44+D+EMCMe5YT64nNhanIuj1/2QlQv+AdUdYt3hygFbJLiywSqkNOEIBWcWlqVepapkWRbhthzsab9j272b6Ji2FAY3IdupdhAREcjJyScyzBcsA5YPYMCyg8uQn1/+8Gepel71ZAwfPrzc8ttvv/2UBlPnRDTFlrsbe0QUvte8g+/Q2TgatsGW9hsmUvMxqorL5cJYAVC8EUwxEAomAJx/YCghN089GVUpwpaFX/5ufMKjsDc4E5/gYAIz1hFqL6ju0EREpAYIDwvAslzg/ANcB8GVDM4/sCwXgQE+1R2e/Mmrngyns+yHrJKSElwu1ykPqC6xlWTBD89hK0iDDbP/V2H3w37p+0BYtcVW1+TmuQgOaIzl3Fk6pBMwViDGqk9eXnb1BleH+Djs+NmKMXs+hfQN7nKr8SUE2hPJdgX8OYdGRETqKpsNcB4oW+E6iGUPqfJ4pHzHTDKefvppLMuiuLiYZ555xqMuNTVVm/GdrIJ0KMjAtL8NV1x3MAZb+kasX9+AvENgV5JRVQoKSggMiMTuEwqmCLBj8KGgvMUrpNIE+lqYgz9jHZFgAFi7P4PY7jgcsRQXF1dTdCIiUjO4gPL+Fhi0ulTNccwkY8CAAQBs27aN/v37u8styyIsLIy2bdtWbnSnO58gXOe9Tf7y9yic+wq4nPi0PY/Ac2dg9/XzXP5ZKlVYaCB2WzLgB5Y/4MRGFn6+oTgcDkpK9KZVFfxshVj7F5dbZw6txq9JeyUZIiJ1nDE2rIpW58Re1eFIBY6ZZPTr1w+A5s2b06BBg6qIp05x+UaQu2Acxb8vwueMnmBzULx5GTkZ+wkZNkNJRhWxLAubvQSsaDAunC4f7DYLLD/stnyCggLJzMyp7jDrBGP5gM+fXd1nDMUV0gzbweWQtATLP1pDpaqJr68vFqWvFbWBiFS33DwnwYExWK5kj3JjhVJcopUJawqv5mQ0aNCAtWvXsmvXLgoKPCdfXnvttZUSWF1gMvdj+foRduPfsfYvB+PEdBlL4a7fcGXsB/+m1R1inWGz+WIKC8Aqwu6Tj3G6wAThdAWgNberTjE+2M68A5vThdn6BWxbhUnogdVjCvioR6mqBThcBLsOYN/xb3AVEZNwIXl+Tcgp1jeFIlJ9CgsLCQqMwLL5gisFcIEtCqxQ8nO1SEhN4VWSMXPmTFasWEGbNm3w89MykqeKsWwENj8La8Wz7jLrjyX4t7oOl02rC1cVYwwUFYAjG8tW2n1k2QEKsTsjwalvbqtKicvg7zS4PrsNinMBMHt/xPzeGNt5r+E06t6rKg67ndCc1djWTXCX2Q8sJyjxekriLqFAo9ZEpJqEhvhjs3LBZIAtnMOb8VnGRVBQKLlKNGoErz7JLl++nJdffpno6OjKjqdOsfv5w/p/lCm3Ns3F3vIK9ypHUrlsNhuWzeDKNlh5mbiy92H5BkNIfWwR2QTYgsis7iDriCCHBevecycYbpm7McnrCGw8hKysrOoJro4J9cnFtvcb6DMZTCFgwB6IbeNsguNzKCC4ukMUkTrK4WMHkwb4YUwAGPPnl4SZ2G1aNKem8CrJCAkJISgoqLJjqXuKcsp+mAIwTijKAoeSuqoQEBCAKycds/UrSr5/Bcyf2V1Uc3wueg0rVL/7VcUqzMQc2lB+ZfJ6/FpcUbUB1WEOiuGse2DHVCj5c06SzRda3oXDaNiaiFQfC4MpiYDiVMj+EXBigtqCXwPw0Te0NYVXScZFF13EpEmTuPzyywkL88wQ4+LiKiWwOsEvFByBuLo/BFGtS8uy/sD2wzPgH65V2KpIbm4uwc5knMte9qxI3Yrz51nY+j1ePYHVQcYvDCumDcZVjNXhJgiKgZQtmHUfQkxbrSxVhWx+QbBj0v8SDABXEex6G6vFY6DlnUWkmhiXhZW/DTK+/19h4X4IbA3hvaovMPHgVZLx9ttvA/DLL7+UqZszZ86pjagOcVkOuPifuNbMgpVTSldii++IdfH7gOa+VJWQkBDM5vXl1rm2fIm98y1oY8QqYnNB17ux7AVYzkNgbJiIjlhnXgBOR7kbg0olceZAwQEIbIKJGghYWBkrIXs9lGQAsdUcoEj1iQiwsGfvJSwwhMw8fflR1aySLMhcCb5xpUmFZYfMnyBvI4R0QMvY1gxeJRlKJCqJsWM2foKjSTdo0BxcJeAfi/O3f2KddVt1R1dnFBQUEOAXWn6lfwjG0ptVlSkx4OvAysuEbZ9Bzh6sqLOgyQWYgIbYjdqiqhjLAQ3vwErbC0teBmcxpvWVWE0eKF1qWKQOCvaxCMjeQdFXr5OXuhN74y7E9hpBhl8CRUVF1R1e3WEKIfYy8A3GMmlAMSbmHHD2heIsQMOcawItYVSdirOwN2iDte7V0nkYAFjY29yDqzgLrMBqDa+ucLlc2Oq1wekTBM5iiGsD2QcgJwlHj7sxIfUhTZONq4SPH1bOblj5FO6VD/YthOT/YvV4CUdgeHVGV6dYPpGwax7m15n/K1w5EdN0IPTWEEKpmwJydpE/ayi4Sv9ml/z2GSVblxI+fA7JRFVzdHWIIwJs2Vhmv7vIMgcxthDwqwdkV19s4uZVkvH0009jWeXvFTB27NhTGlBdYrPbsDbPPCLBADBYm2Zi6/2aNuOrIpZlYYWG43Pb51h2A670P3f9DsaUZGGVaCO+KuMsgh3zKLO0WnE2Jn0jVlDzagmrLrJyD2LWzi5bsfM7rI53oOFSUteEB/pQvHiGO8FwK8jEueMH/FpdQ2GhJitVCbsDy5VSptgiG2PTe1NN4VWSMWDAAI/bGRkZLF68mHPOOadSgqozTBEUpJUtdxZgOfOqPp46ym63gynBYh9W0b7/VVi+4N8djB2tJ1w1LFcR5O4tvy6n/HKpJMW54CoGnyBo1AfsDvjjByhIL139zq4/5FK3OFz5FKXtI+DubyA3FVdeOrbQeoChZM1cfNr7KMmoMk5KJ7JWVCc1gVdJRr9+/cqU9ejRg2nTpnHVVVed6pjqDMs3qHSyUjkbjBnfUNDwzipht5cmEZZzH1hhGL/m4MzBKt4ERVswvu0BTeyrEnZ/TGwPrJw/wC8S/KMgdz+U5EJUh+qOrm7xC4Mu92Il9obUpYATOkzEJO+CgGi9P1UxPz8/wl2pWBjIyiEiIIj0/PJHGEjlKLACCbxyIkW/fITPmedgj22AK+UPSg79gU+P28nKz6/uEOsQx5//jl6G0wI0Z6ymOOE5GZGRkezevftUxlLnlJT4Yms0BNvuzzzKXXE9cbm0ulRVcTgc4MrGGXgeNlseOA+BTxDG/1xM3jYsJRhVx7JBVE+IPxcTHINlszBOg5W6GZddr4mqZAJjsRq3AkcQNL2ztLAwDSt4Dya4HqRpR92qEuhnJ8RyYoVE/fl+ZMPHHkSMSeFQgT5QVRW/wBBM1jYCLniMwpT9OAvzcTToTECrwZTs3QQBkdUdYp3hMhZ2WwK4DoEtorTQZIEVrIEHNYhXScaiRYs8bhcVFfHf//6XFi1aVEpQlWHNmjW8++67uFwuBg4cyGWXXVbdIVGcl0NAq+shJB52LChdXarx+diaXEjBoTwI1OoIVcXl2whb8UasogNHlNoh8GxK9x1TolEVTH4WhDXC8inB5tpaui+DLRDiWuDK07eEVcly5kLU2WBlY5EEGIxfEDS4CCs/GX1bWHWCg0KxkQYpX0DhHrAFYI/ojQlsRpBlJzdfQ3Sqgi3nICa8IQeXzWfTm49TmLKP4KZtaDVyIqFndiLSHsShQ4eqO8w6wXIVYhz+YAvHIhMwGCsIrFCw9Pe6pvAqyfj+++89bvv5+XHmmWcyZMiQSgnqVHO5XMycOZOnnnqKqKgoHn/8cbp06UJCQkK1xuVfLwF+fhkytkGjwWA5IOkHOPQrAb3Gk5muF0pVsCwLG3lYzgNH1TihaDPGcRagOTJVwfiHYvd1YTm3u8sskwfO33EEtqFE31BVGeMTgkUmFrnuMsvKxZgS8I+BzIzqC64Osdvt2MmCpA/A9WfvkSsfUr/Fir6Q4MC2SjKqiC04gvTffmDt8ze7y3J2buCn/xtCz6k/4N+4fTVGV8fY/MGkY/G/hVkscjGuYoyl+WI1hWWMqWjmzGljy5YtzJ07lyeffBKAefPmAXD55ZdXeJ89Dw6r9Lh87U5I20S5k5ciWlLk0grDVcHhcGCzirBMbjm1FsYWRlGRJpJVBV8fO1CAVc7EPWP5YYyvdv2uIr6+DqwKtvU2+FFUdPRYaKkMNpuFw1YMReV8Q245wDeWouLT/s94jeBjt8jd/TvFORll6gLqNcY/thFFRXp/qgo15f2p4cR/VMl1aiuvP8UmJSWxfPly0tLSiIyMpFevXsTHx1dmbKdMWloaUVH/W786KiqKrVu3ehyzcOFCFi5cCMD48ePx8amCoQDOEipcHcG4qiYGKWXZKmgKO2CpLaqMq3Ria3n+/D5EbVFVjtVtZNQOVclVQU/Fn4uGqC2qiLMIV0n5SYSruHQlBLVFVTlWYq33p5rCqyTjp59+YvLkyXTq1ImYmBj279/PY489xsiRI+nSpUtlx3jSyuusOXrfj0GDBjFo0CD3bdeoyt//o164DWvxPaWr5xzJJwQGv0RSlnY3rirx9UKw8lfDUb0Zxr8rLiuSgwfLrsctp150dDQ+tgNYrrLL1Rr7mSQd1LCQqlIvLhybdYiy85FsGFOPpIMZ1RBV3RQf4YT9/yhbEdIeV/hADqZos9CqEB0dTcH819jx1hNl6jo/8CpFDTpUfVB1VL16Udg4QNn3JwtjNSApqZztAaTKeZVkfPjhhzzyyCO0bdvWXbZhwwbeeeedWpFkREVFkZqa6r6dmppKRERENUZUKt+EENhjLCx7EIr/HFdo94Oez1HkEwPoRVJVXMYHm39nrJL9UHIAbAEYn6ZgC+XgASUYVSUlJYX42AiMlYFl/jfW1lixGKeS7qqUl+8iKDAai4Mc2athiKHYqckxVclFILbIgZD23f8KHREQ1lMJRhVKSUkhrtelHPzh32RsWOEub3jRrQQ3akGaRtVWmdzcIoKDY7DMATzen6w4iovVEDWFV0lGWloarVq18ihr2bKlxwf3muyMM84gKSmJ5ORkIiMj+fHHH7n//vurOywyMzOxRzbHb9DM0t4M44Kg+pT4x5KaogSjKh08mEZcXCQ2nybgSCgdPoWDAwfVDlUtKTmbetFNwF5SOhzE8sGUwIFUTb6vSllZWTgckfj51APr8MZXDkqchpSUzOoOr045mF5IXGRLbA2aQEkm2HzBHkpyhpK9qpZuhXDWk/8g/8BuirLS8I+uT0B0PCnFWmK7KmVnZ+NwRODvX5/SvTL+fH8qMaSkZFRvcOLmVZLRpEkT/v3vf3ss+/r555/TpEmTSgrr1LLb7dx666288MILuFwu+vfvT8OGDas7LKA0gStdCrIx0dHRpKSkQI7+gFeHg0ckFO62kGpxIKW0F0PtUL1K359KqS2q10H3viRhaotqluYMgJiWRLcqbYdczfWuFunp6e6f9ZqombxKMm6//XZeeuklvvzyS/fQIz8/P/7v//6vsuM7ZTp16kSnTp2qOwwRERERkdOeV0lGgwYNmDhxIlu2bCE9PZ3IyEgSExNLd0oWERERERE5gtdZgt1uLzMvQ0RERERE5GheJRm7du1i1qxZ7Nq1i4KCAo+6Dz/8sFICExERERGR2smrJOP111+ne/fuDB8+HF9f38qOSUREREREajGvkoyMjAyuvfbaMhvYiYiIiIiIHM3mzUF9+/blhx9+qOxYRERERETkNOBVT8Zll13GU089xbx58wgLC/Ooe+aZZyolMBERERERqZ28SjJeffVVYmNj6datm+ZkiIiIiIjIMXm9utQ777yjfTFEREREROQvWcYY81cHjRs3jqFDh9KkSZMqCElERERERGozryZ+x8TE8PzzzzN9+nTmzJnj8U9Onccee6y6Q5A/qS1qBrVDzaG2qDnUFjWD2qHmUFvUTF6NfyoqKqJTp06UlJSQmppa2TGJiIiIiEgt5lWScc8995Rb7nK5TmkwIiIiIiJS+3k1XOpof/zxB++99x533333qY6nThs0aFB1hyB/UlvUDGqHmkNtUXOoLWoGtUPNobaombya+A2QlZXFDz/8wNKlS9m1axctW7bk/PPPp2fPnpUdo4iIiIiI1CLHHC5VUlLCTz/9xJIlS1i7di316tWjV69eHDp0iNGjR5fZmE9EREREROSYScYdd9yBzWajb9++XHPNNTRr1gyAb775pkqCExERERGR2ueYczIaN25Mbm4u27ZtY/v27eTk5FRVXPKnb775hqVLlwKwZMkS0tLSqjmimuvjjz/ms88+q7brP/XUUwBs2LCB8ePHl3vMvffeS1ZWVlWGVSmSk5N56KGHTvl5p06dysqVK0/5eeWv5ebm8vXXX7tvH+v3WMoaN24cubm5Xh9fWa+hqqDXqVSmDRs2sHnz5uoOQ06BY/ZkjBkzhkOHDrF06VL+/e9/8+6779K+fXsKCwtxOp1VFeNpw+l0Yrfbj+s+5557rvvnJUuW0LBhQyIjI091aOKlY7Xh888/X8XRiJw6ubm5fPPNN5x33nmn5Hwn8n5Xmz3++OPVHcJJcblc2GwntBZMjWWMwRhz2j2u092GDRvw9/fnzDPP9Po+de39prb4yyVsY2JiuOqqq7jqqqvYtGkTS5cuxbIsHnnkEfr378+NN95YFXHWCp988gk//PADUVFRhISE0KxZM3755RdatGjB5s2b6dKlC/Hx8Xz66aeUlJQQEhLCyJEjCQ0NZeTIkbz88ssEBQUBMHLkSJ577jm++eYb/P39iY2NZfv27UyaNAlfX1+GDh3Kd999xyOPPALAunXr+Oabb3j44Yer8yk45QoKCpg4cSJpaWm4XC6uvPJK3n//fcaNG0doaCjbt2/nvffeY8yYMQDs3r2bsWPHkpqayiWXXMKgQYPYsGEDH3/8MWFhYezevZtu3brRqFEjvvjiC4qKinjkkUeoV68eWVlZTJ8+3b0XzC233ELLli35+OOPSU9P59ChQ4SEhHDFFVcwbdo0SkpKMMbw0EMPER8fz0033cR7770HQH5+Pn//+9/Zv38/rVq14vbbby/zh27ZsmV8+eWXlJSU0Lx583KPqclcLhdvvvkmW7ZsITIykv/7v/9j2bJlfPfdd5SUlBAXF8fIkSPx8/Nj6tSpBAQEsGPHDjIyMrjxxhvp0aMHxhjeeecd1q9fT2xsrMf57733Xnr27MmGDRsAeOCBB6hXrx5Tp06lc+fO9OjRA8D9vHvbzlOnTsXHx4e9e/eSmZnJzTffTOfOnav8+atun3/+OYsXLwZgwIABbN26lQMHDvDII4/Qvn17OnXqREFBARMmTGDPnj00a9aMkSNHYlkWO3bsYNasWRQUFBAaGso999xDREQEY8aM8Xi/u/jii6v5UZ46CxYswMfHhwsvvJB//OMf7N69m2eeeYbffvuNxYsXs3nzZsaNG0dBQQHjxo3jzDPP9Hht+Pr6smPHDt544w18fX1p2bJlhdcaM2YMTZo0Ydu2beTn53P33XeTmJhITk4O06ZNIzk5GT8/P+68804aN27MQw89xLPPPvv/7d15VFTX4cDxLwOOw7gBsoghyjISRlxIVBSQEbc2VWlOqqaaExS0MRZxSVBJbKwmiogo1SpqVHCJ1rpEq8Ye40rVIJViTQXFDRGQTQRFHcYBht8f/HiHkUHQYKLmfs7xyMzcd999977tbu+hVCqZOHEi48ePZ8CAAaxcuZIBAwbQrVs3tm3bxsWLF6moqODXv/41Q4cOJT09nd27d2NlZUVWVhbLli0zGe5Jx+mLpqioiKioKDw9Pbly5QqzZs3i0KFDnD9/HoCRI0fi6+srnS9at25d7zz9ww8/sHPnTuk8FhoaikKhMFpPQ2W0c+dOFAoFv/3tbwEIDw8nIiICgEWLFuHh4cHVq1fp3LkzAQEB7Nq1i3v37jFt2jRp+cLCQkpKSoyuYy+boqKiRre3Q4cO9fZnS0tLjhw5gkwm49SpU0yYMAFbW1vWrFlDWVmZdL6xtbUlLi6O1q1bk5WVhYuLCwqFwmTepaenc+DAAemFffHx8bi5uREQEMCUKVPw8/MjPT2dqqoqJk2axPbt2ykoKCAwMJBf/epXT9xXhCd7qhzy8PDgo48+Yt26dYSEhJCdnf280vXSuX79Ov/+979ZsmQJM2fOJDMzU/pNq9XyxRdfEBgYiIeHB5GRkSxZsgRfX1/279+PTCajd+/enD17FoCrV69ib2+PlZWVFEe/fv1wc3Nj2rRpxMTE8Oabb3Lr1i1p6M2JEycICAj4KTf5J3H+/Hmsra2JiYlh2bJleHl5PTF8dnY2n332GQsXLuSbb76RhpfdvHmTkJAQli5dysmTJ8nPzycqKorBgwdz6NAhADZu3MiIESOIiooiPDycr776Soo3MzOT2bNnM336dI4cOcKwYcOIiYlh8eLFtG/fvl46rl27xrhx41i2bBmFhYVS2dbKzc0lKSmJBQsWEBMTI51QXyb5+fm8/fbbxMbGolQqSU5Opm/fvkRFRRETE4OTkxPHjx+Xwt+9e5cvv/ySTz/9lG3btgFw9uxZ8vLyWLZsGR999FG9LnKlUklUVBRvv/02mzZtajRNTSlngNu3bzN//nw+/fRT1q9fj16vb55MeUlkZmZy4sQJIiMjiYyM5NixY7zzzjt06NCBmJgYgoKCALhx4wbBwcHExsZSWFjI5cuXqaysJCEhgfDwcKKjoxk4cCDbt2+X4q57vnuVqNVqMjIygJr80+l0VFZWkpGRgVqtNgpr6tgAWL16NSEhIURGRja6Pp1Ox8KFC5k4cSJr1qwBaoaEuri4sHTpUsaOHcuqVasAeOONN7h8+TI5OTk4ODhw6dIloOZa4u7uzvHjx6VjKSoqimPHjlFUVATUnKvGjh3LX/7ylwbDNXacvmjy8vLQaDQsWbKE69evk5WVRUxMDHPnzuXrr7+mtLQUMH2eLisrY8+ePcydO5fo6GhcXV359ttvTa7HVBk9SUFBgXTtuHXrFqdPn+bLL78kKCiIPXv2SOEauo69bBrbXlP7s729PUOHDmX48OHExMSgVquJj49Ho9GwdOlS+vfvT0JCgrSO/Px85s6dy7hx44BnyztbW1siIyPx8PBg9erVfPLJJ0RGRrJz504pTGPXdMG0Jr2M73FyuZz+/fvTv3//5k7PSysjI4M+ffogl8sBjFpGfX19pb9LSkpYvnw5paWlVFZWSq1Cvr6+7N69m4EDB/L99983+mhgMzMzNBoNJ0+eZODAgVy5coWwsLDnsGU/r06dOvH111+zdetWevXqVe9i/rjevXsjl8uRy+V4enpy7do1WrVqhZubG9bW1gB06NCBHj16SPGnpaUBcOHCBXJzc6W4tFot5eXlRvECuLu7s2fPHu7cuUPfvn1xdHSslw6VSoWDgwMAfn5+ZGRkSC3vAGlpady4cUMaYqHX62nbtu0z5dHPxd7eHmdnZwBcXV25ffs2OTk5/P3vf+fhw4fodDp69uwphe/Tpw8ymQwnJyfu3bsHwKVLl/Dz80Mmk2FjY0O3bt2M1uHn5yf9v3nz5kbT1JRyBvDx8UEmk+Ho6IiDgwN5eXnStvwSZGRk4O3tLbXOent7SzemdalUKqkS7ezsTFFREUqlkpycHBYsWADU9GjV5jkYn+9eJa6urmRmZlJeXk6LFi1wcXEhMzOTjIwMQkJC+Mc//iGFNXVsaLVaHj58SNeuXQHQaDRS67optdfXrl27SstmZGRI8zi6devGgwcP0Gq1qNVqLl68iJ2dHUOHDuXYsWOUlJTQunVrFAoFP/zwA9nZ2VJlR6vVkp+fj4WFBSqVSroONRSuseP0RWNra4u7uztQs6/Xpt3KyoquXbty/fp1LC0tTZ6na3s5586dC9Q8ZbM2rseZKqMnsbe3p1OnTgC8/vrrdO/eHTMzMzp16sTt27elcKauY97e3j8uU34GjW1vcXGxyf35cVevXpVGaWg0GqmRCmoaYOv2KDR0D/AkvXv3BmquEzqdDktLSywtLWnRooVUpo1d0wXTnqmSIdT3pNeNtGzZUvo7ISGBESNG0Lt3b9LT09m1axdQc+NaUFBAWVkZKSkpjBw5stF1BgQEEB0djVwux8fH55Ucj9ixY0eio6M5d+4cf/vb3+jZsycymUzK74qKCqPwZmZmJj+3aNHC6Lvaz2ZmZtKb66urq4mMjJQqE3XVLcP+/fujUqk4d+4ckZGRTJ48+akvutXV1QwYMID333//qZZ7kdTNU5lMhl6vJy4ujlmzZuHs7ExiYqI01Onx8HWPl8fLrK66v9X+bW5ublRmlZWVJtfRUDk3ts5fgia+HqleGdfmoZOTU4Ot8XWPlVeJhYUFdnZ2nDhxAnd3dzp37kxaWhoFBQW89tprRmFNHRvV1dUN7nerV6/mxo0b2NjYNDi3w8zMrMFyU6vVfPfddxQXFzN27FjOnj1LcnKyNCSrurqakJCQej3B6enpRuXVULj//ve/L9Ux8/jQpqdRXV1N9+7dmTFjxlMva2Zmhrm5uVE51e0lfdbz08uU93U1tr3NMdzo8bI2lXePl8nj9w0WFjW3wjKZrN6xK+Yf/zhiQFkz8fDwIDU1Fb1ej06n49y5cybDabVaaeJ27VOjoOZA8Pb2ZvPmzTg5OdGmTZt6yyoUCqllHcDGxgZra2u++eabV3KoFNT0/MjlcjQaDYGBgWRmZmJvby8NR3v8CScpKSno9Xru379Peno6bm5uTV5Xjx49jIbUZGVlmQxXWFiIg4MDw4YNo3fv3ty8ebNemGvXrlFUVITBYODMmTP1xl93796d5ORkqUX/wYMHRi1ZLyudToe1tTWVlZVNGv6lVqtJSkrCYDBQWlpqVCkBSEpKkv7v0qULUDNPrLb8U1JSnukikJycjMFgoKCggMLCQjp27PjUcbzM1Go1KSkpPHr0CJ1OR0pKCh4eHkbnl4Z07NiRsrIyrly5AtS09Obk5DzvJL8Q1Go1Bw4cQK1W4+HhwZEjR3B2dm7STWCrVq1QKpXSkKu6x0doaCgxMTFGFYzafT8jIwOlUolSqUStVkvLpaen06ZNG5RKJba2tty/f5+CggIcHBzw8PCQ0gng5eXF4cOHpQp5Xl4eOp2uXhobCtfYcfoiU6vVnDlzBoPBQFlZGZcuXUKlUgGmz9O1c4oKCgoAePToEXl5eSbjNlVGdnZ23LhxA6gZVlc7LO1p/Jjr2Mukof3Z0tLSaP90d3eX8vr06dNPnM9kKu9sbW3Jzc2loqICrVbLhQsXnjqtjV3TBdNET0YzUalU9OrVi1mzZmFnZ4ebmxtKpbJeuNGjRxMbG4uNjQ1dunQxOgH5+vry2WefERoaanIdAQEBrF+/HrlcLrW4+/v7c//+fZycnJ7btv2csrOz2bp1K2ZmZlhYWPCHP/wBvV7P2rVr2bt3r3SxqKVSqVi8eDHFxcWMHDkSGxsb8vPzm7SukJAQ4uPjmTlzJlVVVajVaiZNmlQvXFJSEqdOncLc3BwrKytGjRpVL4y7uzvbtm0jOzsbtVpdr6vbycmJMWPGsHDhQqqrqzE3N2fixInY2dk9Re68eH7/+98zZ84c7Ozs6NSpU6M3rd7e3qSlpUmT5x8fDldRUcGcOXOorq5m+vTpAAwePFi6IevevfsztZw7Ojoyf/587t27x4cffmiy9+pV5urqSkBAAHPmzAFqJn67urryxhtvEB4ejpeXF2+99ZbJZS0sLAgPD2fjxo1otVqqqqoYNmwYr7/++k+5CT8LtVrN3r17cXd3R6FQIJfLGx3CWVdoaKg08bvuUEJTWrduzeeffy5NKgZ47733WL16NTNnzqRly5ZMmTJFCq9SqaTWcLVazfbt26UboUGDBlFUVCRNQG7btq300JC6GgrX2HH6IvP29pYmgAN88MEHWFlZcevWLZPnaZlMxpQpU1ixYoXU4j1mzBiTDRGmyqhfv36cPHmSWbNm4ebm9kwNGKauY6+ihvbnXr16ERsbS0pKChMmTCAkJIQ1a9awf/9+aeJ3QxrKOx8fH2bOnImjoyMuLi5PndbGrumCaWbVTe03Fxql0+lQKBQ8evSIefPmMWnSJOkFhs9LfHw8Li4uDBo06LmuRxB+alOmTJGeItacHn86lSC8aObPn09QUNAr24L9Inj8iUNP63mV0eNPpxKa7nnl3Y/dV37JRE9GM/rqq6+kLrkBAwY89wpGREQECoVCeqqCIAiCIAiCILwIRE+GIAiCIAiCIAjNSkz8FgRBEARBEAShWYlKhiAIgiAIgiAIzUpUMgRBEARBEARBaFaikiEIgvCKWrRoEYmJiT93Mn4SiYmJ0luaBUEQhJ+feLqUIAjCU5gyZQp37941elttQEAAEydOfOJy6enprFy5krVr1z6XdO3cuZOCggKmTZsmfVf7HozmFhcXR/v27RkzZsxziV8QBEF4+YlKhiAIwlOKiIigR48ezR5vVVUV5ubmzR6vIAiCIPzURCVDEAShmaxfv56ysjLCw8MB2Lp1K5mZmcyePZtFixZRWVlJUFAQACtWrODo0aPk5OTQokULUlNTGTduHJ07d2bjxo3cunULuVxO3759GT9+PBYWNafrnJwcNm3aRGZmJhYWFvzmN7/B1dWVvXv3ApCSkkKHDh2IiYlh/vz5+Pv7M3jwYAwGA3v37uXYsWPo9Xq8vLyYMGECSqWSoqIiwsLCCA0NZceOHej1eoYPH87vfve7ett49OhRTp8+DcDBgwfx9PSka9euXLlyhZkzZ0rhEhISkMlkBAcHM3/+fNzd3blw4QJ5eXl4enoSGhpK69atAbhy5QpbtmwhNzcXOzs7goOD8fT0NJnHxcXFbNq0iUuXLlFdXY2fn5/JXqSNGzdy9uxZtFotHTp0IDg4WHpT9bVr19iwYQP5+fnI5XL69+/P+PHj0ev1rF27lvPnz2MwGHB0dCQiIgIrK6tn2R0EQRB+0UQlQxAEoZmMGzeO2bNnk5iYiIODAydOnGDJkiUoFArmzJljcrjUf/7zHz7++GPCwsKorKwkNzeX8ePH4+bmxp07d4iKiuK7775j+PDhlJeXs2DBAgIDA4mIiKCqqorc3Fy6dOnCu+++W2+4VF2JiYkkJiYyb9482rVrx6pVq4iPj2fq1KlSmIyMDFasWEFeXh5z5szB29sbJycno3iGDBnC5cuXjYZLlZaWsmvXLh4+fEirVq2oqqoiKSnJaLjWv/71L/70pz9hb2/PqlWrSEhIYNq0aZSUlLB48WLCwsLw8vIiLS2NZcuWsXz58npvezcYDERHR+Pp6UlcXBwymYzMzEyT2+vm5saoUaNQKpX885//JDY2lri4OORyORs3bmTYsGFoNBp0Oh3Z2dlSGrVaLWvWrKFFixZkZWUhl8ubWPqCIAhCXWLityAIwlOKiYkhODhY+nf06FEAWrZsydSpU9m8eTMrV64kJCSE9u3bPzEud3d3vL29kclkyOVyXF1dcXd3x9zcHHt7e4YMGcLFixcBSE1NxcrKisDAQORyOZaWlnTp0qVJaT59+jQjRozAwcEBhULB+++/T1JSElVVVVKY0aNHI5fLcXZ2pnPnzty8ebNJcVtbW6NWqzlz5gwA58+fp02bNri6ukphNBoNnTp1QqFQMGbMGM6cOYPBYODkyZO8+eabvPXWW8hkMnr06IGbmxvnzp2rt55r165RUlJCUFAQCoUCuVyOh4eHyTRpNBratGmDubk5gYGBVFZWkpeXB4CFhQUFBQWUlZWhUChwd3cHwNzcnAcPHlBQUIBMJsPV1RWlUtmkPBAEQRCMiZ4MQRCEpzRr1qwG52SoVCocHBy4d+8evr6+jcb1eCUkLy+PLVu2cP36dfR6PVVVVdLN+p07d3BwcHimNJeWlmJnZyd9trW1paqqinv37knf1R0W1LJlS3Q6XZPjHzBgAIcPH2bIkCGcOnUKjUZj9Hvd7axdd1lZGcXFxSQnJ5Oamir9XlVVZXK4VHFxMXZ2dk2at3LgwAGOHz9OSUkJZmZmlJeXc//+fQAmT57Mjh07+Pjjj7G3t2fUqFH06tULjUbDnTt3WL58OVqtFn9/f8aMGSMNVRMEQRCaTpw5BUEQmtGhQ4eoqKjAxsaGffv28e677wJgZmbWpOU3bNiAs7Mz06dPx9LSkoMHD5KcnAzU3Kh///33JpdrLH5ra2tu374tfS4uLsbc3Jx27dpx586dJqXtSevq06cPGzZsIDs7m9TUVD744AOj3+uuo3bdbdu2pX379vj7+zN58uRG12tra0txcXGjE+QvXbrEvn37+POf/4yTkxMymYyQkBCqq6sBcHR0ZMaMGRgMBs6ePUtsbCzx8fEoFApGjx7N6NGjKSoqIioqio4dOzJo0KCmZo0gCILw/8RwKUEQhGaSl5fHjh07mDp1KmFhYezfv5+srCwA2rVrx/3799FqtU+Mo7y8HKVSiUKh4NatWxw+fFj6rVevXty9e5eDBw9SUVFBeXk5V69eleK/ffs2BoPBZLx+fn4cPHiQoqIidDod27dvx8fH55meZtWuXTsKCwuNvqudpP7Xv/4VlUqFra2t0e+nTp0iNzeXR48esXPnTvr164dMJsPf35/U1FRpsrVeryc9Pd1kxUelUmFtbc22bdvQ6XTo9XoyMjJM5mFtJcZgMLB7926jfD958iRlZWXIZDJpOJRMJiMtLY3s7GwMBgNKpRILCwujRxULgiAITSd6MgRBEJ5SdHS00c1njx49+OSTT1i5ciXvvPMOzs7OAIwdO5aVK1eyePFiXnvtNfz8/AgLC8NgMBAbG2sy7qCgINatW8e+fftwcXHB19eXtLQ0ACwtLfn888/ZtGkTu3fvxsLCguHDh9OlSxd8fHw4deoUEydOxN7enujoaKN4Bw4cSGlpKfPmzUOv19OzZ08mTJjwTNs/aNAgYmNjCQ4OpmvXrsyePRuoeV/I8ePH+eMf/1hvGY1GQ1xcHHl5eajVakJDQ4Ga3onZs2ezdetWVqxYgUwmQ6VS8eGHH9aLQyaTERERQUJCAqGhoZiZmeHn51dvXoaXlxdeXl5Mnz6dli1bMnz4cKNKz/nz59myZQuPHj3Czs6O6dOnI5fLuXv3LuvXr6ekpASFQoGPjw/+/v7PlEeCIAi/dGbVtf3HgiAIgvAjFBcXM2PGDNatW2c0Ybruo3QFQRCEXwbRDywIgiD8aAaDgW+//RZfX1/xRCZBEARBVDIEQRCEH0en0zF+/Hj+97//8d577/3cyREEQRBeAGK4lCAIgiAIgiAIzUr0ZAiCIAiCIAiC0KxEJUMQBEEQBEEQhGYlKhmCIAiCIAiCIDQrUckQBEEQBEEQBKFZiUqGIAiCIAiCIAjN6v8AjMx+f6M+t6IAAAAASUVORK5CYII=",
      "text/plain": [
       "<Figure size 782.875x360 with 1 Axes>"
      ]
     },
     "metadata": {},
     "output_type": "display_data"
    }
   ],
   "source": [
    "# relational plot 'sqft_above' vs 'price' with respect to 'waterfront'\n",
    "plt.figure(figsize = (18, 10))\n",
    "sns.relplot(x = 'extraction_type_class',\n",
    "            y = 'amount_tsh',\n",
    "            hue = 'gps_height',\n",
    "            data = data,\n",
    "            s = 50, aspect=2, palette = 'YlOrBr')\n",
    "plt.axhline(data['amount_tsh'].min())\n",
    "plt.title('Extraction type class vs amount_tsh with respect to gps height')\n",
    "plt.xlabel('Extraction type class')\n",
    "plt.ylabel('Amount of water available in kilogram-metre per minute')\n",
    "plt.show()"
   ]
  },
  {
   "cell_type": "markdown",
   "metadata": {},
   "source": [
    "#### Observations:\n",
    "Those water points of `extraction_type_class` motorpump do not need to be above a height of 500 meters to have water available.\n",
    "\n",
    "Submersible have the most amount of water available despite the height, they are generally located at low atltitude areas.\n",
    "\n",
    "Rope pump and wind_powered have the least amount of water available.\n",
    "\n",
    "Gravity and handpump type classes seem are generally located at the high altitude areas."
   ]
  },
  {
   "cell_type": "code",
   "execution_count": 133,
   "metadata": {},
   "outputs": [
    {
     "data": {
      "text/plain": [
       "<Figure size 1296x720 with 0 Axes>"
      ]
     },
     "metadata": {},
     "output_type": "display_data"
    },
    {
     "data": {
      "image/png": "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",
      "text/plain": [
       "<Figure size 801.375x360 with 1 Axes>"
      ]
     },
     "metadata": {},
     "output_type": "display_data"
    }
   ],
   "source": [
    "# relational plot 'sqft_above' vs 'price' with respect to 'waterfront'\n",
    "plt.figure(figsize = (18, 10))\n",
    "sns.relplot(x = 'extraction_type_class',\n",
    "            y = 'amount_tsh',\n",
    "            hue = 'quality_group',\n",
    "            data = data,\n",
    "            s = 50, aspect=2, palette = 'YlOrBr')\n",
    "plt.axhline(data['amount_tsh'].min())\n",
    "plt.title('Extraction type class vs amount_tsh with respect to gps height')\n",
    "plt.xlabel('Extraction type class')\n",
    "plt.ylabel('Amount of water available in kilogram-metre per minute')\n",
    "plt.show()"
   ]
  },
  {
   "cell_type": "code",
   "execution_count": 136,
   "metadata": {},
   "outputs": [
    {
     "data": {
      "text/plain": [
       "<Figure size 1440x720 with 0 Axes>"
      ]
     },
     "metadata": {},
     "output_type": "display_data"
    },
    {
     "data": {
      "image/png": "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",
      "text/plain": [
       "<Figure size 811.75x360 with 1 Axes>"
      ]
     },
     "metadata": {},
     "output_type": "display_data"
    }
   ],
   "source": [
    "# relational plot 'sqft_above' vs 'price' with respect to 'waterfront'\n",
    "plt.figure(figsize = (20, 10))\n",
    "sns.relplot(x = 'basin',\n",
    "            y = 'population',\n",
    "            hue = 'quantity',\n",
    "            data = data,\n",
    "            s = 50, aspect=2, palette = 'YlOrBr')\n",
    "plt.axhline(data['amount_tsh'].min())\n",
    "plt.title('Extraction type class vs amount_tsh with respect to gps height')\n",
    "plt.xlabel('Extraction type class')\n",
    "plt.ylabel('Amount of water available in kilogram-metre per minute')\n",
    "plt.show()"
   ]
  },
  {
   "cell_type": "code",
=======
>>>>>>> a67f86bf978a8e30b3f3d93419a2b246712377e6
   "execution_count": null,
   "metadata": {},
   "outputs": [],
   "source": []
  }
 ],
 "metadata": {
  "kernelspec": {
   "display_name": "Python (learn-env)",
   "language": "python",
   "name": "learn-env"
  },
  "language_info": {
   "codemirror_mode": {
    "name": "ipython",
    "version": 3
   },
   "file_extension": ".py",
   "mimetype": "text/x-python",
   "name": "python",
   "nbconvert_exporter": "python",
   "pygments_lexer": "ipython3",
   "version": "3.8.5"
  }
 },
 "nbformat": 4,
 "nbformat_minor": 4
}
